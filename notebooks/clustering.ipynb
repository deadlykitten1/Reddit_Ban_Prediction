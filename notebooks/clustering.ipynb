{
 "cells": [
  {
   "cell_type": "code",
   "execution_count": 132,
   "metadata": {},
   "outputs": [],
   "source": [
    "import pandas as pd\n",
    "\n",
    "from sklearn.feature_extraction.text import TfidfVectorizer\n",
    "from sklearn.cluster import KMeans\n",
    "from sklearn.cluster import AgglomerativeClustering\n",
    "\n",
    "from gensim.models.ldamodel import LdaModel\n",
    "from gensim.corpora import Dictionary\n"
   ]
  },
  {
   "cell_type": "code",
   "execution_count": 133,
   "metadata": {},
   "outputs": [],
   "source": [
    "processed_df = pd.read_pickle('../data/preprocessed_df.pkl')"
   ]
  },
  {
   "cell_type": "code",
   "execution_count": 134,
   "metadata": {},
   "outputs": [
    {
     "data": {
      "text/html": [
       "<div>\n",
       "<style scoped>\n",
       "    .dataframe tbody tr th:only-of-type {\n",
       "        vertical-align: middle;\n",
       "    }\n",
       "\n",
       "    .dataframe tbody tr th {\n",
       "        vertical-align: top;\n",
       "    }\n",
       "\n",
       "    .dataframe thead th {\n",
       "        text-align: right;\n",
       "    }\n",
       "</style>\n",
       "<table border=\"1\" class=\"dataframe\">\n",
       "  <thead>\n",
       "    <tr style=\"text-align: right;\">\n",
       "      <th></th>\n",
       "      <th>text</th>\n",
       "    </tr>\n",
       "  </thead>\n",
       "  <tbody>\n",
       "    <tr>\n",
       "      <th>TheRedPill</th>\n",
       "      <td>google fire ph.d biologist/engineer claiming a...</td>\n",
       "    </tr>\n",
       "    <tr>\n",
       "      <th>BlackPeopleTwitter</th>\n",
       "      <td>wildest trend imo corjay lmao_shippuden inco l...</td>\n",
       "    </tr>\n",
       "    <tr>\n",
       "      <th>WhitePeopleTwitter</th>\n",
       "      <td>solution obvious shooting foot secular talk vv...</td>\n",
       "    </tr>\n",
       "    <tr>\n",
       "      <th>politics</th>\n",
       "      <td>megathread joe biden projected defeat presiden...</td>\n",
       "    </tr>\n",
       "    <tr>\n",
       "      <th>law</th>\n",
       "      <td>law school leaked draft dobbs opinion justice ...</td>\n",
       "    </tr>\n",
       "  </tbody>\n",
       "</table>\n",
       "</div>"
      ],
      "text/plain": [
       "                                                                 text\n",
       "TheRedPill          google fire ph.d biologist/engineer claiming a...\n",
       "BlackPeopleTwitter  wildest trend imo corjay lmao_shippuden inco l...\n",
       "WhitePeopleTwitter  solution obvious shooting foot secular talk vv...\n",
       "politics            megathread joe biden projected defeat presiden...\n",
       "law                 law school leaked draft dobbs opinion justice ..."
      ]
     },
     "execution_count": 134,
     "metadata": {},
     "output_type": "execute_result"
    }
   ],
   "source": [
    "processed_df.head()"
   ]
  },
  {
   "cell_type": "code",
   "execution_count": 135,
   "metadata": {},
   "outputs": [],
   "source": [
    "tfidf_vectorizer = TfidfVectorizer(max_df = .9)\n",
    "\n",
    "text_transformed = tfidf_vectorizer.fit_transform(processed_df['text'])"
   ]
  },
  {
   "cell_type": "code",
   "execution_count": 136,
   "metadata": {},
   "outputs": [
    {
     "data": {
      "text/plain": [
       "<180x89763 sparse matrix of type '<class 'numpy.float64'>'\n",
       "\twith 451408 stored elements in Compressed Sparse Row format>"
      ]
     },
     "execution_count": 136,
     "metadata": {},
     "output_type": "execute_result"
    }
   ],
   "source": [
    "text_transformed"
   ]
  },
  {
   "cell_type": "code",
   "execution_count": 137,
   "metadata": {},
   "outputs": [
    {
     "data": {
      "text/plain": [
       "KMeans(n_clusters=5, random_state=305)"
      ]
     },
     "execution_count": 137,
     "metadata": {},
     "output_type": "execute_result"
    }
   ],
   "source": [
    "k_clusterer = KMeans(n_clusters = 5, random_state = 305)\n",
    "\n",
    "k_clusterer.fit(text_transformed)"
   ]
  },
  {
   "cell_type": "code",
   "execution_count": 138,
   "metadata": {},
   "outputs": [],
   "source": [
    "processed_df['k_means_labels'] = k_clusterer.labels_"
   ]
  },
  {
   "cell_type": "code",
   "execution_count": 139,
   "metadata": {},
   "outputs": [
    {
     "data": {
      "text/plain": [
       "3    96\n",
       "4    44\n",
       "1    26\n",
       "2     8\n",
       "0     6\n",
       "Name: k_means_labels, dtype: int64"
      ]
     },
     "execution_count": 139,
     "metadata": {},
     "output_type": "execute_result"
    }
   ],
   "source": [
    "processed_df['k_means_labels'].value_counts()"
   ]
  },
  {
   "cell_type": "code",
   "execution_count": 140,
   "metadata": {},
   "outputs": [
    {
     "data": {
      "text/html": [
       "<div>\n",
       "<style scoped>\n",
       "    .dataframe tbody tr th:only-of-type {\n",
       "        vertical-align: middle;\n",
       "    }\n",
       "\n",
       "    .dataframe tbody tr th {\n",
       "        vertical-align: top;\n",
       "    }\n",
       "\n",
       "    .dataframe thead th {\n",
       "        text-align: right;\n",
       "    }\n",
       "</style>\n",
       "<table border=\"1\" class=\"dataframe\">\n",
       "  <thead>\n",
       "    <tr style=\"text-align: right;\">\n",
       "      <th></th>\n",
       "      <th>text</th>\n",
       "      <th>k_means_labels</th>\n",
       "    </tr>\n",
       "  </thead>\n",
       "  <tbody>\n",
       "    <tr>\n",
       "      <th>worldnews</th>\n",
       "      <td>anti-gay hungarian politician resigned caught ...</td>\n",
       "      <td>3</td>\n",
       "    </tr>\n",
       "    <tr>\n",
       "      <th>Jokes</th>\n",
       "      <td>sad news founder /r/jokes passed away rip larr...</td>\n",
       "      <td>3</td>\n",
       "    </tr>\n",
       "    <tr>\n",
       "      <th>funny</th>\n",
       "      <td>cab driver tonight excited share made cover ca...</td>\n",
       "      <td>3</td>\n",
       "    </tr>\n",
       "    <tr>\n",
       "      <th>gaming</th>\n",
       "      <td>showing year someone care srgrafo parent late ...</td>\n",
       "      <td>3</td>\n",
       "    </tr>\n",
       "    <tr>\n",
       "      <th>Games</th>\n",
       "      <td>john totalbiscuit bain july 8 1984 24 2018 cyb...</td>\n",
       "      <td>3</td>\n",
       "    </tr>\n",
       "    <tr>\n",
       "      <th>...</th>\n",
       "      <td>...</td>\n",
       "      <td>...</td>\n",
       "    </tr>\n",
       "    <tr>\n",
       "      <th>CCW</th>\n",
       "      <td>cashier sensed trouble trusted gut please idio...</td>\n",
       "      <td>3</td>\n",
       "    </tr>\n",
       "    <tr>\n",
       "      <th>Glocks</th>\n",
       "      <td>watching shit knowing damn well ammo price goi...</td>\n",
       "      <td>3</td>\n",
       "    </tr>\n",
       "    <tr>\n",
       "      <th>tacticalgear</th>\n",
       "      <td>snuck basement 👍🏼 cool gun unfortunately gun l...</td>\n",
       "      <td>3</td>\n",
       "    </tr>\n",
       "    <tr>\n",
       "      <th>liberalgunowners</th>\n",
       "      <td>fight net neutrality view gun ownership side g...</td>\n",
       "      <td>3</td>\n",
       "    </tr>\n",
       "    <tr>\n",
       "      <th>Offensivejokes</th>\n",
       "      <td>vegan view vegan think animal die wild mac che...</td>\n",
       "      <td>3</td>\n",
       "    </tr>\n",
       "  </tbody>\n",
       "</table>\n",
       "<p>96 rows × 2 columns</p>\n",
       "</div>"
      ],
      "text/plain": [
       "                                                               text  \\\n",
       "worldnews         anti-gay hungarian politician resigned caught ...   \n",
       "Jokes             sad news founder /r/jokes passed away rip larr...   \n",
       "funny             cab driver tonight excited share made cover ca...   \n",
       "gaming            showing year someone care srgrafo parent late ...   \n",
       "Games             john totalbiscuit bain july 8 1984 24 2018 cyb...   \n",
       "...                                                             ...   \n",
       "CCW               cashier sensed trouble trusted gut please idio...   \n",
       "Glocks            watching shit knowing damn well ammo price goi...   \n",
       "tacticalgear      snuck basement 👍🏼 cool gun unfortunately gun l...   \n",
       "liberalgunowners  fight net neutrality view gun ownership side g...   \n",
       "Offensivejokes    vegan view vegan think animal die wild mac che...   \n",
       "\n",
       "                  k_means_labels  \n",
       "worldnews                      3  \n",
       "Jokes                          3  \n",
       "funny                          3  \n",
       "gaming                         3  \n",
       "Games                          3  \n",
       "...                          ...  \n",
       "CCW                            3  \n",
       "Glocks                         3  \n",
       "tacticalgear                   3  \n",
       "liberalgunowners               3  \n",
       "Offensivejokes                 3  \n",
       "\n",
       "[96 rows x 2 columns]"
      ]
     },
     "execution_count": 140,
     "metadata": {},
     "output_type": "execute_result"
    }
   ],
   "source": [
    "processed_df.loc[processed_df['k_means_labels'] == 3]"
   ]
  },
  {
   "cell_type": "code",
   "execution_count": 141,
   "metadata": {},
   "outputs": [
    {
     "data": {
      "text/plain": [
       "AgglomerativeClustering(compute_full_tree=True, distance_threshold=1.65,\n",
       "                        n_clusters=None)"
      ]
     },
     "execution_count": 141,
     "metadata": {},
     "output_type": "execute_result"
    }
   ],
   "source": [
    "agg_clusterer = AgglomerativeClustering(n_clusters = None, distance_threshold = 1.65, compute_full_tree = True)\n",
    "agg_clusterer.fit(text_transformed.toarray())"
   ]
  },
  {
   "cell_type": "code",
   "execution_count": 142,
   "metadata": {},
   "outputs": [],
   "source": [
    "processed_df['agg_labels'] = agg_clusterer.labels_"
   ]
  },
  {
   "cell_type": "code",
   "execution_count": 143,
   "metadata": {},
   "outputs": [
    {
     "data": {
      "text/plain": [
       "5     37\n",
       "2     26\n",
       "1     22\n",
       "6     21\n",
       "13    15\n",
       "4     11\n",
       "0     10\n",
       "14     9\n",
       "7      6\n",
       "8      5\n",
       "9      5\n",
       "3      5\n",
       "11     4\n",
       "10     2\n",
       "12     2\n",
       "Name: agg_labels, dtype: int64"
      ]
     },
     "execution_count": 143,
     "metadata": {},
     "output_type": "execute_result"
    }
   ],
   "source": [
    "processed_df['agg_labels'].value_counts()"
   ]
  },
  {
   "cell_type": "code",
   "execution_count": 144,
   "metadata": {},
   "outputs": [
    {
     "data": {
      "text/html": [
       "<div>\n",
       "<style scoped>\n",
       "    .dataframe tbody tr th:only-of-type {\n",
       "        vertical-align: middle;\n",
       "    }\n",
       "\n",
       "    .dataframe tbody tr th {\n",
       "        vertical-align: top;\n",
       "    }\n",
       "\n",
       "    .dataframe thead th {\n",
       "        text-align: right;\n",
       "    }\n",
       "</style>\n",
       "<table border=\"1\" class=\"dataframe\">\n",
       "  <thead>\n",
       "    <tr style=\"text-align: right;\">\n",
       "      <th></th>\n",
       "      <th>text</th>\n",
       "      <th>k_means_labels</th>\n",
       "      <th>agg_labels</th>\n",
       "    </tr>\n",
       "  </thead>\n",
       "  <tbody>\n",
       "    <tr>\n",
       "      <th>Coronavirus</th>\n",
       "      <td>covid-19 unavoidable delaying infection flatte...</td>\n",
       "      <td>4</td>\n",
       "      <td>8</td>\n",
       "    </tr>\n",
       "    <tr>\n",
       "      <th>COVID19</th>\n",
       "      <td>stanford researcher confirm n95 mask sterilize...</td>\n",
       "      <td>4</td>\n",
       "      <td>8</td>\n",
       "    </tr>\n",
       "    <tr>\n",
       "      <th>Masks4All</th>\n",
       "      <td>asked mum mask guess 40 year still little boy ...</td>\n",
       "      <td>3</td>\n",
       "      <td>8</td>\n",
       "    </tr>\n",
       "    <tr>\n",
       "      <th>CoronavirusCirclejerk</th>\n",
       "      <td>reddit shut nnn hear opinion echo chamber upv...</td>\n",
       "      <td>4</td>\n",
       "      <td>8</td>\n",
       "    </tr>\n",
       "    <tr>\n",
       "      <th>HermanCainAward</th>\n",
       "      <td>saw newbie asking called herman cain award mad...</td>\n",
       "      <td>4</td>\n",
       "      <td>8</td>\n",
       "    </tr>\n",
       "  </tbody>\n",
       "</table>\n",
       "</div>"
      ],
      "text/plain": [
       "                                                                    text  \\\n",
       "Coronavirus            covid-19 unavoidable delaying infection flatte...   \n",
       "COVID19                stanford researcher confirm n95 mask sterilize...   \n",
       "Masks4All              asked mum mask guess 40 year still little boy ...   \n",
       "CoronavirusCirclejerk   reddit shut nnn hear opinion echo chamber upv...   \n",
       "HermanCainAward        saw newbie asking called herman cain award mad...   \n",
       "\n",
       "                       k_means_labels  agg_labels  \n",
       "Coronavirus                         4           8  \n",
       "COVID19                             4           8  \n",
       "Masks4All                           3           8  \n",
       "CoronavirusCirclejerk               4           8  \n",
       "HermanCainAward                     4           8  "
      ]
     },
     "execution_count": 144,
     "metadata": {},
     "output_type": "execute_result"
    }
   ],
   "source": [
    "processed_df.loc[processed_df['agg_labels'] == 8]"
   ]
  }
 ],
 "metadata": {
  "interpreter": {
   "hash": "1c7ae5ca7afa47d1c118e1cc9ccaf65a17609b650c517e098aee76b19a0109a3"
  },
  "kernelspec": {
   "display_name": "Python 3.9.7 ('base')",
   "language": "python",
   "name": "python3"
  },
  "language_info": {
   "codemirror_mode": {
    "name": "ipython",
    "version": 3
   },
   "file_extension": ".py",
   "mimetype": "text/x-python",
   "name": "python",
   "nbconvert_exporter": "python",
   "pygments_lexer": "ipython3",
   "version": "3.9.7"
  },
  "orig_nbformat": 4
 },
 "nbformat": 4,
 "nbformat_minor": 2
}
