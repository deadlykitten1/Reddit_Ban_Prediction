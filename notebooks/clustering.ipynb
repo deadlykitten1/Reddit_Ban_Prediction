{
 "cells": [
  {
   "cell_type": "code",
   "execution_count": 1,
   "metadata": {},
   "outputs": [],
   "source": [
    "import pandas as pd\n",
    "\n",
    "from sklearn.feature_extraction.text import TfidfVectorizer\n",
    "from sklearn.cluster import KMeans\n",
    "from sklearn.cluster import AgglomerativeClustering\n",
    "\n",
    "from gensim.models.ldamodel import LdaModel\n",
    "from gensim.corpora import Dictionary\n"
   ]
  },
  {
   "cell_type": "code",
   "execution_count": 2,
   "metadata": {},
   "outputs": [],
   "source": [
    "processed_df = pd.read_pickle('../data/preprocessed_df.pkl')"
   ]
  },
  {
   "cell_type": "code",
   "execution_count": 3,
   "metadata": {},
   "outputs": [
    {
     "data": {
      "text/html": [
       "<div>\n",
       "<style scoped>\n",
       "    .dataframe tbody tr th:only-of-type {\n",
       "        vertical-align: middle;\n",
       "    }\n",
       "\n",
       "    .dataframe tbody tr th {\n",
       "        vertical-align: top;\n",
       "    }\n",
       "\n",
       "    .dataframe thead th {\n",
       "        text-align: right;\n",
       "    }\n",
       "</style>\n",
       "<table border=\"1\" class=\"dataframe\">\n",
       "  <thead>\n",
       "    <tr style=\"text-align: right;\">\n",
       "      <th></th>\n",
       "      <th>text</th>\n",
       "    </tr>\n",
       "  </thead>\n",
       "  <tbody>\n",
       "    <tr>\n",
       "      <th>TheRedPill</th>\n",
       "      <td>google fire ph.d biologist/engineer claiming a...</td>\n",
       "    </tr>\n",
       "    <tr>\n",
       "      <th>ivermectin</th>\n",
       "      <td>evidence whatsoever ivermectin safer treatment...</td>\n",
       "    </tr>\n",
       "    <tr>\n",
       "      <th>BlackPeopleTwitter</th>\n",
       "      <td>wildest trend imo gon come world shamble fraud...</td>\n",
       "    </tr>\n",
       "    <tr>\n",
       "      <th>WhitePeopleTwitter</th>\n",
       "      <td>solution obvious shooting foot  choice clear b...</td>\n",
       "    </tr>\n",
       "    <tr>\n",
       "      <th>politics</th>\n",
       "      <td>megathread joe biden projected defeat presiden...</td>\n",
       "    </tr>\n",
       "  </tbody>\n",
       "</table>\n",
       "</div>"
      ],
      "text/plain": [
       "                                                                 text\n",
       "TheRedPill          google fire ph.d biologist/engineer claiming a...\n",
       "ivermectin          evidence whatsoever ivermectin safer treatment...\n",
       "BlackPeopleTwitter  wildest trend imo gon come world shamble fraud...\n",
       "WhitePeopleTwitter  solution obvious shooting foot  choice clear b...\n",
       "politics            megathread joe biden projected defeat presiden..."
      ]
     },
     "execution_count": 3,
     "metadata": {},
     "output_type": "execute_result"
    }
   ],
   "source": [
    "processed_df.head()"
   ]
  },
  {
   "cell_type": "code",
   "execution_count": 4,
   "metadata": {},
   "outputs": [],
   "source": [
    "tfidf_vectorizer = TfidfVectorizer(max_df = .95)\n",
    "\n",
    "text_transformed = tfidf_vectorizer.fit_transform(processed_df['text'])"
   ]
  },
  {
   "cell_type": "code",
   "execution_count": 5,
   "metadata": {},
   "outputs": [
    {
     "data": {
      "text/plain": [
       "<235x48331 sparse matrix of type '<class 'numpy.float64'>'\n",
       "\twith 286842 stored elements in Compressed Sparse Row format>"
      ]
     },
     "execution_count": 5,
     "metadata": {},
     "output_type": "execute_result"
    }
   ],
   "source": [
    "text_transformed"
   ]
  },
  {
   "cell_type": "code",
   "execution_count": 6,
   "metadata": {},
   "outputs": [
    {
     "data": {
      "text/plain": [
       "KMeans(n_clusters=5, random_state=305)"
      ]
     },
     "execution_count": 6,
     "metadata": {},
     "output_type": "execute_result"
    }
   ],
   "source": [
    "k_clusterer = KMeans(n_clusters = 5, random_state = 305)\n",
    "\n",
    "k_clusterer.fit(text_transformed)"
   ]
  },
  {
   "cell_type": "code",
   "execution_count": 7,
   "metadata": {},
   "outputs": [],
   "source": [
    "processed_df['k_means_labels'] = k_clusterer.labels_"
   ]
  },
  {
   "cell_type": "code",
   "execution_count": 8,
   "metadata": {},
   "outputs": [
    {
     "data": {
      "text/plain": [
       "0    120\n",
       "4     47\n",
       "1     30\n",
       "2     29\n",
       "3      9\n",
       "Name: k_means_labels, dtype: int64"
      ]
     },
     "execution_count": 8,
     "metadata": {},
     "output_type": "execute_result"
    }
   ],
   "source": [
    "processed_df['k_means_labels'].value_counts()"
   ]
  },
  {
   "cell_type": "code",
   "execution_count": 9,
   "metadata": {},
   "outputs": [
    {
     "data": {
      "text/html": [
       "<div>\n",
       "<style scoped>\n",
       "    .dataframe tbody tr th:only-of-type {\n",
       "        vertical-align: middle;\n",
       "    }\n",
       "\n",
       "    .dataframe tbody tr th {\n",
       "        vertical-align: top;\n",
       "    }\n",
       "\n",
       "    .dataframe thead th {\n",
       "        text-align: right;\n",
       "    }\n",
       "</style>\n",
       "<table border=\"1\" class=\"dataframe\">\n",
       "  <thead>\n",
       "    <tr style=\"text-align: right;\">\n",
       "      <th></th>\n",
       "      <th>text</th>\n",
       "      <th>k_means_labels</th>\n",
       "    </tr>\n",
       "  </thead>\n",
       "  <tbody>\n",
       "    <tr>\n",
       "      <th>TheRedPill</th>\n",
       "      <td>google fire ph.d biologist/engineer claiming a...</td>\n",
       "      <td>1</td>\n",
       "    </tr>\n",
       "    <tr>\n",
       "      <th>ivermectin</th>\n",
       "      <td>evidence whatsoever ivermectin safer treatment...</td>\n",
       "      <td>0</td>\n",
       "    </tr>\n",
       "    <tr>\n",
       "      <th>BlackPeopleTwitter</th>\n",
       "      <td>wildest trend imo gon come world shamble fraud...</td>\n",
       "      <td>0</td>\n",
       "    </tr>\n",
       "    <tr>\n",
       "      <th>WhitePeopleTwitter</th>\n",
       "      <td>solution obvious shooting foot  choice clear b...</td>\n",
       "      <td>0</td>\n",
       "    </tr>\n",
       "    <tr>\n",
       "      <th>politics</th>\n",
       "      <td>megathread joe biden projected defeat presiden...</td>\n",
       "      <td>2</td>\n",
       "    </tr>\n",
       "    <tr>\n",
       "      <th>...</th>\n",
       "      <td>...</td>\n",
       "      <td>...</td>\n",
       "    </tr>\n",
       "    <tr>\n",
       "      <th>Glocks</th>\n",
       "      <td>watching shit knowing damn well ammo price goi...</td>\n",
       "      <td>0</td>\n",
       "    </tr>\n",
       "    <tr>\n",
       "      <th>tacticalgear</th>\n",
       "      <td>snuck basement 👍🏼 going rock trash man ghillie...</td>\n",
       "      <td>0</td>\n",
       "    </tr>\n",
       "    <tr>\n",
       "      <th>liberalgunowners</th>\n",
       "      <td>fight net neutrality view gun ownership side g...</td>\n",
       "      <td>2</td>\n",
       "    </tr>\n",
       "    <tr>\n",
       "      <th>HillaryForPrison</th>\n",
       "      <td>unelectable vote show google image people sear...</td>\n",
       "      <td>4</td>\n",
       "    </tr>\n",
       "    <tr>\n",
       "      <th>Offensivejokes</th>\n",
       "      <td>vegan view mac cheese richest woman world musl...</td>\n",
       "      <td>0</td>\n",
       "    </tr>\n",
       "  </tbody>\n",
       "</table>\n",
       "<p>235 rows × 2 columns</p>\n",
       "</div>"
      ],
      "text/plain": [
       "                                                                 text  \\\n",
       "TheRedPill          google fire ph.d biologist/engineer claiming a...   \n",
       "ivermectin          evidence whatsoever ivermectin safer treatment...   \n",
       "BlackPeopleTwitter  wildest trend imo gon come world shamble fraud...   \n",
       "WhitePeopleTwitter  solution obvious shooting foot  choice clear b...   \n",
       "politics            megathread joe biden projected defeat presiden...   \n",
       "...                                                               ...   \n",
       "Glocks              watching shit knowing damn well ammo price goi...   \n",
       "tacticalgear        snuck basement 👍🏼 going rock trash man ghillie...   \n",
       "liberalgunowners    fight net neutrality view gun ownership side g...   \n",
       "HillaryForPrison    unelectable vote show google image people sear...   \n",
       "Offensivejokes      vegan view mac cheese richest woman world musl...   \n",
       "\n",
       "                    k_means_labels  \n",
       "TheRedPill                       1  \n",
       "ivermectin                       0  \n",
       "BlackPeopleTwitter               0  \n",
       "WhitePeopleTwitter               0  \n",
       "politics                         2  \n",
       "...                            ...  \n",
       "Glocks                           0  \n",
       "tacticalgear                     0  \n",
       "liberalgunowners                 2  \n",
       "HillaryForPrison                 4  \n",
       "Offensivejokes                   0  \n",
       "\n",
       "[235 rows x 2 columns]"
      ]
     },
     "execution_count": 9,
     "metadata": {},
     "output_type": "execute_result"
    }
   ],
   "source": [
    "processed_df"
   ]
  },
  {
   "cell_type": "code",
   "execution_count": 10,
   "metadata": {},
   "outputs": [
    {
     "data": {
      "text/plain": [
       "AgglomerativeClustering(compute_full_tree=True, distance_threshold=1.75,\n",
       "                        n_clusters=None)"
      ]
     },
     "execution_count": 10,
     "metadata": {},
     "output_type": "execute_result"
    }
   ],
   "source": [
    "agg_clusterer = AgglomerativeClustering(n_clusters = None, distance_threshold = 1.75, compute_full_tree = True)\n",
    "agg_clusterer.fit(text_transformed.toarray())"
   ]
  },
  {
   "cell_type": "code",
   "execution_count": 11,
   "metadata": {},
   "outputs": [],
   "source": [
    "processed_df['agg_labels'] = agg_clusterer.labels_"
   ]
  },
  {
   "cell_type": "code",
   "execution_count": 12,
   "metadata": {},
   "outputs": [
    {
     "data": {
      "text/plain": [
       "3     39\n",
       "1     31\n",
       "15    23\n",
       "5     23\n",
       "2     22\n",
       "7     19\n",
       "8     15\n",
       "0     11\n",
       "9     10\n",
       "16    10\n",
       "12    10\n",
       "4      6\n",
       "10     6\n",
       "6      4\n",
       "13     2\n",
       "14     2\n",
       "11     2\n",
       "Name: agg_labels, dtype: int64"
      ]
     },
     "execution_count": 12,
     "metadata": {},
     "output_type": "execute_result"
    }
   ],
   "source": [
    "processed_df['agg_labels'].value_counts()"
   ]
  },
  {
   "cell_type": "code",
   "execution_count": 13,
   "metadata": {},
   "outputs": [
    {
     "data": {
      "text/html": [
       "<div>\n",
       "<style scoped>\n",
       "    .dataframe tbody tr th:only-of-type {\n",
       "        vertical-align: middle;\n",
       "    }\n",
       "\n",
       "    .dataframe tbody tr th {\n",
       "        vertical-align: top;\n",
       "    }\n",
       "\n",
       "    .dataframe thead th {\n",
       "        text-align: right;\n",
       "    }\n",
       "</style>\n",
       "<table border=\"1\" class=\"dataframe\">\n",
       "  <thead>\n",
       "    <tr style=\"text-align: right;\">\n",
       "      <th></th>\n",
       "      <th>text</th>\n",
       "      <th>k_means_labels</th>\n",
       "      <th>agg_labels</th>\n",
       "    </tr>\n",
       "  </thead>\n",
       "  <tbody>\n",
       "    <tr>\n",
       "      <th>ivermectin</th>\n",
       "      <td>evidence whatsoever ivermectin safer treatment...</td>\n",
       "      <td>0</td>\n",
       "      <td>12</td>\n",
       "    </tr>\n",
       "    <tr>\n",
       "      <th>lgbt</th>\n",
       "      <td>parent chose attend daughter wedding happier s...</td>\n",
       "      <td>0</td>\n",
       "      <td>12</td>\n",
       "    </tr>\n",
       "    <tr>\n",
       "      <th>traaaaaaannnnnnnnnns</th>\n",
       "      <td>oc art part trans struggle hard picturing feel...</td>\n",
       "      <td>0</td>\n",
       "      <td>12</td>\n",
       "    </tr>\n",
       "    <tr>\n",
       "      <th>trans</th>\n",
       "      <td>love punk transwoman cute comic irl_donut twit...</td>\n",
       "      <td>0</td>\n",
       "      <td>12</td>\n",
       "    </tr>\n",
       "    <tr>\n",
       "      <th>GenderCynical</th>\n",
       "      <td>gendercritical banned /r/gendercritical edit m...</td>\n",
       "      <td>0</td>\n",
       "      <td>12</td>\n",
       "    </tr>\n",
       "    <tr>\n",
       "      <th>asktransgender</th>\n",
       "      <td>compiled single informed consent clinic countr...</td>\n",
       "      <td>1</td>\n",
       "      <td>12</td>\n",
       "    </tr>\n",
       "    <tr>\n",
       "      <th>MtF</th>\n",
       "      <td>funny interaction airport security flying home...</td>\n",
       "      <td>1</td>\n",
       "      <td>12</td>\n",
       "    </tr>\n",
       "    <tr>\n",
       "      <th>ftm</th>\n",
       "      <td>king order masculine body dream thought guy o....</td>\n",
       "      <td>0</td>\n",
       "      <td>12</td>\n",
       "    </tr>\n",
       "    <tr>\n",
       "      <th>NonBinary</th>\n",
       "      <td>pov barista binder want u tell chest flat bee...</td>\n",
       "      <td>0</td>\n",
       "      <td>12</td>\n",
       "    </tr>\n",
       "    <tr>\n",
       "      <th>FreeSpeech</th>\n",
       "      <td>black man feel black life matter becoming bull...</td>\n",
       "      <td>0</td>\n",
       "      <td>12</td>\n",
       "    </tr>\n",
       "  </tbody>\n",
       "</table>\n",
       "</div>"
      ],
      "text/plain": [
       "                                                                   text  \\\n",
       "ivermectin            evidence whatsoever ivermectin safer treatment...   \n",
       "lgbt                  parent chose attend daughter wedding happier s...   \n",
       "traaaaaaannnnnnnnnns  oc art part trans struggle hard picturing feel...   \n",
       "trans                 love punk transwoman cute comic irl_donut twit...   \n",
       "GenderCynical         gendercritical banned /r/gendercritical edit m...   \n",
       "asktransgender        compiled single informed consent clinic countr...   \n",
       "MtF                   funny interaction airport security flying home...   \n",
       "ftm                   king order masculine body dream thought guy o....   \n",
       "NonBinary              pov barista binder want u tell chest flat bee...   \n",
       "FreeSpeech            black man feel black life matter becoming bull...   \n",
       "\n",
       "                      k_means_labels  agg_labels  \n",
       "ivermectin                         0          12  \n",
       "lgbt                               0          12  \n",
       "traaaaaaannnnnnnnnns               0          12  \n",
       "trans                              0          12  \n",
       "GenderCynical                      0          12  \n",
       "asktransgender                     1          12  \n",
       "MtF                                1          12  \n",
       "ftm                                0          12  \n",
       "NonBinary                          0          12  \n",
       "FreeSpeech                         0          12  "
      ]
     },
     "execution_count": 13,
     "metadata": {},
     "output_type": "execute_result"
    }
   ],
   "source": [
    "processed_df.loc[processed_df['agg_labels'] == 12]"
   ]
  },
  {
   "cell_type": "markdown",
   "metadata": {},
   "source": [
    "## Trying clustering on posts"
   ]
  },
  {
   "cell_type": "code",
   "execution_count": 14,
   "metadata": {},
   "outputs": [],
   "source": [
    "post_df = pd.read_pickle(\"../data/df_by_post.pkl\")"
   ]
  },
  {
   "cell_type": "code",
   "execution_count": 16,
   "metadata": {},
   "outputs": [
    {
     "data": {
      "text/html": [
       "<div>\n",
       "<style scoped>\n",
       "    .dataframe tbody tr th:only-of-type {\n",
       "        vertical-align: middle;\n",
       "    }\n",
       "\n",
       "    .dataframe tbody tr th {\n",
       "        vertical-align: top;\n",
       "    }\n",
       "\n",
       "    .dataframe thead th {\n",
       "        text-align: right;\n",
       "    }\n",
       "</style>\n",
       "<table border=\"1\" class=\"dataframe\">\n",
       "  <thead>\n",
       "    <tr style=\"text-align: right;\">\n",
       "      <th></th>\n",
       "      <th>created_utc</th>\n",
       "      <th>num_comments</th>\n",
       "      <th>subreddit</th>\n",
       "      <th>subreddit_subscribers</th>\n",
       "      <th>upvote_ratio</th>\n",
       "      <th>url</th>\n",
       "      <th>image?</th>\n",
       "      <th>total_text</th>\n",
       "      <th>tokenned_stopped_text</th>\n",
       "      <th>finalized_text</th>\n",
       "    </tr>\n",
       "  </thead>\n",
       "  <tbody>\n",
       "    <tr>\n",
       "      <th>0</th>\n",
       "      <td>1.502177e+09</td>\n",
       "      <td>840.0</td>\n",
       "      <td>TheRedPill</td>\n",
       "      <td>0.0</td>\n",
       "      <td>0.65</td>\n",
       "      <td>https://www.reddit.com/r/TheRedPill/comments/6...</td>\n",
       "      <td>False</td>\n",
       "      <td>Google Fires Ph.D Biologist/Engineer For Claim...</td>\n",
       "      <td>[google, fire, ph.d, biologist/engineer, claim...</td>\n",
       "      <td>google fire ph.d biologist/engineer claiming a...</td>\n",
       "    </tr>\n",
       "    <tr>\n",
       "      <th>1</th>\n",
       "      <td>1.480424e+09</td>\n",
       "      <td>759.0</td>\n",
       "      <td>TheRedPill</td>\n",
       "      <td>0.0</td>\n",
       "      <td>0.82</td>\n",
       "      <td>https://www.reddit.com/r/TheRedPill/comments/5...</td>\n",
       "      <td>False</td>\n",
       "      <td>HOW TO GET LAID LIKE A WARLORD: 37 Rules of Ap...</td>\n",
       "      <td>[laid, warlord, 37, rule, approaching, model-t...</td>\n",
       "      <td>laid warlord 37 rule approaching model-tier gi...</td>\n",
       "    </tr>\n",
       "    <tr>\n",
       "      <th>2</th>\n",
       "      <td>1.502101e+09</td>\n",
       "      <td>179.0</td>\n",
       "      <td>TheRedPill</td>\n",
       "      <td>0.0</td>\n",
       "      <td>0.86</td>\n",
       "      <td>https://www.reddit.com/r/TheRedPill/comments/6...</td>\n",
       "      <td>False</td>\n",
       "      <td>I have been practicing Stoicism for 3 years no...</td>\n",
       "      <td>[practicing, stoicism, 3, year, quality, life,...</td>\n",
       "      <td>practicing stoicism 3 year quality life increa...</td>\n",
       "    </tr>\n",
       "    <tr>\n",
       "      <th>3</th>\n",
       "      <td>1.433962e+09</td>\n",
       "      <td>954.0</td>\n",
       "      <td>TheRedPill</td>\n",
       "      <td>0.0</td>\n",
       "      <td>0.87</td>\n",
       "      <td>https://www.reddit.com/r/TheRedPill/comments/3...</td>\n",
       "      <td>False</td>\n",
       "      <td>[META] Reddit rolls out first ban wave of \"Har...</td>\n",
       "      <td>[meta, reddit, roll, first, ban, wave, harassi...</td>\n",
       "      <td>meta reddit roll first ban wave harassing subr...</td>\n",
       "    </tr>\n",
       "    <tr>\n",
       "      <th>4</th>\n",
       "      <td>1.500270e+09</td>\n",
       "      <td>336.0</td>\n",
       "      <td>TheRedPill</td>\n",
       "      <td>0.0</td>\n",
       "      <td>0.90</td>\n",
       "      <td>https://www.reddit.com/r/TheRedPill/comments/6...</td>\n",
       "      <td>False</td>\n",
       "      <td>Man gets his ex-GF to pay child support, and R...</td>\n",
       "      <td>[man, get, ex-gf, pay, child, support, reddit,...</td>\n",
       "      <td>man get ex-gf pay child support reddit freak k...</td>\n",
       "    </tr>\n",
       "  </tbody>\n",
       "</table>\n",
       "</div>"
      ],
      "text/plain": [
       "    created_utc  num_comments   subreddit  subreddit_subscribers  \\\n",
       "0  1.502177e+09         840.0  TheRedPill                    0.0   \n",
       "1  1.480424e+09         759.0  TheRedPill                    0.0   \n",
       "2  1.502101e+09         179.0  TheRedPill                    0.0   \n",
       "3  1.433962e+09         954.0  TheRedPill                    0.0   \n",
       "4  1.500270e+09         336.0  TheRedPill                    0.0   \n",
       "\n",
       "   upvote_ratio                                                url  image?  \\\n",
       "0          0.65  https://www.reddit.com/r/TheRedPill/comments/6...   False   \n",
       "1          0.82  https://www.reddit.com/r/TheRedPill/comments/5...   False   \n",
       "2          0.86  https://www.reddit.com/r/TheRedPill/comments/6...   False   \n",
       "3          0.87  https://www.reddit.com/r/TheRedPill/comments/3...   False   \n",
       "4          0.90  https://www.reddit.com/r/TheRedPill/comments/6...   False   \n",
       "\n",
       "                                          total_text  \\\n",
       "0  Google Fires Ph.D Biologist/Engineer For Claim...   \n",
       "1  HOW TO GET LAID LIKE A WARLORD: 37 Rules of Ap...   \n",
       "2  I have been practicing Stoicism for 3 years no...   \n",
       "3  [META] Reddit rolls out first ban wave of \"Har...   \n",
       "4  Man gets his ex-GF to pay child support, and R...   \n",
       "\n",
       "                               tokenned_stopped_text  \\\n",
       "0  [google, fire, ph.d, biologist/engineer, claim...   \n",
       "1  [laid, warlord, 37, rule, approaching, model-t...   \n",
       "2  [practicing, stoicism, 3, year, quality, life,...   \n",
       "3  [meta, reddit, roll, first, ban, wave, harassi...   \n",
       "4  [man, get, ex-gf, pay, child, support, reddit,...   \n",
       "\n",
       "                                      finalized_text  \n",
       "0  google fire ph.d biologist/engineer claiming a...  \n",
       "1  laid warlord 37 rule approaching model-tier gi...  \n",
       "2  practicing stoicism 3 year quality life increa...  \n",
       "3  meta reddit roll first ban wave harassing subr...  \n",
       "4  man get ex-gf pay child support reddit freak k...  "
      ]
     },
     "execution_count": 16,
     "metadata": {},
     "output_type": "execute_result"
    }
   ],
   "source": [
    "post_df.head()"
   ]
  },
  {
   "cell_type": "code",
   "execution_count": 17,
   "metadata": {},
   "outputs": [],
   "source": [
    "tfidf_vectorizer = TfidfVectorizer(max_df = .8) #cutting the threshold even more\n",
    "\n",
    "text_transformed = tfidf_vectorizer.fit_transform(post_df['finalized_text'])"
   ]
  },
  {
   "cell_type": "code",
   "execution_count": 18,
   "metadata": {},
   "outputs": [],
   "source": [
    "agg_clusterer = AgglomerativeClustering(n_clusters = None, distance_threshold = 1.75, compute_full_tree = True)\n",
    "agg_clusterer.fit(text_transformed)"
   ]
  },
  {
   "cell_type": "code",
   "execution_count": null,
   "metadata": {},
   "outputs": [],
   "source": []
  }
 ],
 "metadata": {
  "interpreter": {
   "hash": "1c7ae5ca7afa47d1c118e1cc9ccaf65a17609b650c517e098aee76b19a0109a3"
  },
  "kernelspec": {
   "display_name": "Python 3.9.7 ('base')",
   "language": "python",
   "name": "python3"
  },
  "language_info": {
   "codemirror_mode": {
    "name": "ipython",
    "version": 3
   },
   "file_extension": ".py",
   "mimetype": "text/x-python",
   "name": "python",
   "nbconvert_exporter": "python",
   "pygments_lexer": "ipython3",
   "version": "3.9.7"
  },
  "orig_nbformat": 4
 },
 "nbformat": 4,
 "nbformat_minor": 2
}
