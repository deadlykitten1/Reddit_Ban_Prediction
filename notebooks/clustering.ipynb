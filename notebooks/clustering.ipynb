{
 "cells": [
  {
   "cell_type": "code",
   "execution_count": 155,
   "metadata": {},
   "outputs": [],
   "source": [
    "import pandas as pd\n",
    "\n",
    "from sklearn.feature_extraction.text import TfidfVectorizer\n",
    "from sklearn.cluster import KMeans\n",
    "from sklearn.cluster import AgglomerativeClustering\n",
    "\n",
    "from gensim.models.ldamodel import LdaModel\n",
    "from gensim.corpora import Dictionary\n"
   ]
  },
  {
   "cell_type": "code",
   "execution_count": 156,
   "metadata": {},
   "outputs": [],
   "source": [
    "processed_df = pd.read_pickle('../data/preprocessed_df.pkl')"
   ]
  },
  {
   "cell_type": "code",
   "execution_count": 157,
   "metadata": {},
   "outputs": [
    {
     "data": {
      "text/html": [
       "<div>\n",
       "<style scoped>\n",
       "    .dataframe tbody tr th:only-of-type {\n",
       "        vertical-align: middle;\n",
       "    }\n",
       "\n",
       "    .dataframe tbody tr th {\n",
       "        vertical-align: top;\n",
       "    }\n",
       "\n",
       "    .dataframe thead th {\n",
       "        text-align: right;\n",
       "    }\n",
       "</style>\n",
       "<table border=\"1\" class=\"dataframe\">\n",
       "  <thead>\n",
       "    <tr style=\"text-align: right;\">\n",
       "      <th></th>\n",
       "      <th>text</th>\n",
       "    </tr>\n",
       "  </thead>\n",
       "  <tbody>\n",
       "    <tr>\n",
       "      <th>TheRedPill</th>\n",
       "      <td>google fire ph biologist engineer claiming ave...</td>\n",
       "    </tr>\n",
       "    <tr>\n",
       "      <th>BlackPeopleTwitter</th>\n",
       "      <td>wildest trend imo corjay lmao shippuden inco l...</td>\n",
       "    </tr>\n",
       "    <tr>\n",
       "      <th>WhitePeopleTwitter</th>\n",
       "      <td>solution obvious shooting foot secular talk vv...</td>\n",
       "    </tr>\n",
       "    <tr>\n",
       "      <th>politics</th>\n",
       "      <td>megathread joe biden projected defeat presiden...</td>\n",
       "    </tr>\n",
       "    <tr>\n",
       "      <th>law</th>\n",
       "      <td>law school leaked draft dobbs opinion justice ...</td>\n",
       "    </tr>\n",
       "  </tbody>\n",
       "</table>\n",
       "</div>"
      ],
      "text/plain": [
       "                                                                 text\n",
       "TheRedPill          google fire ph biologist engineer claiming ave...\n",
       "BlackPeopleTwitter  wildest trend imo corjay lmao shippuden inco l...\n",
       "WhitePeopleTwitter  solution obvious shooting foot secular talk vv...\n",
       "politics            megathread joe biden projected defeat presiden...\n",
       "law                 law school leaked draft dobbs opinion justice ..."
      ]
     },
     "execution_count": 157,
     "metadata": {},
     "output_type": "execute_result"
    }
   ],
   "source": [
    "processed_df.head()"
   ]
  },
  {
   "cell_type": "code",
   "execution_count": 158,
   "metadata": {},
   "outputs": [],
   "source": [
    "tfidf_vectorizer = TfidfVectorizer(max_df = .9)\n",
    "\n",
    "text_transformed = tfidf_vectorizer.fit_transform(processed_df['text'])"
   ]
  },
  {
   "cell_type": "code",
   "execution_count": 159,
   "metadata": {},
   "outputs": [
    {
     "data": {
      "text/plain": [
       "<180x76448 sparse matrix of type '<class 'numpy.float64'>'\n",
       "\twith 414979 stored elements in Compressed Sparse Row format>"
      ]
     },
     "execution_count": 159,
     "metadata": {},
     "output_type": "execute_result"
    }
   ],
   "source": [
    "text_transformed"
   ]
  },
  {
   "cell_type": "code",
   "execution_count": 160,
   "metadata": {},
   "outputs": [
    {
     "data": {
      "text/plain": [
       "KMeans(n_clusters=5, random_state=305)"
      ]
     },
     "execution_count": 160,
     "metadata": {},
     "output_type": "execute_result"
    }
   ],
   "source": [
    "k_clusterer = KMeans(n_clusters = 5, random_state = 305)\n",
    "\n",
    "k_clusterer.fit(text_transformed)"
   ]
  },
  {
   "cell_type": "code",
   "execution_count": 161,
   "metadata": {},
   "outputs": [],
   "source": [
    "processed_df['k_means_labels'] = k_clusterer.labels_"
   ]
  },
  {
   "cell_type": "code",
   "execution_count": 162,
   "metadata": {},
   "outputs": [
    {
     "data": {
      "text/plain": [
       "3    90\n",
       "4    51\n",
       "1    26\n",
       "2     8\n",
       "0     5\n",
       "Name: k_means_labels, dtype: int64"
      ]
     },
     "execution_count": 162,
     "metadata": {},
     "output_type": "execute_result"
    }
   ],
   "source": [
    "processed_df['k_means_labels'].value_counts()"
   ]
  },
  {
   "cell_type": "code",
   "execution_count": 163,
   "metadata": {},
   "outputs": [
    {
     "data": {
      "text/html": [
       "<div>\n",
       "<style scoped>\n",
       "    .dataframe tbody tr th:only-of-type {\n",
       "        vertical-align: middle;\n",
       "    }\n",
       "\n",
       "    .dataframe tbody tr th {\n",
       "        vertical-align: top;\n",
       "    }\n",
       "\n",
       "    .dataframe thead th {\n",
       "        text-align: right;\n",
       "    }\n",
       "</style>\n",
       "<table border=\"1\" class=\"dataframe\">\n",
       "  <thead>\n",
       "    <tr style=\"text-align: right;\">\n",
       "      <th></th>\n",
       "      <th>text</th>\n",
       "      <th>k_means_labels</th>\n",
       "    </tr>\n",
       "  </thead>\n",
       "  <tbody>\n",
       "    <tr>\n",
       "      <th>Jokes</th>\n",
       "      <td>sad news founder joke passed away rip larry te...</td>\n",
       "      <td>3</td>\n",
       "    </tr>\n",
       "    <tr>\n",
       "      <th>funny</th>\n",
       "      <td>cab driver tonight excited share made cover ca...</td>\n",
       "      <td>3</td>\n",
       "    </tr>\n",
       "    <tr>\n",
       "      <th>gaming</th>\n",
       "      <td>showing year someone care srgrafo parent late ...</td>\n",
       "      <td>3</td>\n",
       "    </tr>\n",
       "    <tr>\n",
       "      <th>Games</th>\n",
       "      <td>john totalbiscuit bain july cyberpunk removed ...</td>\n",
       "      <td>3</td>\n",
       "    </tr>\n",
       "    <tr>\n",
       "      <th>gadgets</th>\n",
       "      <td>eu proposes mandatory usb c device iphones law...</td>\n",
       "      <td>3</td>\n",
       "    </tr>\n",
       "    <tr>\n",
       "      <th>...</th>\n",
       "      <td>...</td>\n",
       "      <td>...</td>\n",
       "    </tr>\n",
       "    <tr>\n",
       "      <th>CCW</th>\n",
       "      <td>cashier sensed trouble trusted gut please idio...</td>\n",
       "      <td>3</td>\n",
       "    </tr>\n",
       "    <tr>\n",
       "      <th>Glocks</th>\n",
       "      <td>watching shit knowing damn well ammo price goi...</td>\n",
       "      <td>3</td>\n",
       "    </tr>\n",
       "    <tr>\n",
       "      <th>tacticalgear</th>\n",
       "      <td>snuck basement cool gun unfortunately gun lift...</td>\n",
       "      <td>3</td>\n",
       "    </tr>\n",
       "    <tr>\n",
       "      <th>liberalgunowners</th>\n",
       "      <td>fight net neutrality view gun ownership side g...</td>\n",
       "      <td>3</td>\n",
       "    </tr>\n",
       "    <tr>\n",
       "      <th>Offensivejokes</th>\n",
       "      <td>vegan view vegan think animal die wild mac che...</td>\n",
       "      <td>3</td>\n",
       "    </tr>\n",
       "  </tbody>\n",
       "</table>\n",
       "<p>90 rows × 2 columns</p>\n",
       "</div>"
      ],
      "text/plain": [
       "                                                               text  \\\n",
       "Jokes             sad news founder joke passed away rip larry te...   \n",
       "funny             cab driver tonight excited share made cover ca...   \n",
       "gaming            showing year someone care srgrafo parent late ...   \n",
       "Games             john totalbiscuit bain july cyberpunk removed ...   \n",
       "gadgets           eu proposes mandatory usb c device iphones law...   \n",
       "...                                                             ...   \n",
       "CCW               cashier sensed trouble trusted gut please idio...   \n",
       "Glocks            watching shit knowing damn well ammo price goi...   \n",
       "tacticalgear      snuck basement cool gun unfortunately gun lift...   \n",
       "liberalgunowners  fight net neutrality view gun ownership side g...   \n",
       "Offensivejokes    vegan view vegan think animal die wild mac che...   \n",
       "\n",
       "                  k_means_labels  \n",
       "Jokes                          3  \n",
       "funny                          3  \n",
       "gaming                         3  \n",
       "Games                          3  \n",
       "gadgets                        3  \n",
       "...                          ...  \n",
       "CCW                            3  \n",
       "Glocks                         3  \n",
       "tacticalgear                   3  \n",
       "liberalgunowners               3  \n",
       "Offensivejokes                 3  \n",
       "\n",
       "[90 rows x 2 columns]"
      ]
     },
     "execution_count": 163,
     "metadata": {},
     "output_type": "execute_result"
    }
   ],
   "source": [
    "processed_df.loc[processed_df['k_means_labels'] == 3]"
   ]
  },
  {
   "cell_type": "code",
   "execution_count": 164,
   "metadata": {},
   "outputs": [
    {
     "data": {
      "text/plain": [
       "AgglomerativeClustering(compute_full_tree=True, distance_threshold=1.65,\n",
       "                        n_clusters=None)"
      ]
     },
     "execution_count": 164,
     "metadata": {},
     "output_type": "execute_result"
    }
   ],
   "source": [
    "agg_clusterer = AgglomerativeClustering(n_clusters = None, distance_threshold = 1.65, compute_full_tree = True)\n",
    "agg_clusterer.fit(text_transformed.toarray())"
   ]
  },
  {
   "cell_type": "code",
   "execution_count": 165,
   "metadata": {},
   "outputs": [],
   "source": [
    "processed_df['agg_labels'] = agg_clusterer.labels_"
   ]
  },
  {
   "cell_type": "code",
   "execution_count": 166,
   "metadata": {},
   "outputs": [
    {
     "data": {
      "text/plain": [
       "2     37\n",
       "0     34\n",
       "1     30\n",
       "3     22\n",
       "4     11\n",
       "14     8\n",
       "13     6\n",
       "7      6\n",
       "5      5\n",
       "8      5\n",
       "6      4\n",
       "11     4\n",
       "10     4\n",
       "9      2\n",
       "12     2\n",
       "Name: agg_labels, dtype: int64"
      ]
     },
     "execution_count": 166,
     "metadata": {},
     "output_type": "execute_result"
    }
   ],
   "source": [
    "processed_df['agg_labels'].value_counts()"
   ]
  },
  {
   "cell_type": "code",
   "execution_count": 167,
   "metadata": {},
   "outputs": [
    {
     "data": {
      "text/html": [
       "<div>\n",
       "<style scoped>\n",
       "    .dataframe tbody tr th:only-of-type {\n",
       "        vertical-align: middle;\n",
       "    }\n",
       "\n",
       "    .dataframe tbody tr th {\n",
       "        vertical-align: top;\n",
       "    }\n",
       "\n",
       "    .dataframe thead th {\n",
       "        text-align: right;\n",
       "    }\n",
       "</style>\n",
       "<table border=\"1\" class=\"dataframe\">\n",
       "  <thead>\n",
       "    <tr style=\"text-align: right;\">\n",
       "      <th></th>\n",
       "      <th>text</th>\n",
       "      <th>k_means_labels</th>\n",
       "      <th>agg_labels</th>\n",
       "    </tr>\n",
       "  </thead>\n",
       "  <tbody>\n",
       "    <tr>\n",
       "      <th>guns</th>\n",
       "      <td>colt limited batch west point class graduation...</td>\n",
       "      <td>3</td>\n",
       "      <td>8</td>\n",
       "    </tr>\n",
       "    <tr>\n",
       "      <th>nra</th>\n",
       "      <td>touch bette midler bette v hey hey nra life to...</td>\n",
       "      <td>3</td>\n",
       "      <td>8</td>\n",
       "    </tr>\n",
       "    <tr>\n",
       "      <th>Firearms</th>\n",
       "      <td>rifle handed resident kyiv anyone want defend ...</td>\n",
       "      <td>3</td>\n",
       "      <td>8</td>\n",
       "    </tr>\n",
       "    <tr>\n",
       "      <th>CCW</th>\n",
       "      <td>cashier sensed trouble trusted gut please idio...</td>\n",
       "      <td>3</td>\n",
       "      <td>8</td>\n",
       "    </tr>\n",
       "    <tr>\n",
       "      <th>liberalgunowners</th>\n",
       "      <td>fight net neutrality view gun ownership side g...</td>\n",
       "      <td>3</td>\n",
       "      <td>8</td>\n",
       "    </tr>\n",
       "  </tbody>\n",
       "</table>\n",
       "</div>"
      ],
      "text/plain": [
       "                                                               text  \\\n",
       "guns              colt limited batch west point class graduation...   \n",
       "nra               touch bette midler bette v hey hey nra life to...   \n",
       "Firearms          rifle handed resident kyiv anyone want defend ...   \n",
       "CCW               cashier sensed trouble trusted gut please idio...   \n",
       "liberalgunowners  fight net neutrality view gun ownership side g...   \n",
       "\n",
       "                  k_means_labels  agg_labels  \n",
       "guns                           3           8  \n",
       "nra                            3           8  \n",
       "Firearms                       3           8  \n",
       "CCW                            3           8  \n",
       "liberalgunowners               3           8  "
      ]
     },
     "execution_count": 167,
     "metadata": {},
     "output_type": "execute_result"
    }
   ],
   "source": [
    "processed_df.loc[processed_df['agg_labels'] == 8]"
   ]
  },
  {
   "cell_type": "markdown",
   "metadata": {},
   "source": [
    "# Clustering on Posts"
   ]
  },
  {
   "cell_type": "code",
   "execution_count": 168,
   "metadata": {},
   "outputs": [],
   "source": [
    "post_df = pd.read_pickle('../data/df_by_post.pkl')"
   ]
  },
  {
   "cell_type": "code",
   "execution_count": 169,
   "metadata": {},
   "outputs": [],
   "source": [
    "tfidf_vectorizer = TfidfVectorizer(max_df = .9)\n",
    "\n",
    "text_transformed = tfidf_vectorizer.fit_transform(post_df['finalized_text'])"
   ]
  },
  {
   "cell_type": "code",
   "execution_count": 170,
   "metadata": {},
   "outputs": [
    {
     "data": {
      "text/plain": [
       "KMeans(n_clusters=50, random_state=305)"
      ]
     },
     "execution_count": 170,
     "metadata": {},
     "output_type": "execute_result"
    }
   ],
   "source": [
    "k_clusterer = KMeans(n_clusters = 50, random_state = 305)\n",
    "\n",
    "k_clusterer.fit(text_transformed)"
   ]
  },
  {
   "cell_type": "code",
   "execution_count": 171,
   "metadata": {},
   "outputs": [],
   "source": [
    "post_df['k_means_labels'] = k_clusterer.labels_"
   ]
  },
  {
   "cell_type": "code",
   "execution_count": 172,
   "metadata": {},
   "outputs": [
    {
     "data": {
      "text/plain": [
       "0     14035\n",
       "28     1225\n",
       "20     1224\n",
       "1      1136\n",
       "30      925\n",
       "23      912\n",
       "42      870\n",
       "34      861\n",
       "37      699\n",
       "13      605\n",
       "31      565\n",
       "6       553\n",
       "33      547\n",
       "14      512\n",
       "16      491\n",
       "44      445\n",
       "11      434\n",
       "27      412\n",
       "45      404\n",
       "35      397\n",
       "32      393\n",
       "43      386\n",
       "5       360\n",
       "24      360\n",
       "40      358\n",
       "12      353\n",
       "10      349\n",
       "17      347\n",
       "25      336\n",
       "26      333\n",
       "2       326\n",
       "46      318\n",
       "8       318\n",
       "9       313\n",
       "4       312\n",
       "36      306\n",
       "19      246\n",
       "15      246\n",
       "22      243\n",
       "38      237\n",
       "39      211\n",
       "7       195\n",
       "48      192\n",
       "47      166\n",
       "21      159\n",
       "18      158\n",
       "29      147\n",
       "3        76\n",
       "49       73\n",
       "41       62\n",
       "Name: k_means_labels, dtype: int64"
      ]
     },
     "execution_count": 172,
     "metadata": {},
     "output_type": "execute_result"
    }
   ],
   "source": [
    "post_df['k_means_labels'].value_counts()"
   ]
  },
  {
   "cell_type": "code",
   "execution_count": 173,
   "metadata": {},
   "outputs": [
    {
     "data": {
      "text/html": [
       "<div>\n",
       "<style scoped>\n",
       "    .dataframe tbody tr th:only-of-type {\n",
       "        vertical-align: middle;\n",
       "    }\n",
       "\n",
       "    .dataframe tbody tr th {\n",
       "        vertical-align: top;\n",
       "    }\n",
       "\n",
       "    .dataframe thead th {\n",
       "        text-align: right;\n",
       "    }\n",
       "</style>\n",
       "<table border=\"1\" class=\"dataframe\">\n",
       "  <thead>\n",
       "    <tr style=\"text-align: right;\">\n",
       "      <th></th>\n",
       "      <th>created_utc</th>\n",
       "      <th>subreddit</th>\n",
       "      <th>subreddit_subscribers</th>\n",
       "      <th>upvote_ratio</th>\n",
       "      <th>num_comments</th>\n",
       "      <th>url</th>\n",
       "      <th>image?</th>\n",
       "      <th>image_text</th>\n",
       "      <th>total_text</th>\n",
       "      <th>tokenned_stopped_text</th>\n",
       "      <th>finalized_text</th>\n",
       "      <th>alignment</th>\n",
       "      <th>k_means_labels</th>\n",
       "    </tr>\n",
       "  </thead>\n",
       "  <tbody>\n",
       "    <tr>\n",
       "      <th>602</th>\n",
       "      <td>1.597330e+09</td>\n",
       "      <td>politics</td>\n",
       "      <td>8062883.0</td>\n",
       "      <td>0.93</td>\n",
       "      <td>7916.0</td>\n",
       "      <td>https://www.independent.co.uk/news/world/ameri...</td>\n",
       "      <td>False</td>\n",
       "      <td></td>\n",
       "      <td>AOC challenges Trump to release his college tr...</td>\n",
       "      <td>[aoc, challenge, trump, release, college, tran...</td>\n",
       "      <td>aoc challenge trump release college transcript...</td>\n",
       "      <td>0</td>\n",
       "      <td>6</td>\n",
       "    </tr>\n",
       "    <tr>\n",
       "      <th>629</th>\n",
       "      <td>1.608071e+09</td>\n",
       "      <td>politics</td>\n",
       "      <td>8062883.0</td>\n",
       "      <td>0.88</td>\n",
       "      <td>4233.0</td>\n",
       "      <td>https://www.independent.co.uk/news/world/ameri...</td>\n",
       "      <td>False</td>\n",
       "      <td></td>\n",
       "      <td>Trump must turn over financial documents to Ne...</td>\n",
       "      <td>[trump, turn, financial, document, new, york, ...</td>\n",
       "      <td>trump turn financial document new york attorne...</td>\n",
       "      <td>0</td>\n",
       "      <td>6</td>\n",
       "    </tr>\n",
       "    <tr>\n",
       "      <th>734</th>\n",
       "      <td>1.644417e+09</td>\n",
       "      <td>politics</td>\n",
       "      <td>8062883.0</td>\n",
       "      <td>0.89</td>\n",
       "      <td>4710.0</td>\n",
       "      <td>https://www.rollingstone.com/politics/politics...</td>\n",
       "      <td>False</td>\n",
       "      <td></td>\n",
       "      <td>Louisiana Senate Candidate Literally Torches a...</td>\n",
       "      <td>[louisiana, senate, candidate, torch, confeder...</td>\n",
       "      <td>louisiana senate candidate torch confederate f...</td>\n",
       "      <td>0</td>\n",
       "      <td>6</td>\n",
       "    </tr>\n",
       "    <tr>\n",
       "      <th>838</th>\n",
       "      <td>1.624548e+09</td>\n",
       "      <td>law</td>\n",
       "      <td>186908.0</td>\n",
       "      <td>0.96</td>\n",
       "      <td>164.0</td>\n",
       "      <td>https://www.cnbc.com/2021/06/24/rudy-giuliani-...</td>\n",
       "      <td>False</td>\n",
       "      <td></td>\n",
       "      <td>Giuliani suspended from practicing law in New ...</td>\n",
       "      <td>[giuliani, suspended, practicing, law, new, yo...</td>\n",
       "      <td>giuliani suspended practicing law new york fal...</td>\n",
       "      <td>0</td>\n",
       "      <td>6</td>\n",
       "    </tr>\n",
       "    <tr>\n",
       "      <th>848</th>\n",
       "      <td>1.616757e+09</td>\n",
       "      <td>law</td>\n",
       "      <td>186908.0</td>\n",
       "      <td>0.97</td>\n",
       "      <td>124.0</td>\n",
       "      <td>https://newyork.cbslocal.com/2021/03/25/qualif...</td>\n",
       "      <td>False</td>\n",
       "      <td></td>\n",
       "      <td>New York Becomes First City In U.S. To End Qua...</td>\n",
       "      <td>[new, york, becomes, first, city, u, end, qual...</td>\n",
       "      <td>new york becomes first city u end qualified im...</td>\n",
       "      <td>0</td>\n",
       "      <td>6</td>\n",
       "    </tr>\n",
       "    <tr>\n",
       "      <th>...</th>\n",
       "      <td>...</td>\n",
       "      <td>...</td>\n",
       "      <td>...</td>\n",
       "      <td>...</td>\n",
       "      <td>...</td>\n",
       "      <td>...</td>\n",
       "      <td>...</td>\n",
       "      <td>...</td>\n",
       "      <td>...</td>\n",
       "      <td>...</td>\n",
       "      <td>...</td>\n",
       "      <td>...</td>\n",
       "      <td>...</td>\n",
       "    </tr>\n",
       "    <tr>\n",
       "      <th>34895</th>\n",
       "      <td>1.640808e+09</td>\n",
       "      <td>HillaryForPrison</td>\n",
       "      <td>54062.0</td>\n",
       "      <td>0.94</td>\n",
       "      <td>2.0</td>\n",
       "      <td>https://i.redd.it/d98xpd58ej881.jpg</td>\n",
       "      <td>True</td>\n",
       "      <td>Tim Young @\\n\\n@TimRunsHisMouth\\nThere's a cri...</td>\n",
       "      <td>Crime Wave Tim Young @\\n\\n@TimRunsHisMouth\\nTh...</td>\n",
       "      <td>[crime, wave, tim, young, timrunshismouth, cri...</td>\n",
       "      <td>crime wave tim young timrunshismouth crime wav...</td>\n",
       "      <td>-1</td>\n",
       "      <td>6</td>\n",
       "    </tr>\n",
       "    <tr>\n",
       "      <th>34957</th>\n",
       "      <td>1.653308e+09</td>\n",
       "      <td>Offensivejokes</td>\n",
       "      <td>204260.0</td>\n",
       "      <td>0.99</td>\n",
       "      <td>55.0</td>\n",
       "      <td>https://i.redd.it/oxfv6l40x7191.jpg</td>\n",
       "      <td>True</td>\n",
       "      <td>| think that the new James Bond should be\\na w...</td>\n",
       "      <td>James Bond (she/her) | think that the new Jame...</td>\n",
       "      <td>[james, bond, think, new, james, bond, woman, ...</td>\n",
       "      <td>james bond think new james bond woman think gr...</td>\n",
       "      <td>-1</td>\n",
       "      <td>6</td>\n",
       "    </tr>\n",
       "    <tr>\n",
       "      <th>35032</th>\n",
       "      <td>1.653308e+09</td>\n",
       "      <td>Offensivejokes</td>\n",
       "      <td>204260.0</td>\n",
       "      <td>0.99</td>\n",
       "      <td>55.0</td>\n",
       "      <td>https://i.redd.it/oxfv6l40x7191.jpg</td>\n",
       "      <td>True</td>\n",
       "      <td>| think that the new James Bond should be\\na w...</td>\n",
       "      <td>James Bond (she/her) | think that the new Jame...</td>\n",
       "      <td>[james, bond, think, new, james, bond, woman, ...</td>\n",
       "      <td>james bond think new james bond woman think gr...</td>\n",
       "      <td>-1</td>\n",
       "      <td>6</td>\n",
       "    </tr>\n",
       "    <tr>\n",
       "      <th>35067</th>\n",
       "      <td>1.636956e+09</td>\n",
       "      <td>Offensivejokes</td>\n",
       "      <td>204260.0</td>\n",
       "      <td>1.00</td>\n",
       "      <td>37.0</td>\n",
       "      <td>https://i.redd.it/gxs0qdla9pz71.jpg</td>\n",
       "      <td>True</td>\n",
       "      <td></td>\n",
       "      <td>Happy new year.</td>\n",
       "      <td>[happy, new, year]</td>\n",
       "      <td>happy new year</td>\n",
       "      <td>-1</td>\n",
       "      <td>6</td>\n",
       "    </tr>\n",
       "    <tr>\n",
       "      <th>35070</th>\n",
       "      <td>1.641904e+09</td>\n",
       "      <td>Offensivejokes</td>\n",
       "      <td>204260.0</td>\n",
       "      <td>1.00</td>\n",
       "      <td>19.0</td>\n",
       "      <td>https://i.redd.it/7lf20uf5y1b81.jpg</td>\n",
       "      <td>True</td>\n",
       "      <td>Bert suddenly realizes that his new\\nfriend di...</td>\n",
       "      <td>Oh well Bert suddenly realizes that his new\\nf...</td>\n",
       "      <td>[well, bert, suddenly, realizes, new, friend, ...</td>\n",
       "      <td>well bert suddenly realizes new friend say hat...</td>\n",
       "      <td>-1</td>\n",
       "      <td>6</td>\n",
       "    </tr>\n",
       "  </tbody>\n",
       "</table>\n",
       "<p>553 rows × 13 columns</p>\n",
       "</div>"
      ],
      "text/plain": [
       "        created_utc         subreddit  subreddit_subscribers  upvote_ratio  \\\n",
       "602    1.597330e+09          politics              8062883.0          0.93   \n",
       "629    1.608071e+09          politics              8062883.0          0.88   \n",
       "734    1.644417e+09          politics              8062883.0          0.89   \n",
       "838    1.624548e+09               law               186908.0          0.96   \n",
       "848    1.616757e+09               law               186908.0          0.97   \n",
       "...             ...               ...                    ...           ...   \n",
       "34895  1.640808e+09  HillaryForPrison                54062.0          0.94   \n",
       "34957  1.653308e+09    Offensivejokes               204260.0          0.99   \n",
       "35032  1.653308e+09    Offensivejokes               204260.0          0.99   \n",
       "35067  1.636956e+09    Offensivejokes               204260.0          1.00   \n",
       "35070  1.641904e+09    Offensivejokes               204260.0          1.00   \n",
       "\n",
       "       num_comments                                                url  \\\n",
       "602          7916.0  https://www.independent.co.uk/news/world/ameri...   \n",
       "629          4233.0  https://www.independent.co.uk/news/world/ameri...   \n",
       "734          4710.0  https://www.rollingstone.com/politics/politics...   \n",
       "838           164.0  https://www.cnbc.com/2021/06/24/rudy-giuliani-...   \n",
       "848           124.0  https://newyork.cbslocal.com/2021/03/25/qualif...   \n",
       "...             ...                                                ...   \n",
       "34895           2.0                https://i.redd.it/d98xpd58ej881.jpg   \n",
       "34957          55.0                https://i.redd.it/oxfv6l40x7191.jpg   \n",
       "35032          55.0                https://i.redd.it/oxfv6l40x7191.jpg   \n",
       "35067          37.0                https://i.redd.it/gxs0qdla9pz71.jpg   \n",
       "35070          19.0                https://i.redd.it/7lf20uf5y1b81.jpg   \n",
       "\n",
       "       image?                                         image_text  \\\n",
       "602     False                                                      \n",
       "629     False                                                      \n",
       "734     False                                                      \n",
       "838     False                                                      \n",
       "848     False                                                      \n",
       "...       ...                                                ...   \n",
       "34895    True  Tim Young @\\n\\n@TimRunsHisMouth\\nThere's a cri...   \n",
       "34957    True  | think that the new James Bond should be\\na w...   \n",
       "35032    True  | think that the new James Bond should be\\na w...   \n",
       "35067    True                                                      \n",
       "35070    True  Bert suddenly realizes that his new\\nfriend di...   \n",
       "\n",
       "                                              total_text  \\\n",
       "602    AOC challenges Trump to release his college tr...   \n",
       "629    Trump must turn over financial documents to Ne...   \n",
       "734    Louisiana Senate Candidate Literally Torches a...   \n",
       "838    Giuliani suspended from practicing law in New ...   \n",
       "848    New York Becomes First City In U.S. To End Qua...   \n",
       "...                                                  ...   \n",
       "34895  Crime Wave Tim Young @\\n\\n@TimRunsHisMouth\\nTh...   \n",
       "34957  James Bond (she/her) | think that the new Jame...   \n",
       "35032  James Bond (she/her) | think that the new Jame...   \n",
       "35067                                  Happy new year.     \n",
       "35070  Oh well Bert suddenly realizes that his new\\nf...   \n",
       "\n",
       "                                   tokenned_stopped_text  \\\n",
       "602    [aoc, challenge, trump, release, college, tran...   \n",
       "629    [trump, turn, financial, document, new, york, ...   \n",
       "734    [louisiana, senate, candidate, torch, confeder...   \n",
       "838    [giuliani, suspended, practicing, law, new, yo...   \n",
       "848    [new, york, becomes, first, city, u, end, qual...   \n",
       "...                                                  ...   \n",
       "34895  [crime, wave, tim, young, timrunshismouth, cri...   \n",
       "34957  [james, bond, think, new, james, bond, woman, ...   \n",
       "35032  [james, bond, think, new, james, bond, woman, ...   \n",
       "35067                                 [happy, new, year]   \n",
       "35070  [well, bert, suddenly, realizes, new, friend, ...   \n",
       "\n",
       "                                          finalized_text  alignment  \\\n",
       "602    aoc challenge trump release college transcript...          0   \n",
       "629    trump turn financial document new york attorne...          0   \n",
       "734    louisiana senate candidate torch confederate f...          0   \n",
       "838    giuliani suspended practicing law new york fal...          0   \n",
       "848    new york becomes first city u end qualified im...          0   \n",
       "...                                                  ...        ...   \n",
       "34895  crime wave tim young timrunshismouth crime wav...         -1   \n",
       "34957  james bond think new james bond woman think gr...         -1   \n",
       "35032  james bond think new james bond woman think gr...         -1   \n",
       "35067                                     happy new year         -1   \n",
       "35070  well bert suddenly realizes new friend say hat...         -1   \n",
       "\n",
       "       k_means_labels  \n",
       "602                 6  \n",
       "629                 6  \n",
       "734                 6  \n",
       "838                 6  \n",
       "848                 6  \n",
       "...               ...  \n",
       "34895               6  \n",
       "34957               6  \n",
       "35032               6  \n",
       "35067               6  \n",
       "35070               6  \n",
       "\n",
       "[553 rows x 13 columns]"
      ]
     },
     "execution_count": 173,
     "metadata": {},
     "output_type": "execute_result"
    }
   ],
   "source": [
    "post_df.loc[post_df['k_means_labels'] == 6]"
   ]
  },
  {
   "cell_type": "code",
   "execution_count": null,
   "metadata": {},
   "outputs": [],
   "source": []
  }
 ],
 "metadata": {
  "interpreter": {
   "hash": "1c7ae5ca7afa47d1c118e1cc9ccaf65a17609b650c517e098aee76b19a0109a3"
  },
  "kernelspec": {
   "display_name": "Python 3.9.7 ('base')",
   "language": "python",
   "name": "python3"
  },
  "language_info": {
   "codemirror_mode": {
    "name": "ipython",
    "version": 3
   },
   "file_extension": ".py",
   "mimetype": "text/x-python",
   "name": "python",
   "nbconvert_exporter": "python",
   "pygments_lexer": "ipython3",
   "version": "3.9.7"
  },
  "orig_nbformat": 4
 },
 "nbformat": 4,
 "nbformat_minor": 2
}
