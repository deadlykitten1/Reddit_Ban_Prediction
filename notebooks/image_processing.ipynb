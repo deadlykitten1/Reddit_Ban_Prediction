{
 "cells": [
  {
   "cell_type": "code",
   "execution_count": null,
   "metadata": {},
   "outputs": [],
   "source": [
    "import pandas as pd\n",
    "import pytesseract"
   ]
  },
  {
   "cell_type": "code",
   "execution_count": null,
   "metadata": {},
   "outputs": [],
   "source": []
  },
  {
   "cell_type": "code",
   "execution_count": null,
   "metadata": {},
   "outputs": [],
   "source": [
    "#Image processing: do on windows machine because tessaract only runs on linux and windows\n",
    "pytesseract.pytesseract.tesseract_cmd =  r'C:\\Program Files\\Tesseract-OCR\\tesseract'\n",
    "\n",
    "image_text = []\n",
    "\n",
    "for index, row in messy_df.iterrows():\n",
    "    if row['image?']:\n",
    "        try:\n",
    "            response = requests.get(row['url'])\n",
    "            image = Image.open(BytesIO(response.content))\n",
    "            image_string = pytesseract.image_to_string(image)\n",
    "        except:\n",
    "            image_string = ''\n",
    "    else:\n",
    "        image_string = ''\n",
    "\n",
    "    image_text.append(image_string)"
   ]
  }
 ],
 "metadata": {
  "language_info": {
   "name": "python"
  },
  "orig_nbformat": 4
 },
 "nbformat": 4,
 "nbformat_minor": 2
}
