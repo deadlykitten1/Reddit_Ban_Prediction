{
 "cells": [
  {
   "cell_type": "code",
   "execution_count": 56,
   "metadata": {},
   "outputs": [],
   "source": [
    "import pandas as pd\n",
    "import string\n",
    "import re\n",
    "\n",
    "import matplotlib.pyplot as plt\n",
    "%matplotlib inline\n",
    "\n",
    "from nltk.corpus import stopwords\n",
    "from nltk.tokenize import word_tokenize\n",
    "from nltk.stem import WordNetLemmatizer\n",
    "from nltk import FreqDist\n",
    "\n",
    "from gensim.models.ldamodel import LdaModel\n",
    "from gensim.corpora import Dictionary"
   ]
  },
  {
   "cell_type": "code",
   "execution_count": 57,
   "metadata": {},
   "outputs": [],
   "source": [
    "messy_df = pd.read_pickle('../data/messy_df.pkl')"
   ]
  },
  {
   "cell_type": "code",
   "execution_count": 58,
   "metadata": {},
   "outputs": [
    {
     "data": {
      "text/html": [
       "<div>\n",
       "<style scoped>\n",
       "    .dataframe tbody tr th:only-of-type {\n",
       "        vertical-align: middle;\n",
       "    }\n",
       "\n",
       "    .dataframe tbody tr th {\n",
       "        vertical-align: top;\n",
       "    }\n",
       "\n",
       "    .dataframe thead th {\n",
       "        text-align: right;\n",
       "    }\n",
       "</style>\n",
       "<table border=\"1\" class=\"dataframe\">\n",
       "  <thead>\n",
       "    <tr style=\"text-align: right;\">\n",
       "      <th></th>\n",
       "      <th>created_utc</th>\n",
       "      <th>num_comments</th>\n",
       "      <th>subreddit</th>\n",
       "      <th>subreddit_subscribers</th>\n",
       "      <th>text</th>\n",
       "      <th>title</th>\n",
       "      <th>upvote_ratio</th>\n",
       "      <th>url</th>\n",
       "      <th>image?</th>\n",
       "    </tr>\n",
       "  </thead>\n",
       "  <tbody>\n",
       "    <tr>\n",
       "      <th>0</th>\n",
       "      <td>1.502177e+09</td>\n",
       "      <td>840.0</td>\n",
       "      <td>TheRedPill</td>\n",
       "      <td>0.0</td>\n",
       "      <td>As reported in Bloomberg, Google has fired a s...</td>\n",
       "      <td>Google Fires Ph.D Biologist/Engineer For Claim...</td>\n",
       "      <td>0.65</td>\n",
       "      <td>https://www.reddit.com/r/TheRedPill/comments/6...</td>\n",
       "      <td>False</td>\n",
       "    </tr>\n",
       "    <tr>\n",
       "      <th>1</th>\n",
       "      <td>1.480424e+09</td>\n",
       "      <td>759.0</td>\n",
       "      <td>TheRedPill</td>\n",
       "      <td>0.0</td>\n",
       "      <td>**A complete guide to picking up 9s and 10s** ...</td>\n",
       "      <td>HOW TO GET LAID LIKE A WARLORD: 37 Rules of Ap...</td>\n",
       "      <td>0.82</td>\n",
       "      <td>https://www.reddit.com/r/TheRedPill/comments/5...</td>\n",
       "      <td>False</td>\n",
       "    </tr>\n",
       "    <tr>\n",
       "      <th>2</th>\n",
       "      <td>1.502101e+09</td>\n",
       "      <td>179.0</td>\n",
       "      <td>TheRedPill</td>\n",
       "      <td>0.0</td>\n",
       "      <td>**Practical Stoicism Tools**\\n\\nStoicism philo...</td>\n",
       "      <td>I have been practicing Stoicism for 3 years no...</td>\n",
       "      <td>0.86</td>\n",
       "      <td>https://www.reddit.com/r/TheRedPill/comments/6...</td>\n",
       "      <td>False</td>\n",
       "    </tr>\n",
       "    <tr>\n",
       "      <th>3</th>\n",
       "      <td>1.433962e+09</td>\n",
       "      <td>954.0</td>\n",
       "      <td>TheRedPill</td>\n",
       "      <td>0.0</td>\n",
       "      <td>The most notorious target was FatPeopleHate. Y...</td>\n",
       "      <td>[META] Reddit rolls out first ban wave of \"Har...</td>\n",
       "      <td>0.87</td>\n",
       "      <td>https://www.reddit.com/r/TheRedPill/comments/3...</td>\n",
       "      <td>False</td>\n",
       "    </tr>\n",
       "    <tr>\n",
       "      <th>4</th>\n",
       "      <td>1.500270e+09</td>\n",
       "      <td>336.0</td>\n",
       "      <td>TheRedPill</td>\n",
       "      <td>0.0</td>\n",
       "      <td>Kind of surprised this hasn't made its way her...</td>\n",
       "      <td>Man gets his ex-GF to pay child support, and R...</td>\n",
       "      <td>0.90</td>\n",
       "      <td>https://www.reddit.com/r/TheRedPill/comments/6...</td>\n",
       "      <td>False</td>\n",
       "    </tr>\n",
       "  </tbody>\n",
       "</table>\n",
       "</div>"
      ],
      "text/plain": [
       "    created_utc  num_comments   subreddit  subreddit_subscribers  \\\n",
       "0  1.502177e+09         840.0  TheRedPill                    0.0   \n",
       "1  1.480424e+09         759.0  TheRedPill                    0.0   \n",
       "2  1.502101e+09         179.0  TheRedPill                    0.0   \n",
       "3  1.433962e+09         954.0  TheRedPill                    0.0   \n",
       "4  1.500270e+09         336.0  TheRedPill                    0.0   \n",
       "\n",
       "                                                text  \\\n",
       "0  As reported in Bloomberg, Google has fired a s...   \n",
       "1  **A complete guide to picking up 9s and 10s** ...   \n",
       "2  **Practical Stoicism Tools**\\n\\nStoicism philo...   \n",
       "3  The most notorious target was FatPeopleHate. Y...   \n",
       "4  Kind of surprised this hasn't made its way her...   \n",
       "\n",
       "                                               title  upvote_ratio  \\\n",
       "0  Google Fires Ph.D Biologist/Engineer For Claim...          0.65   \n",
       "1  HOW TO GET LAID LIKE A WARLORD: 37 Rules of Ap...          0.82   \n",
       "2  I have been practicing Stoicism for 3 years no...          0.86   \n",
       "3  [META] Reddit rolls out first ban wave of \"Har...          0.87   \n",
       "4  Man gets his ex-GF to pay child support, and R...          0.90   \n",
       "\n",
       "                                                 url  image?  \n",
       "0  https://www.reddit.com/r/TheRedPill/comments/6...   False  \n",
       "1  https://www.reddit.com/r/TheRedPill/comments/5...   False  \n",
       "2  https://www.reddit.com/r/TheRedPill/comments/6...   False  \n",
       "3  https://www.reddit.com/r/TheRedPill/comments/3...   False  \n",
       "4  https://www.reddit.com/r/TheRedPill/comments/6...   False  "
      ]
     },
     "execution_count": 58,
     "metadata": {},
     "output_type": "execute_result"
    }
   ],
   "source": [
    "messy_df.head()"
   ]
  },
  {
   "cell_type": "code",
   "execution_count": 59,
   "metadata": {},
   "outputs": [],
   "source": [
    "# TODO: this is where the image processing for text will go"
   ]
  },
  {
   "cell_type": "code",
   "execution_count": 60,
   "metadata": {},
   "outputs": [],
   "source": [
    "messy_df['total_text'] = messy_df['title'] + messy_df['text']"
   ]
  },
  {
   "cell_type": "code",
   "execution_count": 61,
   "metadata": {},
   "outputs": [],
   "source": [
    "messy_df = messy_df.drop(columns= ['title', 'text'])"
   ]
  },
  {
   "cell_type": "code",
   "execution_count": 62,
   "metadata": {},
   "outputs": [
    {
     "data": {
      "text/plain": [
       "0        Google Fires Ph.D Biologist/Engineer For Claim...\n",
       "1        HOW TO GET LAID LIKE A WARLORD: 37 Rules of Ap...\n",
       "2        I have been practicing Stoicism for 3 years no...\n",
       "3        [META] Reddit rolls out first ban wave of \"Har...\n",
       "4        Man gets his ex-GF to pay child support, and R...\n",
       "                               ...                        \n",
       "11004                       The is Los Angeles, California\n",
       "11005                                    Personal freedoms\n",
       "11006                                  Progressive Liberal\n",
       "11007                                                Welp…\n",
       "11008                                  You guys were right\n",
       "Name: total_text, Length: 11009, dtype: object"
      ]
     },
     "execution_count": 62,
     "metadata": {},
     "output_type": "execute_result"
    }
   ],
   "source": [
    "messy_df['total_text'].dropna()"
   ]
  },
  {
   "cell_type": "code",
   "execution_count": 63,
   "metadata": {},
   "outputs": [
    {
     "data": {
      "text/plain": [
       "0        Google Fires Ph.D Biologist/Engineer For Claim...\n",
       "1        HOW TO GET LAID LIKE A WARLORD: 37 Rules of Ap...\n",
       "2        I have been practicing Stoicism for 3 years no...\n",
       "3        [META] Reddit rolls out first ban wave of \"Har...\n",
       "4        Man gets his ex-GF to pay child support, and R...\n",
       "                               ...                        \n",
       "11004                       The is Los Angeles, California\n",
       "11005                                    Personal freedoms\n",
       "11006                                  Progressive Liberal\n",
       "11007                                                Welp…\n",
       "11008                                  You guys were right\n",
       "Name: total_text, Length: 11009, dtype: object"
      ]
     },
     "execution_count": 63,
     "metadata": {},
     "output_type": "execute_result"
    }
   ],
   "source": [
    "messy_df['total_text']"
   ]
  },
  {
   "cell_type": "code",
   "execution_count": 64,
   "metadata": {},
   "outputs": [],
   "source": [
    "stopwords_ = stopwords.words('English')\n",
    "stopwords_ += list(string.punctuation)\n",
    "stopwords_ += ['r', 'www', 'https', 'http', 'reddit', 'com', 'post', 'sub', 'account', 'imgur'] #commonly used reddit link words\n",
    "stopwords_ += ['like', 'would', 'much', 'also', 'really', 'even', 'gt', 'us', 'never', 'see', 'way', 'could', 'back', 'need', 'take', \n",
    "                 ] #common words in the dataset"
   ]
  },
  {
   "cell_type": "code",
   "execution_count": 65,
   "metadata": {},
   "outputs": [],
   "source": [
    "lemmatizer = WordNetLemmatizer()"
   ]
  },
  {
   "cell_type": "code",
   "execution_count": 66,
   "metadata": {},
   "outputs": [],
   "source": [
    "def stop_and_lemmatize(string):\n",
    "    \"\"\"\n",
    "    Helper function for eda on the total corpus\n",
    "    \"\"\"\n",
    "    current = re.split(r'[^a-zA-Z]', string)\n",
    "    total = [x.lower() for x in current if x.lower() not in stopwords_]\n",
    "\n",
    "    final = [lemmatizer.lemmatize(x) for x in total]\n",
    "\n",
    "    return final"
   ]
  },
  {
   "cell_type": "code",
   "execution_count": 67,
   "metadata": {},
   "outputs": [],
   "source": [
    "messy_df['tokenned_stopped_text'] = messy_df['total_text'].apply(stop_and_lemmatize)"
   ]
  },
  {
   "cell_type": "code",
   "execution_count": 68,
   "metadata": {},
   "outputs": [],
   "source": [
    "corpus_series = messy_df['tokenned_stopped_text']"
   ]
  },
  {
   "cell_type": "code",
   "execution_count": 69,
   "metadata": {},
   "outputs": [
    {
     "data": {
      "text/plain": [
       "0        [google, fire, ph, biologist, engineer, claimi...\n",
       "1        [get, laid, warlord, , , , , rule, approaching...\n",
       "2        [practicing, stoicism, , , year, quality, life...\n",
       "3        [, meta, , roll, first, ban, wave, , harassing...\n",
       "4        [man, get, ex, gf, pay, child, support, , frea...\n",
       "                               ...                        \n",
       "11004                         [los, angeles, , california]\n",
       "11005                                  [personal, freedom]\n",
       "11006                               [progressive, liberal]\n",
       "11007                                             [welp, ]\n",
       "11008                                         [guy, right]\n",
       "Name: tokenned_stopped_text, Length: 11009, dtype: object"
      ]
     },
     "execution_count": 69,
     "metadata": {},
     "output_type": "execute_result"
    }
   ],
   "source": [
    "corpus_series"
   ]
  },
  {
   "cell_type": "code",
   "execution_count": 70,
   "metadata": {},
   "outputs": [],
   "source": [
    "new_corpus_series = []\n",
    "\n",
    "for word_list in corpus_series:\n",
    "    new_corpus_series.extend(word_list)"
   ]
  },
  {
   "cell_type": "code",
   "execution_count": 71,
   "metadata": {},
   "outputs": [],
   "source": [
    "new_corpus_series = pd.Series(new_corpus_series)"
   ]
  },
  {
   "cell_type": "code",
   "execution_count": 72,
   "metadata": {},
   "outputs": [],
   "source": [
    "new_corpus_series = new_corpus_series[new_corpus_series != '']"
   ]
  },
  {
   "cell_type": "code",
   "execution_count": 73,
   "metadata": {},
   "outputs": [
    {
     "data": {
      "text/plain": [
       "274083"
      ]
     },
     "execution_count": 73,
     "metadata": {},
     "output_type": "execute_result"
    }
   ],
   "source": [
    "len(new_corpus_series)"
   ]
  },
  {
   "cell_type": "code",
   "execution_count": 74,
   "metadata": {},
   "outputs": [
    {
     "data": {
      "text/plain": [
       "[('woman', 2550),\n",
       " ('trump', 1798),\n",
       " ('people', 1508),\n",
       " ('get', 1463),\n",
       " ('men', 1452),\n",
       " ('one', 1389),\n",
       " ('time', 1273),\n",
       " ('want', 1012),\n",
       " ('make', 963),\n",
       " ('amp', 952),\n",
       " ('girl', 915),\n",
       " ('year', 888),\n",
       " ('say', 862),\n",
       " ('guy', 856),\n",
       " ('know', 849),\n",
       " ('thing', 804),\n",
       " ('go', 798),\n",
       " ('day', 790),\n",
       " ('biden', 787),\n",
       " ('life', 786),\n",
       " ('comment', 782),\n",
       " ('think', 757),\n",
       " ('man', 722),\n",
       " ('right', 699),\n",
       " ('first', 649),\n",
       " ('good', 642),\n",
       " ('news', 627),\n",
       " ('president', 620),\n",
       " ('going', 610),\n",
       " ('donald', 608),\n",
       " ('work', 561),\n",
       " ('sex', 553),\n",
       " ('got', 546),\n",
       " ('look', 542),\n",
       " ('new', 528),\n",
       " ('feel', 527),\n",
       " ('twitter', 523),\n",
       " ('feminist', 522),\n",
       " ('many', 496),\n",
       " ('made', 477),\n",
       " ('every', 471),\n",
       " ('feminism', 470),\n",
       " ('something', 464),\n",
       " ('world', 454),\n",
       " ('friend', 452),\n",
       " ('male', 450),\n",
       " ('well', 449),\n",
       " ('still', 440),\n",
       " ('let', 437),\n",
       " ('lot', 436),\n",
       " ('house', 436),\n",
       " ('said', 431),\n",
       " ('call', 429),\n",
       " ('b', 427),\n",
       " ('state', 417),\n",
       " ('someone', 413),\n",
       " ('fuck', 412),\n",
       " ('sexual', 396),\n",
       " ('shit', 387),\n",
       " ('getting', 380),\n",
       " ('edit', 380),\n",
       " ('use', 376),\n",
       " ('love', 376),\n",
       " ('article', 376),\n",
       " ('thought', 374),\n",
       " ('joe', 371),\n",
       " ('come', 368),\n",
       " ('child', 367),\n",
       " ('give', 363),\n",
       " ('better', 359),\n",
       " ('actually', 355),\n",
       " ('point', 350),\n",
       " ('money', 348),\n",
       " ('election', 348),\n",
       " ('female', 347),\n",
       " ('tell', 347),\n",
       " ('find', 346),\n",
       " ('person', 345),\n",
       " ('old', 343),\n",
       " ('ever', 337),\n",
       " ('video', 334),\n",
       " ('around', 333),\n",
       " ('white', 329),\n",
       " ('u', 329),\n",
       " ('game', 326),\n",
       " ('without', 324),\n",
       " ('top', 324),\n",
       " ('keep', 320),\n",
       " ('e', 319),\n",
       " ('org', 313),\n",
       " ('another', 313),\n",
       " ('everyone', 309),\n",
       " ('job', 306),\n",
       " ('found', 305),\n",
       " ('two', 304),\n",
       " ('politics', 304),\n",
       " ('story', 303),\n",
       " ('x', 301),\n",
       " ('show', 300),\n",
       " ('stop', 299),\n",
       " ('vote', 296),\n",
       " ('mean', 294),\n",
       " ('try', 294),\n",
       " ('week', 294),\n",
       " ('red', 293),\n",
       " ('html', 293),\n",
       " ('help', 292),\n",
       " ('told', 291),\n",
       " ('social', 290),\n",
       " ('last', 290),\n",
       " ('always', 289),\n",
       " ('test', 289),\n",
       " ('rape', 286),\n",
       " ('relationship', 284),\n",
       " ('long', 283),\n",
       " ('put', 282),\n",
       " ('self', 281),\n",
       " ('away', 281),\n",
       " ('today', 280),\n",
       " ('bad', 279),\n",
       " ('ban', 279),\n",
       " ('trying', 278),\n",
       " ('group', 278),\n",
       " ('start', 278),\n",
       " ('fucking', 275),\n",
       " ('real', 274),\n",
       " ('month', 273),\n",
       " ('gender', 272),\n",
       " ('talk', 271),\n",
       " ('positive', 271),\n",
       " ('user', 270),\n",
       " ('anything', 269),\n",
       " ('hate', 267),\n",
       " ('hour', 264),\n",
       " ('reason', 258),\n",
       " ('covid', 258),\n",
       " ('le', 257),\n",
       " ('nothing', 255),\n",
       " ('enough', 254),\n",
       " ('support', 253),\n",
       " ('mind', 252),\n",
       " ('win', 252),\n",
       " ('end', 250),\n",
       " ('care', 250),\n",
       " ('best', 247),\n",
       " ('high', 246),\n",
       " ('free', 245),\n",
       " ('since', 244),\n",
       " ('making', 243),\n",
       " ('issue', 242),\n",
       " ('v', 241),\n",
       " ('used', 241),\n",
       " ('little', 240),\n",
       " ('everything', 240),\n",
       " ('live', 240),\n",
       " ('kid', 240),\n",
       " ('sure', 237),\n",
       " ('home', 237),\n",
       " ('may', 235),\n",
       " ('called', 234),\n",
       " ('must', 234),\n",
       " ('medium', 233),\n",
       " ('change', 233),\n",
       " ('left', 232),\n",
       " ('saying', 232),\n",
       " ('place', 232),\n",
       " ('pill', 232),\n",
       " ('case', 231),\n",
       " ('watch', 231),\n",
       " ('different', 229),\n",
       " ('banned', 229),\n",
       " ('youtube', 228),\n",
       " ('school', 227),\n",
       " ('f', 226),\n",
       " ('black', 225),\n",
       " ('word', 224),\n",
       " ('went', 221),\n",
       " ('big', 221),\n",
       " ('problem', 220),\n",
       " ('talking', 220),\n",
       " ('wanted', 219),\n",
       " ('part', 218),\n",
       " ('question', 218),\n",
       " ('often', 217),\n",
       " ('please', 217),\n",
       " ('c', 217),\n",
       " ('become', 216),\n",
       " ('thread', 216),\n",
       " ('fact', 215),\n",
       " ('wrong', 213),\n",
       " ('power', 212),\n",
       " ('png', 212),\n",
       " ('family', 212),\n",
       " ('oc', 212),\n",
       " ('anyone', 211),\n",
       " ('hard', 211),\n",
       " ('great', 208),\n",
       " ('read', 208),\n",
       " ('true', 207),\n",
       " ('idea', 206),\n",
       " ('might', 206),\n",
       " ('using', 206),\n",
       " ('body', 206),\n",
       " ('full', 205),\n",
       " ('next', 205),\n",
       " ('yes', 204),\n",
       " ('ago', 203),\n",
       " ('picture', 201),\n",
       " ('second', 200),\n",
       " ('already', 199),\n",
       " ('k', 199),\n",
       " ('value', 198),\n",
       " ('etc', 197),\n",
       " ('pay', 196),\n",
       " ('instead', 196),\n",
       " ('number', 195),\n",
       " ('matter', 195),\n",
       " ('police', 195),\n",
       " ('law', 194),\n",
       " ('post', 193),\n",
       " ('company', 192),\n",
       " ('policy', 192),\n",
       " ('victim', 192),\n",
       " ('co', 192),\n",
       " ('boy', 192),\n",
       " ('face', 191),\n",
       " ('happy', 190),\n",
       " ('rule', 190),\n",
       " ('believe', 189),\n",
       " ('subreddit', 189),\n",
       " ('result', 188),\n",
       " ('mod', 188),\n",
       " ('uk', 186),\n",
       " ('started', 185),\n",
       " ('thank', 185),\n",
       " ('page', 184),\n",
       " ('experience', 184),\n",
       " ('done', 183),\n",
       " ('violence', 183),\n",
       " ('term', 182),\n",
       " ('date', 182),\n",
       " ('million', 182),\n",
       " ('example', 181),\n",
       " ('looking', 180),\n",
       " ('american', 180),\n",
       " ('level', 179),\n",
       " ('kind', 178),\n",
       " ('georgia', 177),\n",
       " ('literally', 176),\n",
       " ('night', 176),\n",
       " ('human', 175),\n",
       " ('probably', 175),\n",
       " ('order', 175),\n",
       " ('trp', 174),\n",
       " ('understand', 173),\n",
       " ('message', 173),\n",
       " ('seen', 172),\n",
       " ('study', 172),\n",
       " ('country', 171),\n",
       " ('community', 170),\n",
       " ('remember', 170),\n",
       " ('though', 169),\n",
       " ('phone', 169),\n",
       " ('ask', 168),\n",
       " ('coin', 168),\n",
       " ('government', 167),\n",
       " ('nice', 167),\n",
       " ('action', 166),\n",
       " ('else', 166),\n",
       " ('taking', 166),\n",
       " ('pretty', 164),\n",
       " ('least', 164),\n",
       " ('book', 163),\n",
       " ('n', 163),\n",
       " ('cnn', 163),\n",
       " ('act', 162),\n",
       " ('america', 162),\n",
       " ('coronavirus', 162),\n",
       " ('whole', 161),\n",
       " ('control', 161),\n",
       " ('single', 160),\n",
       " ('frame', 159),\n",
       " ('wife', 159),\n",
       " ('tax', 159),\n",
       " ('interest', 158),\n",
       " ('consent', 157),\n",
       " ('asked', 157),\n",
       " ('feeling', 156),\n",
       " ('moment', 156),\n",
       " ('hand', 156),\n",
       " ('yet', 156),\n",
       " ('permanently', 156),\n",
       " ('utm', 154),\n",
       " ('update', 153),\n",
       " ('based', 153),\n",
       " ('oh', 153),\n",
       " ('took', 152),\n",
       " ('thanks', 152),\n",
       " ('trans', 152),\n",
       " ('working', 151),\n",
       " ('open', 151),\n",
       " ('together', 151),\n",
       " ('claim', 151),\n",
       " ('set', 150),\n",
       " ('name', 150),\n",
       " ('inauguration', 150),\n",
       " ('side', 149),\n",
       " ('others', 149),\n",
       " ('anti', 149),\n",
       " ('paid', 148),\n",
       " ('saw', 148),\n",
       " ('however', 147),\n",
       " ('society', 147),\n",
       " ('able', 147),\n",
       " ('play', 147),\n",
       " ('far', 146),\n",
       " ('important', 146),\n",
       " ('came', 146),\n",
       " ('report', 145),\n",
       " ('happened', 145),\n",
       " ('minute', 145),\n",
       " ('business', 144),\n",
       " ('maybe', 144),\n",
       " ('age', 144),\n",
       " ('turn', 144),\n",
       " ('buy', 144),\n",
       " ('photo', 144),\n",
       " ('attractive', 143),\n",
       " ('response', 143),\n",
       " ('thinking', 142),\n",
       " ('epstein', 142),\n",
       " ('eye', 141),\n",
       " ('war', 141),\n",
       " ('hope', 140),\n",
       " ('seems', 140),\n",
       " ('view', 139),\n",
       " ('evidence', 139),\n",
       " ('opinion', 139),\n",
       " ('young', 139),\n",
       " ('reuters', 139),\n",
       " ('history', 139),\n",
       " ('finally', 138),\n",
       " ('need', 137),\n",
       " ('almost', 137),\n",
       " ('archive', 137),\n",
       " ('due', 136),\n",
       " ('likely', 136),\n",
       " ('internet', 136),\n",
       " ('type', 135),\n",
       " ('market', 135),\n",
       " ('impeached', 135),\n",
       " ('learn', 134),\n",
       " ('nbsp', 134),\n",
       " ('past', 134),\n",
       " ('joke', 134),\n",
       " ('dad', 134),\n",
       " ('content', 134),\n",
       " ('crypto', 134),\n",
       " ('speech', 133),\n",
       " ('simply', 133),\n",
       " ('space', 133),\n",
       " ('abuse', 133),\n",
       " ('source', 133),\n",
       " ('later', 132),\n",
       " ('emotional', 132),\n",
       " ('dating', 132),\n",
       " ('republican', 132),\n",
       " ('course', 131),\n",
       " ('approach', 131),\n",
       " ('step', 131),\n",
       " ('future', 131),\n",
       " ('car', 131),\n",
       " ('non', 130),\n",
       " ('conversation', 130),\n",
       " ('alpha', 129),\n",
       " ('parent', 129),\n",
       " ('partner', 129),\n",
       " ('th', 129),\n",
       " ('link', 128),\n",
       " ('truth', 128),\n",
       " ('walk', 128),\n",
       " ('share', 128),\n",
       " ('impeachment', 127),\n",
       " ('leave', 126),\n",
       " ('three', 126),\n",
       " ('coming', 126),\n",
       " ('stuff', 126),\n",
       " ('movement', 126),\n",
       " ('college', 125),\n",
       " ('fun', 125),\n",
       " ('felt', 125),\n",
       " ('small', 124),\n",
       " ('whatever', 124),\n",
       " ('line', 124),\n",
       " ('bit', 124),\n",
       " ('facebook', 124),\n",
       " ('front', 122),\n",
       " ('half', 122),\n",
       " ('head', 122),\n",
       " ('hit', 122),\n",
       " ('crime', 121),\n",
       " ('move', 120),\n",
       " ('lost', 120),\n",
       " ('couple', 120),\n",
       " ('physical', 120),\n",
       " ('advice', 120),\n",
       " ('dog', 120),\n",
       " ('meme', 120),\n",
       " ('check', 119),\n",
       " ('net', 119),\n",
       " ('asking', 118),\n",
       " ('class', 118),\n",
       " ('run', 118),\n",
       " ('attention', 118),\n",
       " ('official', 117),\n",
       " ('sorry', 117),\n",
       " ('student', 116),\n",
       " ('answer', 116),\n",
       " ('dude', 116),\n",
       " ('til', 116),\n",
       " ('campaign', 116),\n",
       " ('bill', 115),\n",
       " ('belief', 115),\n",
       " ('difference', 114),\n",
       " ('seeing', 114),\n",
       " ('personal', 114),\n",
       " ('public', 114),\n",
       " ('court', 114),\n",
       " ('party', 114),\n",
       " ('rather', 113),\n",
       " ('short', 113),\n",
       " ('fight', 113),\n",
       " ('giving', 113),\n",
       " ('beta', 113),\n",
       " ('hear', 112),\n",
       " ('sometimes', 112),\n",
       " ('sign', 112),\n",
       " ('giuffre', 112),\n",
       " ('discussion', 111),\n",
       " ('worth', 111),\n",
       " ('entire', 111),\n",
       " ('common', 111),\n",
       " ('member', 110),\n",
       " ('telling', 110),\n",
       " ('sense', 109),\n",
       " ('boyfriend', 109),\n",
       " ('emotion', 109),\n",
       " ('bring', 109),\n",
       " ('site', 109),\n",
       " ('system', 108),\n",
       " ('recommend', 108),\n",
       " ('capitol', 108),\n",
       " ('google', 107),\n",
       " ('strong', 107),\n",
       " ('girlfriend', 107),\n",
       " ('stand', 107),\n",
       " ('porn', 107),\n",
       " ('pdf', 107),\n",
       " ('gov', 107),\n",
       " ('nytimes', 107),\n",
       " ('cause', 106),\n",
       " ('behavior', 106),\n",
       " ('either', 106),\n",
       " ('mother', 106),\n",
       " ('wish', 106),\n",
       " ('close', 106),\n",
       " ('lady', 106),\n",
       " ('meet', 106),\n",
       " ('mom', 106),\n",
       " ('risk', 106),\n",
       " ('posted', 105),\n",
       " ('possible', 105),\n",
       " ('easy', 105),\n",
       " ('completely', 105),\n",
       " ('assault', 105),\n",
       " ('tried', 105),\n",
       " ('actual', 105),\n",
       " ('taken', 104),\n",
       " ('hot', 103),\n",
       " ('definition', 103),\n",
       " ('p', 103),\n",
       " ('cursed', 103),\n",
       " ('fine', 102),\n",
       " ('gonna', 102),\n",
       " ('father', 102),\n",
       " ('knew', 102),\n",
       " ('impeach', 102),\n",
       " ('average', 101),\n",
       " ('reading', 101),\n",
       " ('towards', 101),\n",
       " ('stay', 101),\n",
       " ('plan', 101),\n",
       " ('general', 101),\n",
       " ('lead', 100),\n",
       " ('list', 100),\n",
       " ('outside', 100),\n",
       " ('seem', 100),\n",
       " ('break', 100),\n",
       " ('standard', 100),\n",
       " ('option', 100)]"
      ]
     },
     "execution_count": 74,
     "metadata": {},
     "output_type": "execute_result"
    }
   ],
   "source": [
    "freqdist = FreqDist(new_corpus_series)\n",
    "most_common = freqdist.most_common(500)\n",
    "most_common"
   ]
  },
  {
   "cell_type": "code",
   "execution_count": 75,
   "metadata": {},
   "outputs": [],
   "source": [
    "top_30 = most_common[0:30]"
   ]
  },
  {
   "cell_type": "code",
   "execution_count": 76,
   "metadata": {},
   "outputs": [],
   "source": [
    "x = []\n",
    "y = []\n",
    "\n",
    "for tuple in top_30:\n",
    "    x.append(tuple[0])\n",
    "    y.append(tuple[1])"
   ]
  },
  {
   "cell_type": "code",
   "execution_count": 77,
   "metadata": {},
   "outputs": [
    {
     "data": {
      "image/png": "[encoded data removed]",
      "text/plain": [
       "<Figure size 864x288 with 1 Axes>"
      ]
     },
     "metadata": {
      "needs_background": "light"
     },
     "output_type": "display_data"
    }
   ],
   "source": [
    "fig, ax = plt.subplots()\n",
    "\n",
    "fig.set_figwidth(12)\n",
    "\n",
    "ax.bar(x,y)\n",
    "plt.xticks(rotation = 45)\n",
    "plt.show()"
   ]
  },
  {
   "cell_type": "code",
   "execution_count": 78,
   "metadata": {},
   "outputs": [],
   "source": [
    "messy_df['finalized_text'] = messy_df['tokenned_stopped_text'].apply(lambda x: \" \".join(x))"
   ]
  },
  {
   "cell_type": "code",
   "execution_count": 79,
   "metadata": {},
   "outputs": [],
   "source": [
    "# Pickle data for modeling\n",
    "\n",
    "pd.to_pickle(messy_df, '../data/preprocessed_df.pkl')"
   ]
  },
  {
   "cell_type": "markdown",
   "metadata": {},
   "source": [
    "## Topic Modeling"
   ]
  },
  {
   "cell_type": "code",
   "execution_count": 81,
   "metadata": {},
   "outputs": [],
   "source": [
    "lda_text = messy_df['finalized_text'].apply(lambda x: x.split(\" \"))"
   ]
  },
  {
   "cell_type": "code",
   "execution_count": 87,
   "metadata": {},
   "outputs": [
    {
     "data": {
      "text/plain": [
       "0        [google, fire, ph, biologist, engineer, claimi...\n",
       "1        [get, laid, warlord, , , , , rule, approaching...\n",
       "2        [practicing, stoicism, , , year, quality, life...\n",
       "3        [, meta, , roll, first, ban, wave, , harassing...\n",
       "4        [man, get, ex, gf, pay, child, support, , frea...\n",
       "                               ...                        \n",
       "11004                         [los, angeles, , california]\n",
       "11005                                  [personal, freedom]\n",
       "11006                               [progressive, liberal]\n",
       "11007                                             [welp, ]\n",
       "11008                                         [guy, right]\n",
       "Name: finalized_text, Length: 11009, dtype: object"
      ]
     },
     "execution_count": 87,
     "metadata": {},
     "output_type": "execute_result"
    }
   ],
   "source": [
    "lda_text"
   ]
  },
  {
   "cell_type": "code",
   "execution_count": 82,
   "metadata": {},
   "outputs": [
    {
     "data": {
      "text/plain": [
       "11009"
      ]
     },
     "execution_count": 82,
     "metadata": {},
     "output_type": "execute_result"
    }
   ],
   "source": [
    "len(lda_text)"
   ]
  },
  {
   "cell_type": "code",
   "execution_count": 83,
   "metadata": {},
   "outputs": [],
   "source": [
    "corpus_dictionary = Dictionary(lda_text)\n",
    "corpus = [corpus_dictionary.doc2bow(text) for text in lda_text]"
   ]
  },
  {
   "cell_type": "code",
   "execution_count": 84,
   "metadata": {},
   "outputs": [
    {
     "data": {
      "text/plain": [
       "11009"
      ]
     },
     "execution_count": 84,
     "metadata": {},
     "output_type": "execute_result"
    }
   ],
   "source": [
    "len(corpus)"
   ]
  },
  {
   "cell_type": "code",
   "execution_count": 85,
   "metadata": {},
   "outputs": [],
   "source": [
    "lda = LdaModel(corpus, num_topics = 5, id2word= corpus_dictionary)"
   ]
  },
  {
   "cell_type": "code",
   "execution_count": 86,
   "metadata": {},
   "outputs": [
    {
     "data": {
      "text/plain": [
       "[(0,\n",
       "  '0.021*\"\" + 0.010*\"incelscirclejerk\" + 0.005*\"banned\" + 0.004*\"femoids\" + 0.004*\"upvote\" + 0.004*\"cucktears\" + 0.004*\"police\" + 0.004*\"gymcels\" + 0.004*\"elon\" + 0.003*\"protest\" + 0.003*\"inceltears\" + 0.003*\"ldar\" + 0.003*\"nutshell\" + 0.003*\"chadcels\" + 0.003*\"braziliansigmatears\" + 0.003*\"degins\" + 0.003*\"incelunification\" + 0.003*\"itjustsohappens\" + 0.003*\"inceltearscrying\" + 0.003*\"casualcels\"'),\n",
       " (1,\n",
       "  '0.251*\"\" + 0.012*\"woman\" + 0.009*\"men\" + 0.006*\"people\" + 0.006*\"one\" + 0.005*\"get\" + 0.005*\"feminist\" + 0.005*\"time\" + 0.004*\"feminism\" + 0.004*\"know\" + 0.003*\"make\" + 0.003*\"life\" + 0.003*\"want\" + 0.003*\"think\" + 0.003*\"thing\" + 0.003*\"sex\" + 0.002*\"go\" + 0.002*\"say\" + 0.002*\"lot\" + 0.002*\"man\"'),\n",
       " (2,\n",
       "  '0.202*\"\" + 0.005*\"people\" + 0.005*\"get\" + 0.005*\"right\" + 0.003*\"trump\" + 0.003*\"real\" + 0.003*\"white\" + 0.003*\"one\" + 0.003*\"joe\" + 0.003*\"fuck\" + 0.003*\"go\" + 0.003*\"time\" + 0.003*\"look\" + 0.003*\"hate\" + 0.002*\"ha\" + 0.002*\"make\" + 0.002*\"country\" + 0.002*\"meme\" + 0.002*\"biden\" + 0.002*\"twitter\"'),\n",
       " (3,\n",
       "  '0.496*\"\" + 0.006*\"woman\" + 0.005*\"men\" + 0.004*\"comment\" + 0.003*\"amp\" + 0.002*\"trump\" + 0.002*\"people\" + 0.002*\"one\" + 0.002*\"male\" + 0.002*\"sex\" + 0.002*\"female\" + 0.002*\"year\" + 0.002*\"get\" + 0.002*\"want\" + 0.002*\"sexual\" + 0.002*\"feminist\" + 0.002*\"feminism\" + 0.001*\"donald\" + 0.001*\"rape\" + 0.001*\"u\"'),\n",
       " (4,\n",
       "  '0.166*\"\" + 0.008*\"people\" + 0.005*\"woman\" + 0.005*\"trans\" + 0.004*\"get\" + 0.004*\"guy\" + 0.004*\"anti\" + 0.004*\"right\" + 0.004*\"male\" + 0.004*\"boy\" + 0.003*\"year\" + 0.003*\"think\" + 0.003*\"good\" + 0.003*\"man\" + 0.003*\"men\" + 0.003*\"say\" + 0.003*\"old\" + 0.003*\"black\" + 0.003*\"child\" + 0.003*\"free\"')]"
      ]
     },
     "execution_count": 86,
     "metadata": {},
     "output_type": "execute_result"
    }
   ],
   "source": [
    "lda.print_topics(num_words = 20)"
   ]
  },
  {
   "cell_type": "code",
   "execution_count": null,
   "metadata": {},
   "outputs": [],
   "source": []
  }
 ],
 "metadata": {
  "interpreter": {
   "hash": "1c7ae5ca7afa47d1c118e1cc9ccaf65a17609b650c517e098aee76b19a0109a3"
  },
  "kernelspec": {
   "display_name": "Python 3.9.7 ('base')",
   "language": "python",
   "name": "python3"
  },
  "language_info": {
   "codemirror_mode": {
    "name": "ipython",
    "version": 3
   },
   "file_extension": ".py",
   "mimetype": "text/x-python",
   "name": "python",
   "nbconvert_exporter": "python",
   "pygments_lexer": "ipython3",
   "version": "3.9.7"
  },
  "orig_nbformat": 4
 },
 "nbformat": 4,
 "nbformat_minor": 2
}
