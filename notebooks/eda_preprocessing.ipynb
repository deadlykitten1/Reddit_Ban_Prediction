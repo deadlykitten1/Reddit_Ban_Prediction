{
 "cells": [
  {
   "cell_type": "code",
   "execution_count": 60,
   "metadata": {},
   "outputs": [],
   "source": [
    "import pandas as pd\n",
    "import string\n",
    "\n",
    "from nltk.corpus import stopwords\n",
    "from nltk.tokenize import word_tokenize\n",
    "\n",
    "from sklearn.feature_extraction.text import TfidfVectorizer"
   ]
  },
  {
   "cell_type": "code",
   "execution_count": 3,
   "metadata": {},
   "outputs": [],
   "source": [
    "messy_df = pd.read_pickle('../data/messy_df.pkl')"
   ]
  },
  {
   "cell_type": "code",
   "execution_count": 4,
   "metadata": {},
   "outputs": [
    {
     "data": {
      "text/html": [
       "<div>\n",
       "<style scoped>\n",
       "    .dataframe tbody tr th:only-of-type {\n",
       "        vertical-align: middle;\n",
       "    }\n",
       "\n",
       "    .dataframe tbody tr th {\n",
       "        vertical-align: top;\n",
       "    }\n",
       "\n",
       "    .dataframe thead th {\n",
       "        text-align: right;\n",
       "    }\n",
       "</style>\n",
       "<table border=\"1\" class=\"dataframe\">\n",
       "  <thead>\n",
       "    <tr style=\"text-align: right;\">\n",
       "      <th></th>\n",
       "      <th>created_utc</th>\n",
       "      <th>num_comments</th>\n",
       "      <th>subreddit</th>\n",
       "      <th>subreddit_subscribers</th>\n",
       "      <th>text</th>\n",
       "      <th>title</th>\n",
       "      <th>upvote_ratio</th>\n",
       "      <th>url</th>\n",
       "      <th>image?</th>\n",
       "    </tr>\n",
       "  </thead>\n",
       "  <tbody>\n",
       "    <tr>\n",
       "      <th>0</th>\n",
       "      <td>1.502177e+09</td>\n",
       "      <td>840.0</td>\n",
       "      <td>TheRedPill</td>\n",
       "      <td>0.0</td>\n",
       "      <td>As reported in Bloomberg, Google has fired a s...</td>\n",
       "      <td>Google Fires Ph.D Biologist/Engineer For Claim...</td>\n",
       "      <td>0.65</td>\n",
       "      <td>https://www.reddit.com/r/TheRedPill/comments/6...</td>\n",
       "      <td>False</td>\n",
       "    </tr>\n",
       "    <tr>\n",
       "      <th>1</th>\n",
       "      <td>1.480424e+09</td>\n",
       "      <td>759.0</td>\n",
       "      <td>TheRedPill</td>\n",
       "      <td>0.0</td>\n",
       "      <td>**A complete guide to picking up 9s and 10s** ...</td>\n",
       "      <td>HOW TO GET LAID LIKE A WARLORD: 37 Rules of Ap...</td>\n",
       "      <td>0.82</td>\n",
       "      <td>https://www.reddit.com/r/TheRedPill/comments/5...</td>\n",
       "      <td>False</td>\n",
       "    </tr>\n",
       "    <tr>\n",
       "      <th>2</th>\n",
       "      <td>1.502101e+09</td>\n",
       "      <td>179.0</td>\n",
       "      <td>TheRedPill</td>\n",
       "      <td>0.0</td>\n",
       "      <td>**Practical Stoicism Tools**\\n\\nStoicism philo...</td>\n",
       "      <td>I have been practicing Stoicism for 3 years no...</td>\n",
       "      <td>0.86</td>\n",
       "      <td>https://www.reddit.com/r/TheRedPill/comments/6...</td>\n",
       "      <td>False</td>\n",
       "    </tr>\n",
       "    <tr>\n",
       "      <th>3</th>\n",
       "      <td>1.433962e+09</td>\n",
       "      <td>954.0</td>\n",
       "      <td>TheRedPill</td>\n",
       "      <td>0.0</td>\n",
       "      <td>The most notorious target was FatPeopleHate. Y...</td>\n",
       "      <td>[META] Reddit rolls out first ban wave of \"Har...</td>\n",
       "      <td>0.87</td>\n",
       "      <td>https://www.reddit.com/r/TheRedPill/comments/3...</td>\n",
       "      <td>False</td>\n",
       "    </tr>\n",
       "    <tr>\n",
       "      <th>4</th>\n",
       "      <td>1.500270e+09</td>\n",
       "      <td>336.0</td>\n",
       "      <td>TheRedPill</td>\n",
       "      <td>0.0</td>\n",
       "      <td>Kind of surprised this hasn't made its way her...</td>\n",
       "      <td>Man gets his ex-GF to pay child support, and R...</td>\n",
       "      <td>0.90</td>\n",
       "      <td>https://www.reddit.com/r/TheRedPill/comments/6...</td>\n",
       "      <td>False</td>\n",
       "    </tr>\n",
       "  </tbody>\n",
       "</table>\n",
       "</div>"
      ],
      "text/plain": [
       "    created_utc  num_comments   subreddit  subreddit_subscribers  \\\n",
       "0  1.502177e+09         840.0  TheRedPill                    0.0   \n",
       "1  1.480424e+09         759.0  TheRedPill                    0.0   \n",
       "2  1.502101e+09         179.0  TheRedPill                    0.0   \n",
       "3  1.433962e+09         954.0  TheRedPill                    0.0   \n",
       "4  1.500270e+09         336.0  TheRedPill                    0.0   \n",
       "\n",
       "                                                text  \\\n",
       "0  As reported in Bloomberg, Google has fired a s...   \n",
       "1  **A complete guide to picking up 9s and 10s** ...   \n",
       "2  **Practical Stoicism Tools**\\n\\nStoicism philo...   \n",
       "3  The most notorious target was FatPeopleHate. Y...   \n",
       "4  Kind of surprised this hasn't made its way her...   \n",
       "\n",
       "                                               title  upvote_ratio  \\\n",
       "0  Google Fires Ph.D Biologist/Engineer For Claim...          0.65   \n",
       "1  HOW TO GET LAID LIKE A WARLORD: 37 Rules of Ap...          0.82   \n",
       "2  I have been practicing Stoicism for 3 years no...          0.86   \n",
       "3  [META] Reddit rolls out first ban wave of \"Har...          0.87   \n",
       "4  Man gets his ex-GF to pay child support, and R...          0.90   \n",
       "\n",
       "                                                 url  image?  \n",
       "0  https://www.reddit.com/r/TheRedPill/comments/6...   False  \n",
       "1  https://www.reddit.com/r/TheRedPill/comments/5...   False  \n",
       "2  https://www.reddit.com/r/TheRedPill/comments/6...   False  \n",
       "3  https://www.reddit.com/r/TheRedPill/comments/3...   False  \n",
       "4  https://www.reddit.com/r/TheRedPill/comments/6...   False  "
      ]
     },
     "execution_count": 4,
     "metadata": {},
     "output_type": "execute_result"
    }
   ],
   "source": [
    "messy_df.head()"
   ]
  },
  {
   "cell_type": "code",
   "execution_count": 5,
   "metadata": {},
   "outputs": [],
   "source": [
    "# TODO: this is where the image processing for text will go"
   ]
  },
  {
   "cell_type": "code",
   "execution_count": 6,
   "metadata": {},
   "outputs": [],
   "source": [
    "messy_df['total_text'] = messy_df['title'] + messy_df['text']"
   ]
  },
  {
   "cell_type": "code",
   "execution_count": 7,
   "metadata": {},
   "outputs": [
    {
     "data": {
      "text/html": [
       "<div>\n",
       "<style scoped>\n",
       "    .dataframe tbody tr th:only-of-type {\n",
       "        vertical-align: middle;\n",
       "    }\n",
       "\n",
       "    .dataframe tbody tr th {\n",
       "        vertical-align: top;\n",
       "    }\n",
       "\n",
       "    .dataframe thead th {\n",
       "        text-align: right;\n",
       "    }\n",
       "</style>\n",
       "<table border=\"1\" class=\"dataframe\">\n",
       "  <thead>\n",
       "    <tr style=\"text-align: right;\">\n",
       "      <th></th>\n",
       "      <th>created_utc</th>\n",
       "      <th>num_comments</th>\n",
       "      <th>subreddit</th>\n",
       "      <th>subreddit_subscribers</th>\n",
       "      <th>upvote_ratio</th>\n",
       "      <th>url</th>\n",
       "      <th>image?</th>\n",
       "      <th>total_text</th>\n",
       "    </tr>\n",
       "  </thead>\n",
       "  <tbody>\n",
       "    <tr>\n",
       "      <th>0</th>\n",
       "      <td>1.502177e+09</td>\n",
       "      <td>840.0</td>\n",
       "      <td>TheRedPill</td>\n",
       "      <td>0.0</td>\n",
       "      <td>0.65</td>\n",
       "      <td>https://www.reddit.com/r/TheRedPill/comments/6...</td>\n",
       "      <td>False</td>\n",
       "      <td>Google Fires Ph.D Biologist/Engineer For Claim...</td>\n",
       "    </tr>\n",
       "    <tr>\n",
       "      <th>1</th>\n",
       "      <td>1.480424e+09</td>\n",
       "      <td>759.0</td>\n",
       "      <td>TheRedPill</td>\n",
       "      <td>0.0</td>\n",
       "      <td>0.82</td>\n",
       "      <td>https://www.reddit.com/r/TheRedPill/comments/5...</td>\n",
       "      <td>False</td>\n",
       "      <td>HOW TO GET LAID LIKE A WARLORD: 37 Rules of Ap...</td>\n",
       "    </tr>\n",
       "    <tr>\n",
       "      <th>2</th>\n",
       "      <td>1.502101e+09</td>\n",
       "      <td>179.0</td>\n",
       "      <td>TheRedPill</td>\n",
       "      <td>0.0</td>\n",
       "      <td>0.86</td>\n",
       "      <td>https://www.reddit.com/r/TheRedPill/comments/6...</td>\n",
       "      <td>False</td>\n",
       "      <td>I have been practicing Stoicism for 3 years no...</td>\n",
       "    </tr>\n",
       "    <tr>\n",
       "      <th>3</th>\n",
       "      <td>1.433962e+09</td>\n",
       "      <td>954.0</td>\n",
       "      <td>TheRedPill</td>\n",
       "      <td>0.0</td>\n",
       "      <td>0.87</td>\n",
       "      <td>https://www.reddit.com/r/TheRedPill/comments/3...</td>\n",
       "      <td>False</td>\n",
       "      <td>[META] Reddit rolls out first ban wave of \"Har...</td>\n",
       "    </tr>\n",
       "    <tr>\n",
       "      <th>4</th>\n",
       "      <td>1.500270e+09</td>\n",
       "      <td>336.0</td>\n",
       "      <td>TheRedPill</td>\n",
       "      <td>0.0</td>\n",
       "      <td>0.90</td>\n",
       "      <td>https://www.reddit.com/r/TheRedPill/comments/6...</td>\n",
       "      <td>False</td>\n",
       "      <td>Man gets his ex-GF to pay child support, and R...</td>\n",
       "    </tr>\n",
       "    <tr>\n",
       "      <th>...</th>\n",
       "      <td>...</td>\n",
       "      <td>...</td>\n",
       "      <td>...</td>\n",
       "      <td>...</td>\n",
       "      <td>...</td>\n",
       "      <td>...</td>\n",
       "      <td>...</td>\n",
       "      <td>...</td>\n",
       "    </tr>\n",
       "    <tr>\n",
       "      <th>11004</th>\n",
       "      <td>1.633457e+09</td>\n",
       "      <td>900.0</td>\n",
       "      <td>Anarcho_Capitalism</td>\n",
       "      <td>186148.0</td>\n",
       "      <td>0.88</td>\n",
       "      <td>https://v.redd.it/0ptsjdwh9or71</td>\n",
       "      <td>False</td>\n",
       "      <td>The is Los Angeles, California</td>\n",
       "    </tr>\n",
       "    <tr>\n",
       "      <th>11005</th>\n",
       "      <td>1.632157e+09</td>\n",
       "      <td>2229.0</td>\n",
       "      <td>Anarcho_Capitalism</td>\n",
       "      <td>186148.0</td>\n",
       "      <td>0.83</td>\n",
       "      <td>https://i.redd.it/xmgcuoawtoo71.png</td>\n",
       "      <td>True</td>\n",
       "      <td>Personal freedoms</td>\n",
       "    </tr>\n",
       "    <tr>\n",
       "      <th>11006</th>\n",
       "      <td>1.591131e+09</td>\n",
       "      <td>141.0</td>\n",
       "      <td>Anarcho_Capitalism</td>\n",
       "      <td>186148.0</td>\n",
       "      <td>0.93</td>\n",
       "      <td>https://i.imgur.com/ticpuuy.jpg</td>\n",
       "      <td>True</td>\n",
       "      <td>Progressive Liberal</td>\n",
       "    </tr>\n",
       "    <tr>\n",
       "      <th>11007</th>\n",
       "      <td>1.638208e+09</td>\n",
       "      <td>506.0</td>\n",
       "      <td>Anarcho_Capitalism</td>\n",
       "      <td>186148.0</td>\n",
       "      <td>0.89</td>\n",
       "      <td>https://i.redd.it/dcyjbpirmk281.jpg</td>\n",
       "      <td>True</td>\n",
       "      <td>Welp…</td>\n",
       "    </tr>\n",
       "    <tr>\n",
       "      <th>11008</th>\n",
       "      <td>1.646878e+09</td>\n",
       "      <td>270.0</td>\n",
       "      <td>Anarcho_Capitalism</td>\n",
       "      <td>186148.0</td>\n",
       "      <td>0.93</td>\n",
       "      <td>https://i.redd.it/x7xjh3vrrgm81.jpg</td>\n",
       "      <td>True</td>\n",
       "      <td>You guys were right</td>\n",
       "    </tr>\n",
       "  </tbody>\n",
       "</table>\n",
       "<p>11009 rows × 8 columns</p>\n",
       "</div>"
      ],
      "text/plain": [
       "        created_utc  num_comments           subreddit  subreddit_subscribers  \\\n",
       "0      1.502177e+09         840.0          TheRedPill                    0.0   \n",
       "1      1.480424e+09         759.0          TheRedPill                    0.0   \n",
       "2      1.502101e+09         179.0          TheRedPill                    0.0   \n",
       "3      1.433962e+09         954.0          TheRedPill                    0.0   \n",
       "4      1.500270e+09         336.0          TheRedPill                    0.0   \n",
       "...             ...           ...                 ...                    ...   \n",
       "11004  1.633457e+09         900.0  Anarcho_Capitalism               186148.0   \n",
       "11005  1.632157e+09        2229.0  Anarcho_Capitalism               186148.0   \n",
       "11006  1.591131e+09         141.0  Anarcho_Capitalism               186148.0   \n",
       "11007  1.638208e+09         506.0  Anarcho_Capitalism               186148.0   \n",
       "11008  1.646878e+09         270.0  Anarcho_Capitalism               186148.0   \n",
       "\n",
       "       upvote_ratio                                                url  \\\n",
       "0              0.65  https://www.reddit.com/r/TheRedPill/comments/6...   \n",
       "1              0.82  https://www.reddit.com/r/TheRedPill/comments/5...   \n",
       "2              0.86  https://www.reddit.com/r/TheRedPill/comments/6...   \n",
       "3              0.87  https://www.reddit.com/r/TheRedPill/comments/3...   \n",
       "4              0.90  https://www.reddit.com/r/TheRedPill/comments/6...   \n",
       "...             ...                                                ...   \n",
       "11004          0.88                    https://v.redd.it/0ptsjdwh9or71   \n",
       "11005          0.83                https://i.redd.it/xmgcuoawtoo71.png   \n",
       "11006          0.93                    https://i.imgur.com/ticpuuy.jpg   \n",
       "11007          0.89                https://i.redd.it/dcyjbpirmk281.jpg   \n",
       "11008          0.93                https://i.redd.it/x7xjh3vrrgm81.jpg   \n",
       "\n",
       "       image?                                         total_text  \n",
       "0       False  Google Fires Ph.D Biologist/Engineer For Claim...  \n",
       "1       False  HOW TO GET LAID LIKE A WARLORD: 37 Rules of Ap...  \n",
       "2       False  I have been practicing Stoicism for 3 years no...  \n",
       "3       False  [META] Reddit rolls out first ban wave of \"Har...  \n",
       "4       False  Man gets his ex-GF to pay child support, and R...  \n",
       "...       ...                                                ...  \n",
       "11004   False                     The is Los Angeles, California  \n",
       "11005    True                                  Personal freedoms  \n",
       "11006    True                                Progressive Liberal  \n",
       "11007    True                                              Welp…  \n",
       "11008    True                                You guys were right  \n",
       "\n",
       "[11009 rows x 8 columns]"
      ]
     },
     "execution_count": 7,
     "metadata": {},
     "output_type": "execute_result"
    }
   ],
   "source": [
    "messy_df.drop(columns= ['title', 'text'])"
   ]
  },
  {
   "cell_type": "code",
   "execution_count": 46,
   "metadata": {},
   "outputs": [
    {
     "data": {
      "text/plain": [
       "0        Google Fires Ph.D Biologist/Engineer For Claim...\n",
       "1        HOW TO GET LAID LIKE A WARLORD: 37 Rules of Ap...\n",
       "2        I have been practicing Stoicism for 3 years no...\n",
       "3        [META] Reddit rolls out first ban wave of \"Har...\n",
       "4        Man gets his ex-GF to pay child support, and R...\n",
       "                               ...                        \n",
       "11004                       The is Los Angeles, California\n",
       "11005                                    Personal freedoms\n",
       "11006                                  Progressive Liberal\n",
       "11007                                                Welp…\n",
       "11008                                  You guys were right\n",
       "Name: total_text, Length: 11009, dtype: object"
      ]
     },
     "execution_count": 46,
     "metadata": {},
     "output_type": "execute_result"
    }
   ],
   "source": [
    "messy_df['total_text'].dropna()"
   ]
  },
  {
   "cell_type": "code",
   "execution_count": 48,
   "metadata": {},
   "outputs": [
    {
     "data": {
      "text/plain": [
       "11009"
      ]
     },
     "execution_count": 48,
     "metadata": {},
     "output_type": "execute_result"
    }
   ],
   "source": [
    "messy_df['total_text']"
   ]
  },
  {
   "cell_type": "code",
   "execution_count": 8,
   "metadata": {},
   "outputs": [],
   "source": [
    "stopwords = stopwords.words('english')\n",
    "stopwords += list(string.punctuation)"
   ]
  },
  {
   "cell_type": "code",
   "execution_count": 40,
   "metadata": {},
   "outputs": [],
   "source": [
    "def combine_all(pd_series):\n",
    "    \"\"\"\n",
    "    Helper function for eda on the total corpus\n",
    "    \"\"\"\n",
    "    total = []\n",
    "\n",
    "    for string in pd_series:\n",
    "        total += string.split(' ')\n",
    "\n",
    "    return total "
   ]
  },
  {
   "cell_type": "code",
   "execution_count": 49,
   "metadata": {},
   "outputs": [],
   "source": [
    "combined_corpus = combine_all(messy_df['total_text'])"
   ]
  },
  {
   "cell_type": "code",
   "execution_count": 51,
   "metadata": {},
   "outputs": [],
   "source": [
    "corpus_series = pd.Series(combined_corpus)"
   ]
  },
  {
   "cell_type": "code",
   "execution_count": 58,
   "metadata": {},
   "outputs": [
    {
     "data": {
      "text/plain": [
       "<class 'str'>    498535\n",
       "dtype: int64"
      ]
     },
     "execution_count": 58,
     "metadata": {},
     "output_type": "execute_result"
    }
   ],
   "source": [
    "corpus_series.apply(type).value_counts()"
   ]
  },
  {
   "cell_type": "code",
   "execution_count": 64,
   "metadata": {},
   "outputs": [
    {
     "ename": "SyntaxError",
     "evalue": "invalid syntax (<ipython-input-64-65ba946cc527>, line 2)",
     "output_type": "error",
     "traceback": [
      "\u001b[0;36m  File \u001b[0;32m\"<ipython-input-64-65ba946cc527>\"\u001b[0;36m, line \u001b[0;32m2\u001b[0m\n\u001b[0;31m    messy_df['tokenized_text'] = messy_df['tokenized_text'].apply(lambda x: x.lower() if x not in stopwords)\u001b[0m\n\u001b[0m                                                                                                           ^\u001b[0m\n\u001b[0;31mSyntaxError\u001b[0m\u001b[0;31m:\u001b[0m invalid syntax\n"
     ]
    }
   ],
   "source": [
    "messy_df['tokenized_text'] = messy_df['total_text'].apply(word_tokenize)\n",
    "messy_df['stopped_tokens'] = [w.lower() for w in messy_df['tokenized_text'] if w not in stopwords]"
   ]
  },
  {
   "cell_type": "code",
   "execution_count": 63,
   "metadata": {},
   "outputs": [
    {
     "data": {
      "text/plain": [
       "0        [Google, Fires, Ph.D, Biologist/Engineer, For,...\n",
       "1        [HOW, TO, GET, LAID, LIKE, A, WARLORD, :, 37, ...\n",
       "2        [I, have, been, practicing, Stoicism, for, 3, ...\n",
       "3        [[, META, ], Reddit, rolls, out, first, ban, w...\n",
       "4        [Man, gets, his, ex-GF, to, pay, child, suppor...\n",
       "                               ...                        \n",
       "11004               [The, is, Los, Angeles, ,, California]\n",
       "11005                                 [Personal, freedoms]\n",
       "11006                               [Progressive, Liberal]\n",
       "11007                                              [Welp…]\n",
       "11008                             [You, guys, were, right]\n",
       "Name: tokenized_text, Length: 11009, dtype: object"
      ]
     },
     "execution_count": 63,
     "metadata": {},
     "output_type": "execute_result"
    }
   ],
   "source": [
    "messy_df['tokenized_text']"
   ]
  },
  {
   "cell_type": "code",
   "execution_count": 10,
   "metadata": {},
   "outputs": [],
   "source": [
    "tfidf_vectorizer = TfidfVectorizer(stop_words = stopwords)\n",
    "\n",
    "text_transformed = tfidf_vectorizer.fit_transform(messy_df['total_text'])"
   ]
  },
  {
   "cell_type": "code",
   "execution_count": null,
   "metadata": {},
   "outputs": [],
   "source": []
  }
 ],
 "metadata": {
  "interpreter": {
   "hash": "dfff5bd0c134f0547de71482d92e26ad9816d2e72735de45c73d9aeb806ef98a"
  },
  "kernelspec": {
   "display_name": "Python 3.8.5 ('learn-env')",
   "language": "python",
   "name": "python3"
  },
  "language_info": {
   "codemirror_mode": {
    "name": "ipython",
    "version": 3
   },
   "file_extension": ".py",
   "mimetype": "text/x-python",
   "name": "python",
   "nbconvert_exporter": "python",
   "pygments_lexer": "ipython3",
   "version": "3.8.5"
  },
  "orig_nbformat": 4
 },
 "nbformat": 4,
 "nbformat_minor": 2
}
