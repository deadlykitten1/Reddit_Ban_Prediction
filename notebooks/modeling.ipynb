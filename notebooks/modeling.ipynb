{
 "cells": [
  {
   "cell_type": "code",
   "execution_count": 1,
   "metadata": {},
   "outputs": [],
   "source": [
    "import pandas as pd\n",
    "import numpy as np\n",
    "\n",
    "from sklearn.feature_extraction.text import TfidfVectorizer\n",
    "from sklearn.feature_extraction.text import CountVectorizer\n",
    "\n",
    "from scipy.sparse import hstack, coo_matrix\n",
    "\n",
    "from sklearn.preprocessing import StandardScaler\n",
    "from sklearn.base import BaseEstimator, TransformerMixin\n",
    "from sklearn.model_selection import train_test_split\n",
    "from sklearn.tree import DecisionTreeClassifier\n",
    "from sklearn.ensemble import RandomForestClassifier\n",
    "from sklearn.naive_bayes import MultinomialNB\n",
    "from sklearn.ensemble import BaggingClassifier\n",
    "from sklearn.model_selection import GridSearchCV\n",
    "from sklearn.model_selection import RandomizedSearchCV\n",
    "from sklearn.compose import ColumnTransformer\n",
    "from sklearn.pipeline import FeatureUnion\n",
    "from sklearn.pipeline import Pipeline\n",
    "from sklearn.metrics import plot_confusion_matrix\n",
    "from sklearn.metrics import classification_report\n",
    "\n",
    "import seaborn as sns"
   ]
  },
  {
   "cell_type": "code",
   "execution_count": 2,
   "metadata": {},
   "outputs": [],
   "source": [
    "df_by_post = pd.read_csv('../data/posts.csv')"
   ]
  },
  {
   "cell_type": "code",
   "execution_count": 3,
   "metadata": {},
   "outputs": [],
   "source": [
    "# Redoing this here because of problems with pickle when switching from pc to mac\n",
    "labels = {\n",
    "    #Quarantined subreddits\n",
    "    'TheRedPill' : -1,\n",
    "\n",
    "    #apolitical (I think)\n",
    "    'BlackPeopleTwitter' : 1,\n",
    "    'WhitePeopleTwitter' : 1,\n",
    "    'politics' : 0,\n",
    "    'law' : 0,\n",
    "    'news' : 0,\n",
    "    'worldnews' : 0,\n",
    "    'Jokes' : 0,\n",
    "    'funny' : 0,\n",
    "    'gaming' : 0,\n",
    "    'Games' : 0,\n",
    "    'technology' : 0,\n",
    "    'tech' : 0,\n",
    "    'technews' : 0,\n",
    "    'gadgets' : 0,\n",
    "    'space' : 0,\n",
    "    'science' : 0,\n",
    "    'nextfuckinglevel' : 0,\n",
    "    'MurderedByWords' : 0,\n",
    "    'mildlyinteresting' : 0,\n",
    "    'Damnthatsinteresting' : 0,\n",
    "    'mildlyinfuriating' : 0,\n",
    "    'wallstreetbets' : 0,\n",
    "    'Superstonk' : 0,\n",
    "    'shitposting' : 0,\n",
    "    'pcmasterrace' : 0,\n",
    "    'teenagers' : 0,\n",
    "    'PublicFreakout' : 0,\n",
    "    'memes' : 0,\n",
    "    'AskReddit' : 0,\n",
    "    'AskAnAmerican' : 0,\n",
    "    'Gamingcirclejerk' : 0,\n",
    "    'nottheonion' : 0,\n",
    "    'gatesopencomeonin' : 0,\n",
    "    'wholesomememes' : 0,\n",
    "    'wholesome' : 0,\n",
    "    'interestingasfuck' : 0,\n",
    "    'PoliticalCompassMemes' : 0,\n",
    "    'PoliticalHumor' : 0,\n",
    "    'AskMen' : 0,\n",
    "    'AskWomen' : 0,\n",
    "    'TooAfraidToAsk' : 0,\n",
    "    'MadeMeSmile' : 0,\n",
    "    'rareinsults' : 0,\n",
    "    'UFOs' : 0,\n",
    "    'HighStrangeness' : 0,\n",
    "    'todayilearned' : 0,\n",
    "    'RoastMe' : 0,\n",
    "    'CryptoCurrency' : 0,\n",
    "    'Wellthatsucks' : 0,\n",
    "    'barstoolsports' : 0,\n",
    "    'awfuleverything' : 0,\n",
    "    'unpopularopinion' : 0,\n",
    "    'atheism' : 0,\n",
    "    'Christianity' : 0,\n",
    "    'Catholicism' : 0,\n",
    "    'changemyview' : 0,\n",
    "    'Coronavirus' : 0,\n",
    "    'COVID19' : 0,\n",
    "    'coronavirusNYC' : 0,\n",
    "    'Masks4All' : 1,\n",
    "    'consipiratard' : 0,\n",
    "    'environment' : 1,\n",
    "    'environment2' : 1,\n",
    "    'TrollXChromosomes' : 1,\n",
    "    'TrollYChromosome' : 0,\n",
    "    'WikiLeaks' : -1,\n",
    "    '4chan' : 0,\n",
    "    'greentext' : 0,\n",
    "    'NoStupidQuestions' : 0,\n",
    "    'offmychest' : 0,\n",
    "    'texas' : 1,\n",
    "    'TexasPolitics' : 1,\n",
    "    'CanadaPolitics' : 0,\n",
    "    'florida' : 0,\n",
    "    'terriblefacebookmemes' : 0,\n",
    "    'insanepeoplefacebook' : 0,\n",
    "    'ShitMomGroupsSay' : 0,\n",
    "    'masskillers' : 0,\n",
    "    'Parenting' : 0,\n",
    "    'Marriage' : 0,\n",
    "    'neoliberal' : 1,\n",
    "    'spacex' : 0,\n",
    "    'savedyouaclick' : 0,\n",
    "    'socialmedia' : 0,\n",
    "    'moderatepolitics' : 0,\n",
    "    'virginvschad' : -1,\n",
    "    'CoronavirusCirclejerk' : -1,\n",
    "    'dankmemes' : 0,\n",
    "    'Memes_Of_The_Dank' : 0,\n",
    "    'OutOfTheLoop' : 0,\n",
    "    'dataisbeautiful' : 0,\n",
    "\n",
    "    #left (I think)\n",
    "    'democrats' : 1,\n",
    "    'antiwork' : 1,\n",
    "    'Anticonsumption' : 1,\n",
    "    'SelfAwarewolves' : 1,\n",
    "    'niceguys' : 1,\n",
    "    'onejoke' : 1,\n",
    "    'Feminism' : 1,\n",
    "    'WitchesVsPatriarchy' : 1,\n",
    "    'AreTheStraightsOK' : 1,\n",
    "    'ToiletPaperUSA' : 1,\n",
    "    'LeopardsAteMyFace' : 1,\n",
    "    'TwoXChromosomes' : 1,\n",
    "    'Anarchism' : 1,\n",
    "    'TopMindsOfReddit' : 1,\n",
    "    'esist' : 1,\n",
    "    'MarchAgainstNazis' : 1,\n",
    "    'exredpill' : 1,\n",
    "    'MensLib' : 1,\n",
    "    'lgbt' : 1,\n",
    "    'gay' : 1,\n",
    "    'bisexual' : 1,\n",
    "    'AgainstHateSubreddits' : 1,\n",
    "    'traaaaaaannnnnnnnnns' : 1,\n",
    "    'trans' : 1,\n",
    "    'GenderCynical' : 1,\n",
    "    'EnoughTrumpSpam' : 1,\n",
    "    'ABoringDystopia' : 1,\n",
    "    'boringdystopia' : 1,\n",
    "    'pointlesslygendered' : 1,\n",
    "    'Persecutionfetish' : 1,\n",
    "    'TheRightCantMeme' : 1,\n",
    "    'MurderedByAOC' : 1,\n",
    "    'LateStageCapitalism' : 1,\n",
    "    'TheBluePill' : 1,\n",
    "    'justneckbeardthings' : 1,\n",
    "    'NotHowGirlsWork' : 1,\n",
    "    'CapitalismSux' : 1,\n",
    "    'GreenAndPleasant' : 1,\n",
    "    'religiousfruitcake' : 1,\n",
    "    'FragileWhiteRedditor' : 1,\n",
    "    'Trumpvirus' : 1,\n",
    "    'socialism' : 1,\n",
    "    'asktransgender' : 1,\n",
    "    'SandersForPresident' : 1,\n",
    "    'MtF' : 1,\n",
    "    'ftm' : 1,\n",
    "    'egg_irl' : 1,\n",
    "    'NonBinary' : 1,\n",
    "    'HermanCainAward' : 1,\n",
    "    'lostgeneration' : 1,\n",
    "    'stupidpol' : 1,\n",
    "    'Qult_Headquarters' : 1,\n",
    "    'IncelTear' : 1,\n",
    "    'ParlerWatch' : 1,\n",
    "    'ShitLiberalsSay' : 1,\n",
    "    'Hasan_Piker' : 1,\n",
    "    'DemocraticSocialism' : 1,\n",
    "    'SapphoAndHerFriend' : 1,\n",
    "\n",
    "    #right (I think)\n",
    "    'JoeRogan' : -1,\n",
    "    'okbuddyretard' : -1,\n",
    "    'okmatewanker' : -1,\n",
    "    'pussypassdenied' : -1,\n",
    "    'antifeminists' : -1,\n",
    "    'MensRights' : -1,\n",
    "    'ProudMaleFeminists' : -1,\n",
    "    'WhereAreTheFeminists' : -1,\n",
    "    'FeminismUncensored' : -1,\n",
    "    'SRSsucks' : -1,\n",
    "    'Conservative' : -1,\n",
    "    'JordanPeterson' : -1,\n",
    "    'conspiracy' : -1,\n",
    "    'conspiracy_commons' : -1,\n",
    "    'tucker_carlson' : -1,\n",
    "    'TheTrumpZone' : -1,\n",
    "    'LouderWithCrowder' : -1,\n",
    "    'Libertarian' : -1,\n",
    "    'AskThe_Donald' : -1,\n",
    "    'walkaway' : -1,\n",
    "    'ConservativesOnly' : -1,\n",
    "    'IncelsCircleJerk' : -1,\n",
    "    'BlackPillScience' : -1,\n",
    "    'Blubber_Whaling' : -1,\n",
    "    'memegender' : -1,\n",
    "    'SocialJusticeInAction' : -1,\n",
    "    'FreeSpeech' : -1,\n",
    "    'libsofreddit' : -1,\n",
    "    'EnoughCommieSpam' : -1,\n",
    "    'TheLeftCantMeme' : -1,\n",
    "    'Anarcho_Capitalism' : -1,\n",
    "    'ar15' : -1,\n",
    "    'guns' : -1,\n",
    "    'canadaguns' : -1,\n",
    "    'progun' : -1,\n",
    "    'gunpolitics' : -1,\n",
    "    'Firearms' : -1,\n",
    "    'CCW' : -1,\n",
    "    'Glocks': -1,\n",
    "    'tacticalgear' : -1,\n",
    "    'liberalgunowners' : -1,\n",
    "    'HillaryForPrison' : -1,\n",
    "    'Offensivejokes' : -1,\n",
    "    'climateskeptics' : -1,\n",
    "    'LockdownCriticalLeft' : -1,\n",
    "    'FightingFakeNews' : -1,\n",
    "    'Republican' : -1\n",
    "}"
   ]
  },
  {
   "cell_type": "code",
   "execution_count": 4,
   "metadata": {},
   "outputs": [],
   "source": [
    "# Apply hand labels to data\n",
    "df_by_post['alignment'] = df_by_post['subreddit'].apply(lambda x: labels[x])"
   ]
  },
  {
   "cell_type": "code",
   "execution_count": 5,
   "metadata": {},
   "outputs": [],
   "source": [
    "# grab the clustering labels\n",
    "agg_label_df = pd.read_pickle('../data/agg_labels.pkl')"
   ]
  },
  {
   "cell_type": "code",
   "execution_count": 6,
   "metadata": {},
   "outputs": [],
   "source": [
    "agg_label_df['subreddit'] = agg_label_df.index"
   ]
  },
  {
   "cell_type": "code",
   "execution_count": 7,
   "metadata": {},
   "outputs": [
    {
     "data": {
      "text/html": [
       "<div>\n",
       "<style scoped>\n",
       "    .dataframe tbody tr th:only-of-type {\n",
       "        vertical-align: middle;\n",
       "    }\n",
       "\n",
       "    .dataframe tbody tr th {\n",
       "        vertical-align: top;\n",
       "    }\n",
       "\n",
       "    .dataframe thead th {\n",
       "        text-align: right;\n",
       "    }\n",
       "</style>\n",
       "<table border=\"1\" class=\"dataframe\">\n",
       "  <thead>\n",
       "    <tr style=\"text-align: right;\">\n",
       "      <th></th>\n",
       "      <th>text</th>\n",
       "      <th>k_means_labels</th>\n",
       "      <th>agg_labels</th>\n",
       "      <th>subreddit</th>\n",
       "    </tr>\n",
       "  </thead>\n",
       "  <tbody>\n",
       "    <tr>\n",
       "      <th>TheRedPill</th>\n",
       "      <td>google fire ph.d biologist/engineer claiming a...</td>\n",
       "      <td>4</td>\n",
       "      <td>3</td>\n",
       "      <td>TheRedPill</td>\n",
       "    </tr>\n",
       "    <tr>\n",
       "      <th>BlackPeopleTwitter</th>\n",
       "      <td>wildest trend imo corjay lmao_shippuden inco l...</td>\n",
       "      <td>3</td>\n",
       "      <td>2</td>\n",
       "      <td>BlackPeopleTwitter</td>\n",
       "    </tr>\n",
       "    <tr>\n",
       "      <th>WhitePeopleTwitter</th>\n",
       "      <td>solution obvious shooting foot secular talk vv...</td>\n",
       "      <td>3</td>\n",
       "      <td>2</td>\n",
       "      <td>WhitePeopleTwitter</td>\n",
       "    </tr>\n",
       "    <tr>\n",
       "      <th>politics</th>\n",
       "      <td>megathread joe biden projected defeat presiden...</td>\n",
       "      <td>1</td>\n",
       "      <td>14</td>\n",
       "      <td>politics</td>\n",
       "    </tr>\n",
       "    <tr>\n",
       "      <th>law</th>\n",
       "      <td>law school leaked draft dobbs opinion justice ...</td>\n",
       "      <td>1</td>\n",
       "      <td>14</td>\n",
       "      <td>law</td>\n",
       "    </tr>\n",
       "  </tbody>\n",
       "</table>\n",
       "</div>"
      ],
      "text/plain": [
       "                                                                 text  \\\n",
       "TheRedPill          google fire ph.d biologist/engineer claiming a...   \n",
       "BlackPeopleTwitter  wildest trend imo corjay lmao_shippuden inco l...   \n",
       "WhitePeopleTwitter  solution obvious shooting foot secular talk vv...   \n",
       "politics            megathread joe biden projected defeat presiden...   \n",
       "law                 law school leaked draft dobbs opinion justice ...   \n",
       "\n",
       "                    k_means_labels  agg_labels           subreddit  \n",
       "TheRedPill                       4           3          TheRedPill  \n",
       "BlackPeopleTwitter               3           2  BlackPeopleTwitter  \n",
       "WhitePeopleTwitter               3           2  WhitePeopleTwitter  \n",
       "politics                         1          14            politics  \n",
       "law                              1          14                 law  "
      ]
     },
     "execution_count": 7,
     "metadata": {},
     "output_type": "execute_result"
    }
   ],
   "source": [
    "agg_label_df.head()"
   ]
  },
  {
   "cell_type": "code",
   "execution_count": 8,
   "metadata": {},
   "outputs": [],
   "source": [
    "df_by_post['agg_label'] = df_by_post['subreddit'].apply(lambda x: agg_label_df['agg_labels'].loc[x])"
   ]
  },
  {
   "cell_type": "code",
   "execution_count": 9,
   "metadata": {},
   "outputs": [
    {
     "data": {
      "text/html": [
       "<div>\n",
       "<style scoped>\n",
       "    .dataframe tbody tr th:only-of-type {\n",
       "        vertical-align: middle;\n",
       "    }\n",
       "\n",
       "    .dataframe tbody tr th {\n",
       "        vertical-align: top;\n",
       "    }\n",
       "\n",
       "    .dataframe thead th {\n",
       "        text-align: right;\n",
       "    }\n",
       "</style>\n",
       "<table border=\"1\" class=\"dataframe\">\n",
       "  <thead>\n",
       "    <tr style=\"text-align: right;\">\n",
       "      <th></th>\n",
       "      <th>Unnamed: 0</th>\n",
       "      <th>created_utc</th>\n",
       "      <th>subreddit</th>\n",
       "      <th>subreddit_subscribers</th>\n",
       "      <th>name_code</th>\n",
       "      <th>upvote_ratio</th>\n",
       "      <th>num_comments</th>\n",
       "      <th>url</th>\n",
       "      <th>image?</th>\n",
       "      <th>total_text</th>\n",
       "      <th>tokenned_stopped_text</th>\n",
       "      <th>finalized_text</th>\n",
       "      <th>alignment</th>\n",
       "      <th>agg_label</th>\n",
       "    </tr>\n",
       "  </thead>\n",
       "  <tbody>\n",
       "    <tr>\n",
       "      <th>0</th>\n",
       "      <td>0</td>\n",
       "      <td>1.502177e+09</td>\n",
       "      <td>TheRedPill</td>\n",
       "      <td>0.0</td>\n",
       "      <td>t3_6sbx6i</td>\n",
       "      <td>0.65</td>\n",
       "      <td>840.0</td>\n",
       "      <td>https://www.reddit.com/r/TheRedPill/comments/6...</td>\n",
       "      <td>False</td>\n",
       "      <td>Google Fires Ph.D Biologist/Engineer For Claim...</td>\n",
       "      <td>['google', 'fire', 'ph.d', 'biologist/engineer...</td>\n",
       "      <td>google fire ph.d biologist/engineer claiming a...</td>\n",
       "      <td>-1</td>\n",
       "      <td>3</td>\n",
       "    </tr>\n",
       "    <tr>\n",
       "      <th>1</th>\n",
       "      <td>1</td>\n",
       "      <td>1.480424e+09</td>\n",
       "      <td>TheRedPill</td>\n",
       "      <td>0.0</td>\n",
       "      <td>t3_5fihmu</td>\n",
       "      <td>0.83</td>\n",
       "      <td>760.0</td>\n",
       "      <td>https://www.reddit.com/r/TheRedPill/comments/5...</td>\n",
       "      <td>False</td>\n",
       "      <td>HOW TO GET LAID LIKE A WARLORD: 37 Rules of Ap...</td>\n",
       "      <td>['laid', 'warlord', '37', 'rule', 'approaching...</td>\n",
       "      <td>laid warlord 37 rule approaching model-tier gi...</td>\n",
       "      <td>-1</td>\n",
       "      <td>3</td>\n",
       "    </tr>\n",
       "    <tr>\n",
       "      <th>2</th>\n",
       "      <td>2</td>\n",
       "      <td>1.502101e+09</td>\n",
       "      <td>TheRedPill</td>\n",
       "      <td>0.0</td>\n",
       "      <td>t3_6s4mfa</td>\n",
       "      <td>0.86</td>\n",
       "      <td>179.0</td>\n",
       "      <td>https://www.reddit.com/r/TheRedPill/comments/6...</td>\n",
       "      <td>False</td>\n",
       "      <td>I have been practicing Stoicism for 3 years no...</td>\n",
       "      <td>['practicing', 'stoicism', 'year', 'quality', ...</td>\n",
       "      <td>practicing stoicism year quality life increase...</td>\n",
       "      <td>-1</td>\n",
       "      <td>3</td>\n",
       "    </tr>\n",
       "    <tr>\n",
       "      <th>3</th>\n",
       "      <td>3</td>\n",
       "      <td>1.433962e+09</td>\n",
       "      <td>TheRedPill</td>\n",
       "      <td>0.0</td>\n",
       "      <td>t3_39bvdm</td>\n",
       "      <td>0.87</td>\n",
       "      <td>954.0</td>\n",
       "      <td>https://www.reddit.com/r/TheRedPill/comments/3...</td>\n",
       "      <td>False</td>\n",
       "      <td>[META] Reddit rolls out first ban wave of \"Har...</td>\n",
       "      <td>['meta', 'reddit', 'roll', 'first', 'ban', 'wa...</td>\n",
       "      <td>meta reddit roll first ban wave harassing subr...</td>\n",
       "      <td>-1</td>\n",
       "      <td>3</td>\n",
       "    </tr>\n",
       "    <tr>\n",
       "      <th>4</th>\n",
       "      <td>4</td>\n",
       "      <td>1.500270e+09</td>\n",
       "      <td>TheRedPill</td>\n",
       "      <td>0.0</td>\n",
       "      <td>t3_6nr5yo</td>\n",
       "      <td>0.90</td>\n",
       "      <td>336.0</td>\n",
       "      <td>https://www.reddit.com/r/TheRedPill/comments/6...</td>\n",
       "      <td>False</td>\n",
       "      <td>Man gets his ex-GF to pay child support, and R...</td>\n",
       "      <td>['man', 'get', 'ex-gf', 'pay', 'child', 'suppo...</td>\n",
       "      <td>man get ex-gf pay child support reddit freak k...</td>\n",
       "      <td>-1</td>\n",
       "      <td>3</td>\n",
       "    </tr>\n",
       "  </tbody>\n",
       "</table>\n",
       "</div>"
      ],
      "text/plain": [
       "   Unnamed: 0   created_utc   subreddit  subreddit_subscribers  name_code  \\\n",
       "0           0  1.502177e+09  TheRedPill                    0.0  t3_6sbx6i   \n",
       "1           1  1.480424e+09  TheRedPill                    0.0  t3_5fihmu   \n",
       "2           2  1.502101e+09  TheRedPill                    0.0  t3_6s4mfa   \n",
       "3           3  1.433962e+09  TheRedPill                    0.0  t3_39bvdm   \n",
       "4           4  1.500270e+09  TheRedPill                    0.0  t3_6nr5yo   \n",
       "\n",
       "   upvote_ratio  num_comments  \\\n",
       "0          0.65         840.0   \n",
       "1          0.83         760.0   \n",
       "2          0.86         179.0   \n",
       "3          0.87         954.0   \n",
       "4          0.90         336.0   \n",
       "\n",
       "                                                 url  image?  \\\n",
       "0  https://www.reddit.com/r/TheRedPill/comments/6...   False   \n",
       "1  https://www.reddit.com/r/TheRedPill/comments/5...   False   \n",
       "2  https://www.reddit.com/r/TheRedPill/comments/6...   False   \n",
       "3  https://www.reddit.com/r/TheRedPill/comments/3...   False   \n",
       "4  https://www.reddit.com/r/TheRedPill/comments/6...   False   \n",
       "\n",
       "                                          total_text  \\\n",
       "0  Google Fires Ph.D Biologist/Engineer For Claim...   \n",
       "1  HOW TO GET LAID LIKE A WARLORD: 37 Rules of Ap...   \n",
       "2  I have been practicing Stoicism for 3 years no...   \n",
       "3  [META] Reddit rolls out first ban wave of \"Har...   \n",
       "4  Man gets his ex-GF to pay child support, and R...   \n",
       "\n",
       "                               tokenned_stopped_text  \\\n",
       "0  ['google', 'fire', 'ph.d', 'biologist/engineer...   \n",
       "1  ['laid', 'warlord', '37', 'rule', 'approaching...   \n",
       "2  ['practicing', 'stoicism', 'year', 'quality', ...   \n",
       "3  ['meta', 'reddit', 'roll', 'first', 'ban', 'wa...   \n",
       "4  ['man', 'get', 'ex-gf', 'pay', 'child', 'suppo...   \n",
       "\n",
       "                                      finalized_text  alignment  agg_label  \n",
       "0  google fire ph.d biologist/engineer claiming a...         -1          3  \n",
       "1  laid warlord 37 rule approaching model-tier gi...         -1          3  \n",
       "2  practicing stoicism year quality life increase...         -1          3  \n",
       "3  meta reddit roll first ban wave harassing subr...         -1          3  \n",
       "4  man get ex-gf pay child support reddit freak k...         -1          3  "
      ]
     },
     "execution_count": 9,
     "metadata": {},
     "output_type": "execute_result"
    }
   ],
   "source": [
    "df_by_post.head()"
   ]
  },
  {
   "cell_type": "code",
   "execution_count": 10,
   "metadata": {},
   "outputs": [],
   "source": [
    "#Clean up the data little bit\n",
    "predicting_df = df_by_post.drop(columns = ['url', 'subreddit_subscribers', 'total_text', 'tokenned_stopped_text', 'created_utc', 'subreddit', 'Unnamed: 0'])"
   ]
  },
  {
   "cell_type": "code",
   "execution_count": 11,
   "metadata": {},
   "outputs": [],
   "source": [
    "#Switch image to a float for modeling\n",
    "predicting_df['image?'] = predicting_df['image?'].astype('float64')"
   ]
  },
  {
   "cell_type": "code",
   "execution_count": 12,
   "metadata": {},
   "outputs": [
    {
     "data": {
      "text/html": [
       "<div>\n",
       "<style scoped>\n",
       "    .dataframe tbody tr th:only-of-type {\n",
       "        vertical-align: middle;\n",
       "    }\n",
       "\n",
       "    .dataframe tbody tr th {\n",
       "        vertical-align: top;\n",
       "    }\n",
       "\n",
       "    .dataframe thead th {\n",
       "        text-align: right;\n",
       "    }\n",
       "</style>\n",
       "<table border=\"1\" class=\"dataframe\">\n",
       "  <thead>\n",
       "    <tr style=\"text-align: right;\">\n",
       "      <th></th>\n",
       "      <th>name_code</th>\n",
       "      <th>upvote_ratio</th>\n",
       "      <th>num_comments</th>\n",
       "      <th>image?</th>\n",
       "      <th>finalized_text</th>\n",
       "      <th>alignment</th>\n",
       "      <th>agg_label</th>\n",
       "    </tr>\n",
       "  </thead>\n",
       "  <tbody>\n",
       "    <tr>\n",
       "      <th>0</th>\n",
       "      <td>t3_6sbx6i</td>\n",
       "      <td>0.65</td>\n",
       "      <td>840.0</td>\n",
       "      <td>0.0</td>\n",
       "      <td>google fire ph.d biologist/engineer claiming a...</td>\n",
       "      <td>-1</td>\n",
       "      <td>3</td>\n",
       "    </tr>\n",
       "    <tr>\n",
       "      <th>1</th>\n",
       "      <td>t3_5fihmu</td>\n",
       "      <td>0.83</td>\n",
       "      <td>760.0</td>\n",
       "      <td>0.0</td>\n",
       "      <td>laid warlord 37 rule approaching model-tier gi...</td>\n",
       "      <td>-1</td>\n",
       "      <td>3</td>\n",
       "    </tr>\n",
       "    <tr>\n",
       "      <th>2</th>\n",
       "      <td>t3_6s4mfa</td>\n",
       "      <td>0.86</td>\n",
       "      <td>179.0</td>\n",
       "      <td>0.0</td>\n",
       "      <td>practicing stoicism year quality life increase...</td>\n",
       "      <td>-1</td>\n",
       "      <td>3</td>\n",
       "    </tr>\n",
       "    <tr>\n",
       "      <th>3</th>\n",
       "      <td>t3_39bvdm</td>\n",
       "      <td>0.87</td>\n",
       "      <td>954.0</td>\n",
       "      <td>0.0</td>\n",
       "      <td>meta reddit roll first ban wave harassing subr...</td>\n",
       "      <td>-1</td>\n",
       "      <td>3</td>\n",
       "    </tr>\n",
       "    <tr>\n",
       "      <th>4</th>\n",
       "      <td>t3_6nr5yo</td>\n",
       "      <td>0.90</td>\n",
       "      <td>336.0</td>\n",
       "      <td>0.0</td>\n",
       "      <td>man get ex-gf pay child support reddit freak k...</td>\n",
       "      <td>-1</td>\n",
       "      <td>3</td>\n",
       "    </tr>\n",
       "  </tbody>\n",
       "</table>\n",
       "</div>"
      ],
      "text/plain": [
       "   name_code  upvote_ratio  num_comments  image?  \\\n",
       "0  t3_6sbx6i          0.65         840.0     0.0   \n",
       "1  t3_5fihmu          0.83         760.0     0.0   \n",
       "2  t3_6s4mfa          0.86         179.0     0.0   \n",
       "3  t3_39bvdm          0.87         954.0     0.0   \n",
       "4  t3_6nr5yo          0.90         336.0     0.0   \n",
       "\n",
       "                                      finalized_text  alignment  agg_label  \n",
       "0  google fire ph.d biologist/engineer claiming a...         -1          3  \n",
       "1  laid warlord 37 rule approaching model-tier gi...         -1          3  \n",
       "2  practicing stoicism year quality life increase...         -1          3  \n",
       "3  meta reddit roll first ban wave harassing subr...         -1          3  \n",
       "4  man get ex-gf pay child support reddit freak k...         -1          3  "
      ]
     },
     "execution_count": 12,
     "metadata": {},
     "output_type": "execute_result"
    }
   ],
   "source": [
    "predicting_df.head()"
   ]
  },
  {
   "cell_type": "code",
   "execution_count": 13,
   "metadata": {},
   "outputs": [],
   "source": [
    "# Get rid of any nans\n",
    "predicting_df = predicting_df.dropna()"
   ]
  },
  {
   "cell_type": "code",
   "execution_count": 14,
   "metadata": {},
   "outputs": [
    {
     "data": {
      "text/plain": [
       "name_code  upvote_ratio  num_comments  image?  finalized_text  alignment  agg_label\n",
       "False      False         False         False   False           False      False        32412\n",
       "dtype: int64"
      ]
     },
     "execution_count": 14,
     "metadata": {},
     "output_type": "execute_result"
    }
   ],
   "source": [
    "predicting_df.isna().value_counts()"
   ]
  },
  {
   "cell_type": "markdown",
   "metadata": {},
   "source": [
    "# Modeling on Posts"
   ]
  },
  {
   "cell_type": "code",
   "execution_count": 15,
   "metadata": {},
   "outputs": [],
   "source": [
    "#Split before modeling to avoid leakage\n",
    "X = predicting_df.drop(columns = ['alignment'])\n",
    "y = predicting_df['alignment']\n",
    "\n",
    "X_train, X_test, y_train, y_test = train_test_split(X, y, test_size = .2, stratify = y, random_state = 305)"
   ]
  },
  {
   "cell_type": "code",
   "execution_count": 16,
   "metadata": {},
   "outputs": [],
   "source": [
    "# Create feature union out of vectorizer for text and scaler for floats\n",
    "count_vectorizer = CountVectorizer(min_df = 2)\n",
    "scaler = StandardScaler()\n",
    "\n",
    "count_transformer = ColumnTransformer(transformers = [('count_vect', count_vectorizer, 'finalized_text')])\n",
    "scaler_transformer = ColumnTransformer(transformers = [('scaler', scaler, ['upvote_ratio', 'num_comments', 'image?'])])\n",
    "\n",
    "unifier = FeatureUnion(transformer_list = [('count_transformer', count_transformer), ('scaler_transformer', scaler_transformer)])"
   ]
  },
  {
   "cell_type": "code",
   "execution_count": 17,
   "metadata": {},
   "outputs": [],
   "source": [
    "# Decision Tree model, as a basic dummy model\n",
    "dtree = DecisionTreeClassifier()\n",
    "\n",
    "dpipe = Pipeline(steps = [\n",
    "    ('feature_union', unifier),\n",
    "    ('model', dtree)\n",
    " ])\n"
   ]
  },
  {
   "cell_type": "code",
   "execution_count": 18,
   "metadata": {},
   "outputs": [
    {
     "data": {
      "text/plain": [
       "Pipeline(steps=[('feature_union',\n",
       "                 FeatureUnion(transformer_list=[('count_transformer',\n",
       "                                                 ColumnTransformer(transformers=[('count_vect',\n",
       "                                                                                  CountVectorizer(min_df=2),\n",
       "                                                                                  'finalized_text')])),\n",
       "                                                ('scaler_transformer',\n",
       "                                                 ColumnTransformer(transformers=[('scaler',\n",
       "                                                                                  StandardScaler(),\n",
       "                                                                                  ['upvote_ratio',\n",
       "                                                                                   'num_comments',\n",
       "                                                                                   'image?'])]))])),\n",
       "                ('model', DecisionTreeClassifier())])"
      ]
     },
     "execution_count": 18,
     "metadata": {},
     "output_type": "execute_result"
    }
   ],
   "source": [
    "# fit model\n",
    "dpipe.fit(X_train, y_train)"
   ]
  },
  {
   "cell_type": "code",
   "execution_count": 19,
   "metadata": {},
   "outputs": [
    {
     "name": "stdout",
     "output_type": "stream",
     "text": [
      "              precision    recall  f1-score   support\n",
      "\n",
      "          -1       0.53      0.54      0.53      1479\n",
      "           0       0.72      0.71      0.72      2767\n",
      "           1       0.57      0.57      0.57      2237\n",
      "\n",
      "    accuracy                           0.62      6483\n",
      "   macro avg       0.60      0.61      0.61      6483\n",
      "weighted avg       0.62      0.62      0.62      6483\n",
      "\n"
     ]
    },
    {
     "data": {
      "image/png": "[encoded data removed]",
      "text/plain": [
       "<Figure size 432x288 with 2 Axes>"
      ]
     },
     "metadata": {
      "needs_background": "light"
     },
     "output_type": "display_data"
    }
   ],
   "source": [
    "# Get model metrics\n",
    "plot_confusion_matrix(dpipe, X_test, y_test)\n",
    "\n",
    "print(classification_report(dpipe.predict(X_test), y_test))"
   ]
  },
  {
   "cell_type": "code",
   "execution_count": 20,
   "metadata": {},
   "outputs": [
    {
     "data": {
      "text/plain": [
       "Pipeline(steps=[('feature_union',\n",
       "                 FeatureUnion(transformer_list=[('count_transformer',\n",
       "                                                 ColumnTransformer(transformers=[('count_vect',\n",
       "                                                                                  CountVectorizer(min_df=2),\n",
       "                                                                                  'finalized_text')])),\n",
       "                                                ('scaler_transformer',\n",
       "                                                 ColumnTransformer(transformers=[('scaler',\n",
       "                                                                                  StandardScaler(),\n",
       "                                                                                  ['upvote_ratio',\n",
       "                                                                                   'num_comments',\n",
       "                                                                                   'image?'])]))])),\n",
       "                ('model', RandomForestClassifier(n_estimators=500))])"
      ]
     },
     "execution_count": 20,
     "metadata": {},
     "output_type": "execute_result"
    }
   ],
   "source": [
    "# Random Forest Model with 500 trees\n",
    "dforest = RandomForestClassifier(n_estimators = 500)\n",
    "\n",
    "dforest_pipe = Pipeline(steps = [\n",
    "    ('feature_union', unifier),\n",
    "    ('model', dforest)\n",
    " ])\n",
    "\n",
    "dforest_pipe.fit(X_train, y_train)"
   ]
  },
  {
   "cell_type": "code",
   "execution_count": 21,
   "metadata": {},
   "outputs": [
    {
     "name": "stdout",
     "output_type": "stream",
     "text": [
      "              precision    recall  f1-score   support\n",
      "\n",
      "          -1       0.57      0.70      0.63      1218\n",
      "           0       0.83      0.78      0.81      2924\n",
      "           1       0.71      0.67      0.69      2341\n",
      "\n",
      "    accuracy                           0.73      6483\n",
      "   macro avg       0.70      0.72      0.71      6483\n",
      "weighted avg       0.74      0.73      0.73      6483\n",
      "\n"
     ]
    },
    {
     "data": {
      "image/png": "[encoded data removed]",
      "text/plain": [
       "<Figure size 432x288 with 2 Axes>"
      ]
     },
     "metadata": {
      "needs_background": "light"
     },
     "output_type": "display_data"
    }
   ],
   "source": [
    "plot_confusion_matrix(dforest_pipe, X_test, y_test)\n",
    "\n",
    "print(classification_report(dforest_pipe.predict(X_test), y_test))"
   ]
  },
  {
   "cell_type": "code",
   "execution_count": 22,
   "metadata": {},
   "outputs": [
    {
     "data": {
      "text/plain": [
       "Pipeline(steps=[('feature_union',\n",
       "                 FeatureUnion(transformer_list=[('count_transformer',\n",
       "                                                 ColumnTransformer(transformers=[('count_vect',\n",
       "                                                                                  CountVectorizer(min_df=2),\n",
       "                                                                                  'finalized_text')])),\n",
       "                                                ('scaler_transformer',\n",
       "                                                 ColumnTransformer(transformers=[('scaler',\n",
       "                                                                                  StandardScaler(),\n",
       "                                                                                  ['upvote_ratio',\n",
       "                                                                                   'num_comments',\n",
       "                                                                                   'image?'])]))])),\n",
       "                ('model',\n",
       "                 BaggingClassifier(n_estimators=50, random_state=305,\n",
       "                                   warm_start=True))])"
      ]
     },
     "execution_count": 22,
     "metadata": {},
     "output_type": "execute_result"
    }
   ],
   "source": [
    "# Trying a bagging classifier\n",
    "dbag = BaggingClassifier(n_estimators = 50, bootstrap= True, warm_start= True, random_state = 305)\n",
    "\n",
    "dbag_pipe = Pipeline(steps = [\n",
    "    ('feature_union', unifier),\n",
    "    ('model', dbag)\n",
    " ])\n",
    "\n",
    "dbag_pipe.fit(X_train, y_train)"
   ]
  },
  {
   "cell_type": "code",
   "execution_count": 23,
   "metadata": {},
   "outputs": [
    {
     "name": "stdout",
     "output_type": "stream",
     "text": [
      "              precision    recall  f1-score   support\n",
      "\n",
      "          -1       0.51      0.62      0.56      1247\n",
      "           0       0.78      0.75      0.76      2882\n",
      "           1       0.65      0.61      0.63      2354\n",
      "\n",
      "    accuracy                           0.67      6483\n",
      "   macro avg       0.65      0.66      0.65      6483\n",
      "weighted avg       0.68      0.67      0.67      6483\n",
      "\n"
     ]
    },
    {
     "data": {
      "image/png": "[encoded data removed]",
      "text/plain": [
       "<Figure size 432x288 with 2 Axes>"
      ]
     },
     "metadata": {
      "needs_background": "light"
     },
     "output_type": "display_data"
    }
   ],
   "source": [
    "# It isn't as good as the random forest\n",
    "plot_confusion_matrix(dbag_pipe, X_test, y_test)\n",
    "\n",
    "print(classification_report(dbag_pipe.predict(X_test), y_test))"
   ]
  },
  {
   "cell_type": "code",
   "execution_count": 24,
   "metadata": {},
   "outputs": [],
   "source": [
    "# bpipe_params = {\n",
    "#     'model__bootstrap': [True, False],\n",
    "#     'model__bootstrap_features': [True, False],\n",
    "#     'model__n_estimators': [100, 120, 140]\n",
    "# }\n",
    "\n",
    "# bpipe_grid = RandomizedSearchCV(dbag_pipe, bpipe_params, cv=4, verbose = 10)"
   ]
  },
  {
   "cell_type": "code",
   "execution_count": 25,
   "metadata": {},
   "outputs": [],
   "source": [
    "# bpipe_grid.fit(X_train, y_train)\n",
    "\n",
    "# bpipe_grid.best_estimator_"
   ]
  },
  {
   "cell_type": "markdown",
   "metadata": {},
   "source": [
    "# Accuracy over Subreddits"
   ]
  },
  {
   "cell_type": "code",
   "execution_count": 26,
   "metadata": {},
   "outputs": [],
   "source": [
    "# Random Forest is the best model\n",
    "preds = dforest_pipe.predict(X)"
   ]
  },
  {
   "cell_type": "code",
   "execution_count": 27,
   "metadata": {},
   "outputs": [
    {
     "data": {
      "text/plain": [
       "32412"
      ]
     },
     "execution_count": 27,
     "metadata": {},
     "output_type": "execute_result"
    }
   ],
   "source": [
    "len(preds)"
   ]
  },
  {
   "cell_type": "code",
   "execution_count": 28,
   "metadata": {},
   "outputs": [],
   "source": [
    "df_by_post = df_by_post.dropna()"
   ]
  },
  {
   "cell_type": "code",
   "execution_count": 29,
   "metadata": {},
   "outputs": [],
   "source": [
    "df_by_post['pred_alignment'] = preds"
   ]
  },
  {
   "cell_type": "code",
   "execution_count": 30,
   "metadata": {},
   "outputs": [],
   "source": [
    "# Get aggregate accuracy by subreddit \n",
    "accuracy_df = df_by_post.groupby('subreddit').mean()"
   ]
  },
  {
   "cell_type": "code",
   "execution_count": 31,
   "metadata": {},
   "outputs": [],
   "source": [
    "neg_acc_df =accuracy_df.loc[accuracy_df['alignment'] == -1].sort_values(by = 'pred_alignment')"
   ]
  },
  {
   "cell_type": "code",
   "execution_count": 32,
   "metadata": {},
   "outputs": [
    {
     "data": {
      "image/png": "[encoded data removed]",
      "text/plain": [
       "<Figure size 432x288 with 1 Axes>"
      ]
     },
     "metadata": {
      "needs_background": "light"
     },
     "output_type": "display_data"
    }
   ],
   "source": [
    "# Most accurate at risk subs\n",
    "ax = sns.barplot(x = neg_acc_df.index[0:10]  , y = neg_acc_df['pred_alignment'][0:10])\n",
    "\n",
    "sns.set(rc = {'figure.figsize': (30,8) } )\n",
    "sns.set_context('poster')\n",
    "ax.set_xticklabels(ax.get_xticklabels(), rotation = 30)\n",
    "ax.invert_yaxis()"
   ]
  },
  {
   "cell_type": "code",
   "execution_count": 33,
   "metadata": {},
   "outputs": [
    {
     "data": {
      "text/plain": [
       "subreddit\n",
       "LouderWithCrowder       -0.695238\n",
       "pussypassdenied         -0.707071\n",
       "tucker_carlson          -0.715000\n",
       "libsofreddit            -0.715686\n",
       "CoronavirusCirclejerk   -0.733945\n",
       "walkaway                -0.736000\n",
       "SocialJusticeInAction   -0.758333\n",
       "memegender              -0.760000\n",
       "MensRights              -0.775000\n",
       "Libertarian             -0.776042\n",
       "Name: pred_alignment, dtype: float64"
      ]
     },
     "execution_count": 33,
     "metadata": {},
     "output_type": "execute_result"
    }
   ],
   "source": [
    "neg_acc_df.iloc[::-1][0:10]['pred_alignment']"
   ]
  },
  {
   "cell_type": "code",
   "execution_count": 34,
   "metadata": {},
   "outputs": [
    {
     "data": {
      "text/plain": [
       "[(0.0, -1.0)]"
      ]
     },
     "execution_count": 34,
     "metadata": {},
     "output_type": "execute_result"
    },
    {
     "data": {
      "image/png": "[encoded data removed]",
      "text/plain": [
       "<Figure size 2160x576 with 1 Axes>"
      ]
     },
     "metadata": {},
     "output_type": "display_data"
    }
   ],
   "source": [
    "# Least accurate at risk subreddits\n",
    "ax = sns.barplot(x = neg_acc_df.index[::-1][0:10]  , y = neg_acc_df['pred_alignment'][::-1][0:10])\n",
    "\n",
    "sns.set(rc = {'figure.figsize': (30,8) } )\n",
    "sns.set_context('poster')\n",
    "ax.set_xticklabels(ax.get_xticklabels(), rotation = 30)\n",
    "ax.invert_yaxis()\n",
    "ax.invert_xaxis()\n",
    "ax.set(ylim = (0,-1))"
   ]
  },
  {
   "cell_type": "code",
   "execution_count": 35,
   "metadata": {},
   "outputs": [
    {
     "data": {
      "text/plain": [
       "subreddit                                               gunpolitics\n",
       "total_text        This man was killed for answering the door as ...\n",
       "alignment                                                        -1\n",
       "pred_alignment                                                   -1\n",
       "Name: 30509, dtype: object"
      ]
     },
     "execution_count": 35,
     "metadata": {},
     "output_type": "execute_result"
    }
   ],
   "source": [
    "df_by_post.loc[df_by_post['subreddit'] == 'gunpolitics'].iloc[25].filter(items=['subreddit','total_text','alignment', 'pred_alignment'])"
   ]
  },
  {
   "cell_type": "code",
   "execution_count": null,
   "metadata": {},
   "outputs": [],
   "source": []
  }
 ],
 "metadata": {
  "interpreter": {
   "hash": "1c7ae5ca7afa47d1c118e1cc9ccaf65a17609b650c517e098aee76b19a0109a3"
  },
  "kernelspec": {
   "display_name": "Python 3.9.7 ('base')",
   "language": "python",
   "name": "python3"
  },
  "language_info": {
   "codemirror_mode": {
    "name": "ipython",
    "version": 3
   },
   "file_extension": ".py",
   "mimetype": "text/x-python",
   "name": "python",
   "nbconvert_exporter": "python",
   "pygments_lexer": "ipython3",
   "version": "3.9.7"
  },
  "orig_nbformat": 4
 },
 "nbformat": 4,
 "nbformat_minor": 2
}
