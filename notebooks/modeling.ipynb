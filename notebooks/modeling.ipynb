{
 "cells": [
  {
   "cell_type": "code",
   "execution_count": 309,
   "metadata": {},
   "outputs": [],
   "source": [
    "import pandas as pd\n",
    "\n",
    "from sklearn.feature_extraction.text import TfidfVectorizer\n",
    "from sklearn.cluster import KMeans\n",
    "from sklearn.cluster import AgglomerativeClustering\n",
    "\n",
    "from gensim.models.ldamodel import LdaModel\n",
    "from gensim.corpora import Dictionary\n"
   ]
  },
  {
   "cell_type": "code",
   "execution_count": 310,
   "metadata": {},
   "outputs": [],
   "source": [
    "processed_df = pd.read_pickle('../data/preprocessed_df.pkl')"
   ]
  },
  {
   "cell_type": "code",
   "execution_count": 311,
   "metadata": {},
   "outputs": [
    {
     "data": {
      "text/html": [
       "<div>\n",
       "<style scoped>\n",
       "    .dataframe tbody tr th:only-of-type {\n",
       "        vertical-align: middle;\n",
       "    }\n",
       "\n",
       "    .dataframe tbody tr th {\n",
       "        vertical-align: top;\n",
       "    }\n",
       "\n",
       "    .dataframe thead th {\n",
       "        text-align: right;\n",
       "    }\n",
       "</style>\n",
       "<table border=\"1\" class=\"dataframe\">\n",
       "  <thead>\n",
       "    <tr style=\"text-align: right;\">\n",
       "      <th></th>\n",
       "      <th>text</th>\n",
       "    </tr>\n",
       "  </thead>\n",
       "  <tbody>\n",
       "    <tr>\n",
       "      <th>TheRedPill</th>\n",
       "      <td>google fire ph.d biologist/engineer claiming a...</td>\n",
       "    </tr>\n",
       "    <tr>\n",
       "      <th>ivermectin</th>\n",
       "      <td>evidence whatsoever ivermectin safer treatment...</td>\n",
       "    </tr>\n",
       "    <tr>\n",
       "      <th>BlackPeopleTwitter</th>\n",
       "      <td>wildest trend imo gon come world shamble fraud...</td>\n",
       "    </tr>\n",
       "    <tr>\n",
       "      <th>WhitePeopleTwitter</th>\n",
       "      <td>solution obvious shooting foot  choice clear b...</td>\n",
       "    </tr>\n",
       "    <tr>\n",
       "      <th>politics</th>\n",
       "      <td>megathread joe biden projected defeat presiden...</td>\n",
       "    </tr>\n",
       "  </tbody>\n",
       "</table>\n",
       "</div>"
      ],
      "text/plain": [
       "                                                                 text\n",
       "TheRedPill          google fire ph.d biologist/engineer claiming a...\n",
       "ivermectin          evidence whatsoever ivermectin safer treatment...\n",
       "BlackPeopleTwitter  wildest trend imo gon come world shamble fraud...\n",
       "WhitePeopleTwitter  solution obvious shooting foot  choice clear b...\n",
       "politics            megathread joe biden projected defeat presiden..."
      ]
     },
     "execution_count": 311,
     "metadata": {},
     "output_type": "execute_result"
    }
   ],
   "source": [
    "processed_df.head()"
   ]
  },
  {
   "cell_type": "code",
   "execution_count": 312,
   "metadata": {},
   "outputs": [],
   "source": [
    "tfidf_vectorizer = TfidfVectorizer(max_df = .95)\n",
    "\n",
    "text_transformed = tfidf_vectorizer.fit_transform(processed_df['text'])"
   ]
  },
  {
   "cell_type": "code",
   "execution_count": 313,
   "metadata": {},
   "outputs": [
    {
     "data": {
      "text/plain": [
       "<235x48331 sparse matrix of type '<class 'numpy.float64'>'\n",
       "\twith 286842 stored elements in Compressed Sparse Row format>"
      ]
     },
     "execution_count": 313,
     "metadata": {},
     "output_type": "execute_result"
    }
   ],
   "source": [
    "text_transformed"
   ]
  },
  {
   "cell_type": "code",
   "execution_count": 314,
   "metadata": {},
   "outputs": [
    {
     "data": {
      "text/plain": [
       "KMeans(n_clusters=5, random_state=305)"
      ]
     },
     "execution_count": 314,
     "metadata": {},
     "output_type": "execute_result"
    }
   ],
   "source": [
    "k_clusterer = KMeans(n_clusters = 5, random_state = 305)\n",
    "\n",
    "k_clusterer.fit(text_transformed)"
   ]
  },
  {
   "cell_type": "code",
   "execution_count": 315,
   "metadata": {},
   "outputs": [],
   "source": [
    "processed_df['k_means_labels'] = k_clusterer.labels_"
   ]
  },
  {
   "cell_type": "code",
   "execution_count": 316,
   "metadata": {},
   "outputs": [
    {
     "data": {
      "text/plain": [
       "1    115\n",
       "4     82\n",
       "3     14\n",
       "0     14\n",
       "2     10\n",
       "Name: k_means_labels, dtype: int64"
      ]
     },
     "execution_count": 316,
     "metadata": {},
     "output_type": "execute_result"
    }
   ],
   "source": [
    "processed_df['k_means_labels'].value_counts()"
   ]
  },
  {
   "cell_type": "code",
   "execution_count": 317,
   "metadata": {},
   "outputs": [
    {
     "data": {
      "text/html": [
       "<div>\n",
       "<style scoped>\n",
       "    .dataframe tbody tr th:only-of-type {\n",
       "        vertical-align: middle;\n",
       "    }\n",
       "\n",
       "    .dataframe tbody tr th {\n",
       "        vertical-align: top;\n",
       "    }\n",
       "\n",
       "    .dataframe thead th {\n",
       "        text-align: right;\n",
       "    }\n",
       "</style>\n",
       "<table border=\"1\" class=\"dataframe\">\n",
       "  <thead>\n",
       "    <tr style=\"text-align: right;\">\n",
       "      <th></th>\n",
       "      <th>text</th>\n",
       "      <th>k_means_labels</th>\n",
       "    </tr>\n",
       "  </thead>\n",
       "  <tbody>\n",
       "    <tr>\n",
       "      <th>TheRedPill</th>\n",
       "      <td>google fire ph.d biologist/engineer claiming a...</td>\n",
       "      <td>4</td>\n",
       "    </tr>\n",
       "    <tr>\n",
       "      <th>ivermectin</th>\n",
       "      <td>evidence whatsoever ivermectin safer treatment...</td>\n",
       "      <td>1</td>\n",
       "    </tr>\n",
       "    <tr>\n",
       "      <th>BlackPeopleTwitter</th>\n",
       "      <td>wildest trend imo gon come world shamble fraud...</td>\n",
       "      <td>1</td>\n",
       "    </tr>\n",
       "    <tr>\n",
       "      <th>WhitePeopleTwitter</th>\n",
       "      <td>solution obvious shooting foot  choice clear b...</td>\n",
       "      <td>1</td>\n",
       "    </tr>\n",
       "    <tr>\n",
       "      <th>politics</th>\n",
       "      <td>megathread joe biden projected defeat presiden...</td>\n",
       "      <td>1</td>\n",
       "    </tr>\n",
       "    <tr>\n",
       "      <th>...</th>\n",
       "      <td>...</td>\n",
       "      <td>...</td>\n",
       "    </tr>\n",
       "    <tr>\n",
       "      <th>Glocks</th>\n",
       "      <td>watching shit knowing damn well ammo price goi...</td>\n",
       "      <td>1</td>\n",
       "    </tr>\n",
       "    <tr>\n",
       "      <th>tacticalgear</th>\n",
       "      <td>snuck basement 👍🏼 going rock trash man ghillie...</td>\n",
       "      <td>1</td>\n",
       "    </tr>\n",
       "    <tr>\n",
       "      <th>liberalgunowners</th>\n",
       "      <td>fight net neutrality view gun ownership side g...</td>\n",
       "      <td>1</td>\n",
       "    </tr>\n",
       "    <tr>\n",
       "      <th>HillaryForPrison</th>\n",
       "      <td>unelectable vote show google image people sear...</td>\n",
       "      <td>1</td>\n",
       "    </tr>\n",
       "    <tr>\n",
       "      <th>Offensivejokes</th>\n",
       "      <td>vegan view mac cheese richest woman world musl...</td>\n",
       "      <td>3</td>\n",
       "    </tr>\n",
       "  </tbody>\n",
       "</table>\n",
       "<p>235 rows × 2 columns</p>\n",
       "</div>"
      ],
      "text/plain": [
       "                                                                 text  \\\n",
       "TheRedPill          google fire ph.d biologist/engineer claiming a...   \n",
       "ivermectin          evidence whatsoever ivermectin safer treatment...   \n",
       "BlackPeopleTwitter  wildest trend imo gon come world shamble fraud...   \n",
       "WhitePeopleTwitter  solution obvious shooting foot  choice clear b...   \n",
       "politics            megathread joe biden projected defeat presiden...   \n",
       "...                                                               ...   \n",
       "Glocks              watching shit knowing damn well ammo price goi...   \n",
       "tacticalgear        snuck basement 👍🏼 going rock trash man ghillie...   \n",
       "liberalgunowners    fight net neutrality view gun ownership side g...   \n",
       "HillaryForPrison    unelectable vote show google image people sear...   \n",
       "Offensivejokes      vegan view mac cheese richest woman world musl...   \n",
       "\n",
       "                    k_means_labels  \n",
       "TheRedPill                       4  \n",
       "ivermectin                       1  \n",
       "BlackPeopleTwitter               1  \n",
       "WhitePeopleTwitter               1  \n",
       "politics                         1  \n",
       "...                            ...  \n",
       "Glocks                           1  \n",
       "tacticalgear                     1  \n",
       "liberalgunowners                 1  \n",
       "HillaryForPrison                 1  \n",
       "Offensivejokes                   3  \n",
       "\n",
       "[235 rows x 2 columns]"
      ]
     },
     "execution_count": 317,
     "metadata": {},
     "output_type": "execute_result"
    }
   ],
   "source": [
    "processed_df"
   ]
  },
  {
   "cell_type": "code",
   "execution_count": 338,
   "metadata": {},
   "outputs": [
    {
     "data": {
      "text/plain": [
       "AgglomerativeClustering(compute_full_tree=True, distance_threshold=1.75,\n",
       "                        n_clusters=None)"
      ]
     },
     "execution_count": 338,
     "metadata": {},
     "output_type": "execute_result"
    }
   ],
   "source": [
    "agg_clusterer = AgglomerativeClustering(n_clusters = None, distance_threshold = 1.75, compute_full_tree = True)\n",
    "agg_clusterer.fit(text_transformed.toarray())"
   ]
  },
  {
   "cell_type": "code",
   "execution_count": 339,
   "metadata": {},
   "outputs": [],
   "source": [
    "processed_df['agg_labels'] = agg_clusterer.labels_"
   ]
  },
  {
   "cell_type": "code",
   "execution_count": 340,
   "metadata": {},
   "outputs": [
    {
     "data": {
      "text/plain": [
       "3     39\n",
       "1     31\n",
       "15    23\n",
       "5     23\n",
       "2     22\n",
       "7     19\n",
       "8     15\n",
       "0     11\n",
       "9     10\n",
       "12    10\n",
       "16    10\n",
       "10     6\n",
       "4      6\n",
       "6      4\n",
       "11     2\n",
       "13     2\n",
       "14     2\n",
       "Name: agg_labels, dtype: int64"
      ]
     },
     "execution_count": 340,
     "metadata": {},
     "output_type": "execute_result"
    }
   ],
   "source": [
    "processed_df['agg_labels'].value_counts()"
   ]
  },
  {
   "cell_type": "code",
   "execution_count": 349,
   "metadata": {},
   "outputs": [
    {
     "data": {
      "text/html": [
       "<div>\n",
       "<style scoped>\n",
       "    .dataframe tbody tr th:only-of-type {\n",
       "        vertical-align: middle;\n",
       "    }\n",
       "\n",
       "    .dataframe tbody tr th {\n",
       "        vertical-align: top;\n",
       "    }\n",
       "\n",
       "    .dataframe thead th {\n",
       "        text-align: right;\n",
       "    }\n",
       "</style>\n",
       "<table border=\"1\" class=\"dataframe\">\n",
       "  <thead>\n",
       "    <tr style=\"text-align: right;\">\n",
       "      <th></th>\n",
       "      <th>text</th>\n",
       "      <th>k_means_labels</th>\n",
       "      <th>agg_labels</th>\n",
       "    </tr>\n",
       "  </thead>\n",
       "  <tbody>\n",
       "    <tr>\n",
       "      <th>ivermectin</th>\n",
       "      <td>evidence whatsoever ivermectin safer treatment...</td>\n",
       "      <td>1</td>\n",
       "      <td>12</td>\n",
       "    </tr>\n",
       "    <tr>\n",
       "      <th>lgbt</th>\n",
       "      <td>parent chose attend daughter wedding happier s...</td>\n",
       "      <td>4</td>\n",
       "      <td>12</td>\n",
       "    </tr>\n",
       "    <tr>\n",
       "      <th>traaaaaaannnnnnnnnns</th>\n",
       "      <td>oc art part trans struggle hard picturing feel...</td>\n",
       "      <td>4</td>\n",
       "      <td>12</td>\n",
       "    </tr>\n",
       "    <tr>\n",
       "      <th>trans</th>\n",
       "      <td>love punk transwoman cute comic irl_donut twit...</td>\n",
       "      <td>4</td>\n",
       "      <td>12</td>\n",
       "    </tr>\n",
       "    <tr>\n",
       "      <th>GenderCynical</th>\n",
       "      <td>gendercritical banned /r/gendercritical edit m...</td>\n",
       "      <td>1</td>\n",
       "      <td>12</td>\n",
       "    </tr>\n",
       "    <tr>\n",
       "      <th>asktransgender</th>\n",
       "      <td>compiled single informed consent clinic countr...</td>\n",
       "      <td>4</td>\n",
       "      <td>12</td>\n",
       "    </tr>\n",
       "    <tr>\n",
       "      <th>MtF</th>\n",
       "      <td>funny interaction airport security flying home...</td>\n",
       "      <td>4</td>\n",
       "      <td>12</td>\n",
       "    </tr>\n",
       "    <tr>\n",
       "      <th>ftm</th>\n",
       "      <td>king order masculine body dream thought guy o....</td>\n",
       "      <td>4</td>\n",
       "      <td>12</td>\n",
       "    </tr>\n",
       "    <tr>\n",
       "      <th>NonBinary</th>\n",
       "      <td>pov barista binder want u tell chest flat bee...</td>\n",
       "      <td>4</td>\n",
       "      <td>12</td>\n",
       "    </tr>\n",
       "    <tr>\n",
       "      <th>FreeSpeech</th>\n",
       "      <td>black man feel black life matter becoming bull...</td>\n",
       "      <td>4</td>\n",
       "      <td>12</td>\n",
       "    </tr>\n",
       "  </tbody>\n",
       "</table>\n",
       "</div>"
      ],
      "text/plain": [
       "                                                                   text  \\\n",
       "ivermectin            evidence whatsoever ivermectin safer treatment...   \n",
       "lgbt                  parent chose attend daughter wedding happier s...   \n",
       "traaaaaaannnnnnnnnns  oc art part trans struggle hard picturing feel...   \n",
       "trans                 love punk transwoman cute comic irl_donut twit...   \n",
       "GenderCynical         gendercritical banned /r/gendercritical edit m...   \n",
       "asktransgender        compiled single informed consent clinic countr...   \n",
       "MtF                   funny interaction airport security flying home...   \n",
       "ftm                   king order masculine body dream thought guy o....   \n",
       "NonBinary              pov barista binder want u tell chest flat bee...   \n",
       "FreeSpeech            black man feel black life matter becoming bull...   \n",
       "\n",
       "                      k_means_labels  agg_labels  \n",
       "ivermectin                         1          12  \n",
       "lgbt                               4          12  \n",
       "traaaaaaannnnnnnnnns               4          12  \n",
       "trans                              4          12  \n",
       "GenderCynical                      1          12  \n",
       "asktransgender                     4          12  \n",
       "MtF                                4          12  \n",
       "ftm                                4          12  \n",
       "NonBinary                          4          12  \n",
       "FreeSpeech                         4          12  "
      ]
     },
     "execution_count": 349,
     "metadata": {},
     "output_type": "execute_result"
    }
   ],
   "source": [
    "processed_df.loc[processed_df['agg_labels'] == 12]"
   ]
  },
  {
   "cell_type": "code",
   "execution_count": null,
   "metadata": {},
   "outputs": [],
   "source": []
  }
 ],
 "metadata": {
  "interpreter": {
   "hash": "dfff5bd0c134f0547de71482d92e26ad9816d2e72735de45c73d9aeb806ef98a"
  },
  "kernelspec": {
   "display_name": "Python 3.8.5 ('learn-env')",
   "language": "python",
   "name": "python3"
  },
  "language_info": {
   "codemirror_mode": {
    "name": "ipython",
    "version": 3
   },
   "file_extension": ".py",
   "mimetype": "text/x-python",
   "name": "python",
   "nbconvert_exporter": "python",
   "pygments_lexer": "ipython3",
   "version": "3.8.5"
  },
  "orig_nbformat": 4
 },
 "nbformat": 4,
 "nbformat_minor": 2
}
