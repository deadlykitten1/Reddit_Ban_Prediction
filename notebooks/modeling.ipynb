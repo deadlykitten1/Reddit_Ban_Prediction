{
 "cells": [
  {
   "cell_type": "code",
   "execution_count": 49,
   "metadata": {},
   "outputs": [],
   "source": [
    "import pandas as pd\n",
    "\n",
    "from sklearn.feature_extraction.text import TfidfVectorizer\n",
    "from sklearn.cluster import KMeans\n",
    "from sklearn.cluster import AgglomerativeClustering"
   ]
  },
  {
   "cell_type": "code",
   "execution_count": 50,
   "metadata": {},
   "outputs": [],
   "source": [
    "processed_df = pd.read_pickle('../data/preprocessed_df.pkl')"
   ]
  },
  {
   "cell_type": "code",
   "execution_count": 51,
   "metadata": {},
   "outputs": [
    {
     "data": {
      "text/html": [
       "<div>\n",
       "<style scoped>\n",
       "    .dataframe tbody tr th:only-of-type {\n",
       "        vertical-align: middle;\n",
       "    }\n",
       "\n",
       "    .dataframe tbody tr th {\n",
       "        vertical-align: top;\n",
       "    }\n",
       "\n",
       "    .dataframe thead th {\n",
       "        text-align: right;\n",
       "    }\n",
       "</style>\n",
       "<table border=\"1\" class=\"dataframe\">\n",
       "  <thead>\n",
       "    <tr style=\"text-align: right;\">\n",
       "      <th></th>\n",
       "      <th>text</th>\n",
       "    </tr>\n",
       "  </thead>\n",
       "  <tbody>\n",
       "    <tr>\n",
       "      <th>TheRedPill</th>\n",
       "      <td>google fire ph.d biologist/engineer claiming a...</td>\n",
       "    </tr>\n",
       "    <tr>\n",
       "      <th>BlackPeopleTwitter</th>\n",
       "      <td>one wildest trend imo gon na come back world s...</td>\n",
       "    </tr>\n",
       "    <tr>\n",
       "      <th>WhitePeopleTwitter</th>\n",
       "      <td>solution obvious shooting foot like see choice...</td>\n",
       "    </tr>\n",
       "    <tr>\n",
       "      <th>politics</th>\n",
       "      <td>megathread joe biden projected defeat presiden...</td>\n",
       "    </tr>\n",
       "    <tr>\n",
       "      <th>news</th>\n",
       "      <td>joe biden elected president united state chauv...</td>\n",
       "    </tr>\n",
       "  </tbody>\n",
       "</table>\n",
       "</div>"
      ],
      "text/plain": [
       "                                                                 text\n",
       "TheRedPill          google fire ph.d biologist/engineer claiming a...\n",
       "BlackPeopleTwitter  one wildest trend imo gon na come back world s...\n",
       "WhitePeopleTwitter  solution obvious shooting foot like see choice...\n",
       "politics            megathread joe biden projected defeat presiden...\n",
       "news                joe biden elected president united state chauv..."
      ]
     },
     "execution_count": 51,
     "metadata": {},
     "output_type": "execute_result"
    }
   ],
   "source": [
    "processed_df.head()"
   ]
  },
  {
   "cell_type": "code",
   "execution_count": 52,
   "metadata": {},
   "outputs": [],
   "source": [
    "tfidf_vectorizer = TfidfVectorizer(max_df = .95)\n",
    "\n",
    "text_transformed = tfidf_vectorizer.fit_transform(processed_df['text'])"
   ]
  },
  {
   "cell_type": "code",
   "execution_count": 53,
   "metadata": {},
   "outputs": [
    {
     "data": {
      "text/plain": [
       "<111x26766 sparse matrix of type '<class 'numpy.float64'>'\n",
       "\twith 103883 stored elements in Compressed Sparse Row format>"
      ]
     },
     "execution_count": 53,
     "metadata": {},
     "output_type": "execute_result"
    }
   ],
   "source": [
    "text_transformed"
   ]
  },
  {
   "cell_type": "code",
   "execution_count": 54,
   "metadata": {},
   "outputs": [
    {
     "data": {
      "text/plain": [
       "KMeans(n_clusters=5, random_state=305)"
      ]
     },
     "execution_count": 54,
     "metadata": {},
     "output_type": "execute_result"
    }
   ],
   "source": [
    "k_clusterer = KMeans(n_clusters = 5, random_state = 305)\n",
    "\n",
    "k_clusterer.fit(text_transformed)"
   ]
  },
  {
   "cell_type": "code",
   "execution_count": 55,
   "metadata": {},
   "outputs": [],
   "source": [
    "processed_df['k_means_labels'] = k_clusterer.labels_"
   ]
  },
  {
   "cell_type": "code",
   "execution_count": 56,
   "metadata": {},
   "outputs": [
    {
     "data": {
      "text/plain": [
       "1    75\n",
       "4    16\n",
       "3    13\n",
       "2     4\n",
       "0     3\n",
       "Name: k_means_labels, dtype: int64"
      ]
     },
     "execution_count": 56,
     "metadata": {},
     "output_type": "execute_result"
    }
   ],
   "source": [
    "processed_df['k_means_labels'].value_counts()"
   ]
  },
  {
   "cell_type": "code",
   "execution_count": 57,
   "metadata": {},
   "outputs": [
    {
     "data": {
      "text/html": [
       "<div>\n",
       "<style scoped>\n",
       "    .dataframe tbody tr th:only-of-type {\n",
       "        vertical-align: middle;\n",
       "    }\n",
       "\n",
       "    .dataframe tbody tr th {\n",
       "        vertical-align: top;\n",
       "    }\n",
       "\n",
       "    .dataframe thead th {\n",
       "        text-align: right;\n",
       "    }\n",
       "</style>\n",
       "<table border=\"1\" class=\"dataframe\">\n",
       "  <thead>\n",
       "    <tr style=\"text-align: right;\">\n",
       "      <th></th>\n",
       "      <th>text</th>\n",
       "      <th>k_means_labels</th>\n",
       "    </tr>\n",
       "  </thead>\n",
       "  <tbody>\n",
       "    <tr>\n",
       "      <th>TheRedPill</th>\n",
       "      <td>google fire ph.d biologist/engineer claiming a...</td>\n",
       "      <td>4</td>\n",
       "    </tr>\n",
       "    <tr>\n",
       "      <th>BlackPeopleTwitter</th>\n",
       "      <td>one wildest trend imo gon na come back world s...</td>\n",
       "      <td>1</td>\n",
       "    </tr>\n",
       "    <tr>\n",
       "      <th>WhitePeopleTwitter</th>\n",
       "      <td>solution obvious shooting foot like see choice...</td>\n",
       "      <td>1</td>\n",
       "    </tr>\n",
       "    <tr>\n",
       "      <th>politics</th>\n",
       "      <td>megathread joe biden projected defeat presiden...</td>\n",
       "      <td>3</td>\n",
       "    </tr>\n",
       "    <tr>\n",
       "      <th>news</th>\n",
       "      <td>joe biden elected president united state chauv...</td>\n",
       "      <td>3</td>\n",
       "    </tr>\n",
       "    <tr>\n",
       "      <th>...</th>\n",
       "      <td>...</td>\n",
       "      <td>...</td>\n",
       "    </tr>\n",
       "    <tr>\n",
       "      <th>FreeSpeech</th>\n",
       "      <td>black man feel like black life matter becoming...</td>\n",
       "      <td>1</td>\n",
       "    </tr>\n",
       "    <tr>\n",
       "      <th>libsofreddit</th>\n",
       "      <td>defending child rapist real life consequence c...</td>\n",
       "      <td>1</td>\n",
       "    </tr>\n",
       "    <tr>\n",
       "      <th>EnoughCommieSpam</th>\n",
       "      <td>upvote absolute chad piss tankies r/genzedong ...</td>\n",
       "      <td>1</td>\n",
       "    </tr>\n",
       "    <tr>\n",
       "      <th>TheLeftCantMeme</th>\n",
       "      <td>keep coming ha ha orange man dumb dumb get lef...</td>\n",
       "      <td>1</td>\n",
       "    </tr>\n",
       "    <tr>\n",
       "      <th>Anarcho_Capitalism</th>\n",
       "      <td>thought police v angry citizen melbourne austr...</td>\n",
       "      <td>1</td>\n",
       "    </tr>\n",
       "  </tbody>\n",
       "</table>\n",
       "<p>111 rows × 2 columns</p>\n",
       "</div>"
      ],
      "text/plain": [
       "                                                                 text  \\\n",
       "TheRedPill          google fire ph.d biologist/engineer claiming a...   \n",
       "BlackPeopleTwitter  one wildest trend imo gon na come back world s...   \n",
       "WhitePeopleTwitter  solution obvious shooting foot like see choice...   \n",
       "politics            megathread joe biden projected defeat presiden...   \n",
       "news                joe biden elected president united state chauv...   \n",
       "...                                                               ...   \n",
       "FreeSpeech          black man feel like black life matter becoming...   \n",
       "libsofreddit        defending child rapist real life consequence c...   \n",
       "EnoughCommieSpam    upvote absolute chad piss tankies r/genzedong ...   \n",
       "TheLeftCantMeme     keep coming ha ha orange man dumb dumb get lef...   \n",
       "Anarcho_Capitalism  thought police v angry citizen melbourne austr...   \n",
       "\n",
       "                    k_means_labels  \n",
       "TheRedPill                       4  \n",
       "BlackPeopleTwitter               1  \n",
       "WhitePeopleTwitter               1  \n",
       "politics                         3  \n",
       "news                             3  \n",
       "...                            ...  \n",
       "FreeSpeech                       1  \n",
       "libsofreddit                     1  \n",
       "EnoughCommieSpam                 1  \n",
       "TheLeftCantMeme                  1  \n",
       "Anarcho_Capitalism               1  \n",
       "\n",
       "[111 rows x 2 columns]"
      ]
     },
     "execution_count": 57,
     "metadata": {},
     "output_type": "execute_result"
    }
   ],
   "source": [
    "processed_df"
   ]
  },
  {
   "cell_type": "code",
   "execution_count": 58,
   "metadata": {},
   "outputs": [
    {
     "data": {
      "text/plain": [
       "AgglomerativeClustering(compute_full_tree=True, n_clusters=5)"
      ]
     },
     "execution_count": 58,
     "metadata": {},
     "output_type": "execute_result"
    }
   ],
   "source": [
    "agg_clusterer = AgglomerativeClustering(n_clusters = 5, compute_full_tree = True)\n",
    "agg_clusterer.fit(text_transformed.toarray())"
   ]
  },
  {
   "cell_type": "code",
   "execution_count": 59,
   "metadata": {},
   "outputs": [],
   "source": [
    "processed_df['agg_labels'] = agg_clusterer.labels_"
   ]
  },
  {
   "cell_type": "code",
   "execution_count": 60,
   "metadata": {},
   "outputs": [
    {
     "data": {
      "text/plain": [
       "1    56\n",
       "2    24\n",
       "3    18\n",
       "0     8\n",
       "4     5\n",
       "Name: agg_labels, dtype: int64"
      ]
     },
     "execution_count": 60,
     "metadata": {},
     "output_type": "execute_result"
    }
   ],
   "source": [
    "processed_df['agg_labels'].value_counts()"
   ]
  },
  {
   "cell_type": "code",
   "execution_count": 63,
   "metadata": {},
   "outputs": [
    {
     "data": {
      "text/html": [
       "<div>\n",
       "<style scoped>\n",
       "    .dataframe tbody tr th:only-of-type {\n",
       "        vertical-align: middle;\n",
       "    }\n",
       "\n",
       "    .dataframe tbody tr th {\n",
       "        vertical-align: top;\n",
       "    }\n",
       "\n",
       "    .dataframe thead th {\n",
       "        text-align: right;\n",
       "    }\n",
       "</style>\n",
       "<table border=\"1\" class=\"dataframe\">\n",
       "  <thead>\n",
       "    <tr style=\"text-align: right;\">\n",
       "      <th></th>\n",
       "      <th>text</th>\n",
       "      <th>k_means_labels</th>\n",
       "      <th>agg_labels</th>\n",
       "    </tr>\n",
       "  </thead>\n",
       "  <tbody>\n",
       "    <tr>\n",
       "      <th>space</th>\n",
       "      <td>17 year old finished building 14.7 f/2.89 newt...</td>\n",
       "      <td>0</td>\n",
       "      <td>1</td>\n",
       "    </tr>\n",
       "    <tr>\n",
       "      <th>dataisbeautiful</th>\n",
       "      <td>oc trending google search state 2018 2020 anal...</td>\n",
       "      <td>0</td>\n",
       "      <td>0</td>\n",
       "    </tr>\n",
       "    <tr>\n",
       "      <th>DnD</th>\n",
       "      <td>roll initiative battle net neutrality let fcc ...</td>\n",
       "      <td>0</td>\n",
       "      <td>0</td>\n",
       "    </tr>\n",
       "  </tbody>\n",
       "</table>\n",
       "</div>"
      ],
      "text/plain": [
       "                                                              text  \\\n",
       "space            17 year old finished building 14.7 f/2.89 newt...   \n",
       "dataisbeautiful  oc trending google search state 2018 2020 anal...   \n",
       "DnD              roll initiative battle net neutrality let fcc ...   \n",
       "\n",
       "                 k_means_labels  agg_labels  \n",
       "space                         0           1  \n",
       "dataisbeautiful               0           0  \n",
       "DnD                           0           0  "
      ]
     },
     "execution_count": 63,
     "metadata": {},
     "output_type": "execute_result"
    }
   ],
   "source": [
    "processed_df.loc[processed_df['k_means_labels'] == 0]"
   ]
  },
  {
   "cell_type": "code",
   "execution_count": null,
   "metadata": {},
   "outputs": [],
   "source": []
  }
 ],
 "metadata": {
  "interpreter": {
   "hash": "dfff5bd0c134f0547de71482d92e26ad9816d2e72735de45c73d9aeb806ef98a"
  },
  "kernelspec": {
   "display_name": "Python 3.8.5 ('learn-env')",
   "language": "python",
   "name": "python3"
  },
  "language_info": {
   "codemirror_mode": {
    "name": "ipython",
    "version": 3
   },
   "file_extension": ".py",
   "mimetype": "text/x-python",
   "name": "python",
   "nbconvert_exporter": "python",
   "pygments_lexer": "ipython3",
   "version": "3.8.5"
  },
  "orig_nbformat": 4
 },
 "nbformat": 4,
 "nbformat_minor": 2
}
