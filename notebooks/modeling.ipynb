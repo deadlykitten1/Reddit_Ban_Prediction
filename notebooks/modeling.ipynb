{
 "cells": [
  {
   "cell_type": "code",
   "execution_count": 8,
   "metadata": {},
   "outputs": [],
   "source": [
    "import pandas as pd\n",
    "\n",
    "from sklearn.feature_extraction.text import TfidfVectorizer\n",
    "from sklearn.cluster import KMeans\n",
    "from sklearn.cluster import AgglomerativeClustering"
   ]
  },
  {
   "cell_type": "code",
   "execution_count": 9,
   "metadata": {},
   "outputs": [],
   "source": [
    "processed_df = pd.read_pickle('../data/preprocessed_df.pkl')"
   ]
  },
  {
   "cell_type": "code",
   "execution_count": 10,
   "metadata": {},
   "outputs": [
    {
     "data": {
      "text/html": [
       "<div>\n",
       "<style scoped>\n",
       "    .dataframe tbody tr th:only-of-type {\n",
       "        vertical-align: middle;\n",
       "    }\n",
       "\n",
       "    .dataframe tbody tr th {\n",
       "        vertical-align: top;\n",
       "    }\n",
       "\n",
       "    .dataframe thead th {\n",
       "        text-align: right;\n",
       "    }\n",
       "</style>\n",
       "<table border=\"1\" class=\"dataframe\">\n",
       "  <thead>\n",
       "    <tr style=\"text-align: right;\">\n",
       "      <th></th>\n",
       "      <th>created_utc</th>\n",
       "      <th>num_comments</th>\n",
       "      <th>subreddit</th>\n",
       "      <th>subreddit_subscribers</th>\n",
       "      <th>upvote_ratio</th>\n",
       "      <th>url</th>\n",
       "      <th>image?</th>\n",
       "      <th>total_text</th>\n",
       "      <th>tokenned_stopped_text</th>\n",
       "      <th>finalized_text</th>\n",
       "    </tr>\n",
       "  </thead>\n",
       "  <tbody>\n",
       "    <tr>\n",
       "      <th>0</th>\n",
       "      <td>1.502177e+09</td>\n",
       "      <td>840.0</td>\n",
       "      <td>TheRedPill</td>\n",
       "      <td>0.0</td>\n",
       "      <td>0.65</td>\n",
       "      <td>https://www.reddit.com/r/TheRedPill/comments/6...</td>\n",
       "      <td>False</td>\n",
       "      <td>Google Fires Ph.D Biologist/Engineer For Claim...</td>\n",
       "      <td>[google, fire, ph, biologist, engineer, claimi...</td>\n",
       "      <td>google fire ph biologist engineer claiming    ...</td>\n",
       "    </tr>\n",
       "    <tr>\n",
       "      <th>1</th>\n",
       "      <td>1.480424e+09</td>\n",
       "      <td>759.0</td>\n",
       "      <td>TheRedPill</td>\n",
       "      <td>0.0</td>\n",
       "      <td>0.82</td>\n",
       "      <td>https://www.reddit.com/r/TheRedPill/comments/5...</td>\n",
       "      <td>False</td>\n",
       "      <td>HOW TO GET LAID LIKE A WARLORD: 37 Rules of Ap...</td>\n",
       "      <td>[get, laid, like, warlord, , , , , rule, appro...</td>\n",
       "      <td>get laid like warlord     rule approaching mod...</td>\n",
       "    </tr>\n",
       "    <tr>\n",
       "      <th>2</th>\n",
       "      <td>1.502101e+09</td>\n",
       "      <td>179.0</td>\n",
       "      <td>TheRedPill</td>\n",
       "      <td>0.0</td>\n",
       "      <td>0.86</td>\n",
       "      <td>https://www.reddit.com/r/TheRedPill/comments/6...</td>\n",
       "      <td>False</td>\n",
       "      <td>I have been practicing Stoicism for 3 years no...</td>\n",
       "      <td>[practicing, stoicism, , , year, quality, life...</td>\n",
       "      <td>practicing stoicism   year quality life increa...</td>\n",
       "    </tr>\n",
       "    <tr>\n",
       "      <th>3</th>\n",
       "      <td>1.433962e+09</td>\n",
       "      <td>954.0</td>\n",
       "      <td>TheRedPill</td>\n",
       "      <td>0.0</td>\n",
       "      <td>0.87</td>\n",
       "      <td>https://www.reddit.com/r/TheRedPill/comments/3...</td>\n",
       "      <td>False</td>\n",
       "      <td>[META] Reddit rolls out first ban wave of \"Har...</td>\n",
       "      <td>[, meta, , roll, first, ban, wave, , harassing...</td>\n",
       "      <td>meta  roll first ban wave  harassing subreddi...</td>\n",
       "    </tr>\n",
       "    <tr>\n",
       "      <th>4</th>\n",
       "      <td>1.500270e+09</td>\n",
       "      <td>336.0</td>\n",
       "      <td>TheRedPill</td>\n",
       "      <td>0.0</td>\n",
       "      <td>0.90</td>\n",
       "      <td>https://www.reddit.com/r/TheRedPill/comments/6...</td>\n",
       "      <td>False</td>\n",
       "      <td>Man gets his ex-GF to pay child support, and R...</td>\n",
       "      <td>[man, get, ex, gf, pay, child, support, , frea...</td>\n",
       "      <td>man get ex gf pay child support  freak outkind...</td>\n",
       "    </tr>\n",
       "  </tbody>\n",
       "</table>\n",
       "</div>"
      ],
      "text/plain": [
       "    created_utc  num_comments   subreddit  subreddit_subscribers  \\\n",
       "0  1.502177e+09         840.0  TheRedPill                    0.0   \n",
       "1  1.480424e+09         759.0  TheRedPill                    0.0   \n",
       "2  1.502101e+09         179.0  TheRedPill                    0.0   \n",
       "3  1.433962e+09         954.0  TheRedPill                    0.0   \n",
       "4  1.500270e+09         336.0  TheRedPill                    0.0   \n",
       "\n",
       "   upvote_ratio                                                url  image?  \\\n",
       "0          0.65  https://www.reddit.com/r/TheRedPill/comments/6...   False   \n",
       "1          0.82  https://www.reddit.com/r/TheRedPill/comments/5...   False   \n",
       "2          0.86  https://www.reddit.com/r/TheRedPill/comments/6...   False   \n",
       "3          0.87  https://www.reddit.com/r/TheRedPill/comments/3...   False   \n",
       "4          0.90  https://www.reddit.com/r/TheRedPill/comments/6...   False   \n",
       "\n",
       "                                          total_text  \\\n",
       "0  Google Fires Ph.D Biologist/Engineer For Claim...   \n",
       "1  HOW TO GET LAID LIKE A WARLORD: 37 Rules of Ap...   \n",
       "2  I have been practicing Stoicism for 3 years no...   \n",
       "3  [META] Reddit rolls out first ban wave of \"Har...   \n",
       "4  Man gets his ex-GF to pay child support, and R...   \n",
       "\n",
       "                               tokenned_stopped_text  \\\n",
       "0  [google, fire, ph, biologist, engineer, claimi...   \n",
       "1  [get, laid, like, warlord, , , , , rule, appro...   \n",
       "2  [practicing, stoicism, , , year, quality, life...   \n",
       "3  [, meta, , roll, first, ban, wave, , harassing...   \n",
       "4  [man, get, ex, gf, pay, child, support, , frea...   \n",
       "\n",
       "                                      finalized_text  \n",
       "0  google fire ph biologist engineer claiming    ...  \n",
       "1  get laid like warlord     rule approaching mod...  \n",
       "2  practicing stoicism   year quality life increa...  \n",
       "3   meta  roll first ban wave  harassing subreddi...  \n",
       "4  man get ex gf pay child support  freak outkind...  "
      ]
     },
     "execution_count": 10,
     "metadata": {},
     "output_type": "execute_result"
    }
   ],
   "source": [
    "processed_df.head()"
   ]
  },
  {
   "cell_type": "code",
   "execution_count": 11,
   "metadata": {},
   "outputs": [],
   "source": [
    "tfidf_vectorizer = TfidfVectorizer()\n",
    "\n",
    "text_transformed = tfidf_vectorizer.fit_transform(processed_df['finalized_text'])"
   ]
  },
  {
   "cell_type": "code",
   "execution_count": 12,
   "metadata": {},
   "outputs": [
    {
     "data": {
      "text/plain": [
       "<11009x23905 sparse matrix of type '<class 'numpy.float64'>'\n",
       "\twith 188031 stored elements in Compressed Sparse Row format>"
      ]
     },
     "execution_count": 12,
     "metadata": {},
     "output_type": "execute_result"
    }
   ],
   "source": [
    "text_transformed"
   ]
  },
  {
   "cell_type": "code",
   "execution_count": 13,
   "metadata": {},
   "outputs": [
    {
     "data": {
      "text/plain": [
       "KMeans(n_clusters=3, random_state=305)"
      ]
     },
     "execution_count": 13,
     "metadata": {},
     "output_type": "execute_result"
    }
   ],
   "source": [
    "k_clusterer = KMeans(n_clusters = 3, random_state = 305)\n",
    "\n",
    "k_clusterer.fit(text_transformed)"
   ]
  },
  {
   "cell_type": "code",
   "execution_count": 16,
   "metadata": {},
   "outputs": [],
   "source": [
    "processed_df['k_means_label'] = k_clusterer.labels_"
   ]
  },
  {
   "cell_type": "code",
   "execution_count": 18,
   "metadata": {},
   "outputs": [
    {
     "data": {
      "text/plain": [
       "1    9562\n",
       "0     923\n",
       "2     524\n",
       "Name: k_means_label, dtype: int64"
      ]
     },
     "execution_count": 18,
     "metadata": {},
     "output_type": "execute_result"
    }
   ],
   "source": [
    "processed_df['k_means_label'].value_counts()"
   ]
  },
  {
   "cell_type": "code",
   "execution_count": 14,
   "metadata": {},
   "outputs": [],
   "source": [
    "agg_clusterer = AgglomerativeClustering()"
   ]
  }
 ],
 "metadata": {
  "interpreter": {
   "hash": "1c7ae5ca7afa47d1c118e1cc9ccaf65a17609b650c517e098aee76b19a0109a3"
  },
  "kernelspec": {
   "display_name": "Python 3.9.7 ('base')",
   "language": "python",
   "name": "python3"
  },
  "language_info": {
   "codemirror_mode": {
    "name": "ipython",
    "version": 3
   },
   "file_extension": ".py",
   "mimetype": "text/x-python",
   "name": "python",
   "nbconvert_exporter": "python",
   "pygments_lexer": "ipython3",
   "version": "3.9.7"
  },
  "orig_nbformat": 4
 },
 "nbformat": 4,
 "nbformat_minor": 2
}
