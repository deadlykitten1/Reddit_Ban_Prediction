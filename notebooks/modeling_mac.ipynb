{
 "cells": [
  {
   "cell_type": "code",
   "execution_count": 55,
   "metadata": {},
   "outputs": [],
   "source": [
    "import pandas as pd\n",
    "import numpy as np\n",
    "\n",
    "from sklearn.feature_extraction.text import TfidfVectorizer\n",
    "from sklearn.feature_extraction.text import CountVectorizer\n",
    "\n",
    "from scipy.sparse import hstack, coo_matrix\n",
    "\n",
    "from sklearn.preprocessing import StandardScaler\n",
    "from sklearn.base import BaseEstimator, TransformerMixin\n",
    "from sklearn.model_selection import train_test_split\n",
    "from sklearn.tree import DecisionTreeClassifier\n",
    "from sklearn.ensemble import RandomForestClassifier\n",
    "from sklearn.model_selection import GridSearchCV\n",
    "from sklearn.compose import ColumnTransformer\n",
    "from sklearn.pipeline import FeatureUnion\n",
    "from sklearn.pipeline import Pipeline\n",
    "from sklearn.metrics import plot_confusion_matrix\n",
    "from sklearn.metrics import classification_report"
   ]
  },
  {
   "cell_type": "code",
   "execution_count": 56,
   "metadata": {},
   "outputs": [],
   "source": [
    "df_by_post = pd.read_csv('../data/posts.csv')"
   ]
  },
  {
   "cell_type": "code",
   "execution_count": 57,
   "metadata": {},
   "outputs": [],
   "source": [
    "labels = {\n",
    "    #Quarantined subreddits\n",
    "    'TheRedPill' : -1,\n",
    "\n",
    "    #apolitical (I think)\n",
    "    'BlackPeopleTwitter' : 1,\n",
    "    'WhitePeopleTwitter' : 1,\n",
    "    'politics' : 0,\n",
    "    'law' : 0,\n",
    "    'news' : 0,\n",
    "    'worldnews' : 0,\n",
    "    'Jokes' : 0,\n",
    "    'funny' : 0,\n",
    "    'gaming' : 0,\n",
    "    'Games' : 0,\n",
    "    'technology' : 0,\n",
    "    'tech' : 0,\n",
    "    'technews' : 0,\n",
    "    'gadgets' : 0,\n",
    "    'space' : 0,\n",
    "    'science' : 0,\n",
    "    'nextfuckinglevel' : 0,\n",
    "    'MurderedByWords' : 0,\n",
    "    'mildlyinteresting' : 0,\n",
    "    'Damnthatsinteresting' : 0,\n",
    "    'mildlyinfuriating' : 0,\n",
    "    'wallstreetbets' : 0,\n",
    "    'Superstonk' : 0,\n",
    "    'shitposting' : -1,\n",
    "    'pcmasterrace' : 0,\n",
    "    'teenagers' : 0,\n",
    "    'PublicFreakout' : 0,\n",
    "    'memes' : 0,\n",
    "    'AskReddit' : 0,\n",
    "    'AskAnAmerican' : 0,\n",
    "    'Gamingcirclejerk' : 0,\n",
    "    'nottheonion' : 0,\n",
    "    'gatesopencomeonin' : 0,\n",
    "    'wholesomememes' : 0,\n",
    "    'wholesome' : 0,\n",
    "    'interestingasfuck' : 0,\n",
    "    'PoliticalCompassMemes' : 0,\n",
    "    'PoliticalHumor' : 0,\n",
    "    'AskMen' : 0,\n",
    "    'AskWomen' : 0,\n",
    "    'TooAfraidToAsk' : 0,\n",
    "    'MadeMeSmile' : 0,\n",
    "    'rareinsults' : 0,\n",
    "    'UFOs' : 0,\n",
    "    'HighStrangeness' : 0,\n",
    "    'todayilearned' : 0,\n",
    "    'RoastMe' : 0,\n",
    "    'CryptoCurrency' : 0,\n",
    "    'Wellthatsucks' : 0,\n",
    "    'barstoolsports' : 0,\n",
    "    'awfuleverything' : 0,\n",
    "    'unpopularopinion' : 0,\n",
    "    'atheism' : 0,\n",
    "    'Christianity' : 0,\n",
    "    'Catholicism' : 0,\n",
    "    'changemyview' : 0,\n",
    "    'Coronavirus' : 0,\n",
    "    'COVID19' : 0,\n",
    "    'coronavirusNYC' : 0,\n",
    "    'Masks4All' : 1,\n",
    "    'consipiratard' : 1,\n",
    "    'environment' : 1,\n",
    "    'TrollXChromosomes' : 1,\n",
    "    'TrollYChromosome' : 0,\n",
    "    'WikiLeaks' : -1,\n",
    "    '4chan' : 0,\n",
    "    'greentext' : 0,\n",
    "    'NoStupidQuestions' : 0,\n",
    "    'offmychest' : 0,\n",
    "    'texas' : 1,\n",
    "    'terriblefacebookmemes' : 0,\n",
    "    'insanepeoplefacebook' : 0,\n",
    "    'ShitMomGroupsSay' : 0,\n",
    "    'masskillers' : 0,\n",
    "    'Parenting' : 0,\n",
    "    'Marriage' : 0,\n",
    "    'neoliberal' : 1,\n",
    "    'spacex' : 0,\n",
    "    'savedyouaclick' : 0,\n",
    "    'socialmedia' : 0,\n",
    "    'moderatepolitics' : 0,\n",
    "    'virginvschad' : -1,\n",
    "    'CoronavirusCirclejerk' : -1,\n",
    "\n",
    "    #left (I think)\n",
    "    'antiwork' : 1,\n",
    "    'Anticonsumption' : 1,\n",
    "    'SelfAwarewolves' : 1,\n",
    "    'niceguys' : 1,\n",
    "    'onejoke' : 1,\n",
    "    'Feminism' : 1,\n",
    "    'WitchesVsPatriarchy' : 1,\n",
    "    'AreTheStraightsOK' : 1,\n",
    "    'ToiletPaperUSA' : 1,\n",
    "    'LeopardsAteMyFace' : 1,\n",
    "    'TwoXChromosomes' : 1,\n",
    "    'Anarchism' : 1,\n",
    "    'TopMindsOfReddit' : 1,\n",
    "    'esist' : 1,\n",
    "    'MarchAgainstNazis' : 1,\n",
    "    'exredpill' : 1,\n",
    "    'MensLib' : 1,\n",
    "    'lgbt' : 1,\n",
    "    'gay' : 1,\n",
    "    'bisexual' : 1,\n",
    "    'AgainstHateSubreddits' : 1,\n",
    "    'traaaaaaannnnnnnnnns' : 1,\n",
    "    'trans' : 1,\n",
    "    'GenderCynical' : 1,\n",
    "    'EnoughTrumpSpam' : 1,\n",
    "    'ABoringDystopia' : 1,\n",
    "    'pointlesslygendered' : 1,\n",
    "    'Persecutionfetish' : 1,\n",
    "    'TheRightCantMeme' : 1,\n",
    "    'MurderedByAOC' : 1,\n",
    "    'LateStageCapitalism' : 1,\n",
    "    'TheBluePill' : 1,\n",
    "    'justneckbeardthings' : 1,\n",
    "    'NotHowGirlsWork' : 1,\n",
    "    'CapitalismSux' : 1,\n",
    "    'GreenAndPleasant' : 1,\n",
    "    'religiousfruitcake' : 1,\n",
    "    'FragileWhiteRedditor' : 1,\n",
    "    'Trumpvirus' : 1,\n",
    "    'socialism' : 1,\n",
    "    'asktransgender' : 1,\n",
    "    'SandersForPresident' : 1,\n",
    "    'MtF' : 1,\n",
    "    'ftm' : 1,\n",
    "    'egg_irl' : 1,\n",
    "    'NonBinary' : 1,\n",
    "    'HermanCainAward' : 1,\n",
    "    'lostgeneration' : 1,\n",
    "    'stupidpol' : 1,\n",
    "    'Qult_Headquarters' : 1,\n",
    "    'IncelTear' : 1,\n",
    "    'ParlerWatch' : 1,\n",
    "    'ShitLiberalsSay' : 1,\n",
    "    'Hasan_Piker' : 1,\n",
    "\n",
    "    #right (I think)\n",
    "    'JoeRogan' : -1,\n",
    "    'dankmemes' : -1,\n",
    "    'Memes_Of_The_Dank' : -1,\n",
    "    'okbuddyretard' : -1,\n",
    "    'okmatewanker' : -1,\n",
    "    'pussypassdenied' : -1,\n",
    "    'antifeminists' : -1,\n",
    "    'MensRights' : -1,\n",
    "    'ProudMaleFeminists' : -1,\n",
    "    'WhereAreTheFeminists' : -1,\n",
    "    'FeminismUncensored' : -1,\n",
    "    'SRSsucks' : -1,\n",
    "    'Conservative' : -1,\n",
    "    'JordanPeterson' : -1,\n",
    "    'conspiracy' : -1,\n",
    "    'conspiracy_commons' : -1,\n",
    "    'tucker_carlson' : -1,\n",
    "    'TheTrumpZone' : -1,\n",
    "    'LouderWithCrowder' : -1,\n",
    "    'Libertarian' : -1,\n",
    "    'AskThe_Donald' : -1,\n",
    "    'walkaway' : -1,\n",
    "    'ConservativesOnly' : -1,\n",
    "    'IncelsCircleJerk' : -1,\n",
    "    'BlackPillScience' : -1,\n",
    "    'Blubber_Whaling' : -1,\n",
    "    'memegender' : -1,\n",
    "    'SocialJusticeInAction' : -1,\n",
    "    'FreeSpeech' : -1,\n",
    "    'libsofreddit' : -1,\n",
    "    'EnoughCommieSpam' : -1,\n",
    "    'TheLeftCantMeme' : -1,\n",
    "    'Anarcho_Capitalism' : -1,\n",
    "    'ar15' : -1,\n",
    "    'guns' : -1,\n",
    "    'nra' : -1,\n",
    "    'Firearms' : -1,\n",
    "    'CCW' : -1,\n",
    "    'Glocks': -1,\n",
    "    'tacticalgear' : -1,\n",
    "    'liberalgunowners' : -1,\n",
    "    'HillaryForPrison' : -1,\n",
    "    'Offensivejokes' : -1\n",
    "}"
   ]
  },
  {
   "cell_type": "code",
   "execution_count": 58,
   "metadata": {},
   "outputs": [],
   "source": [
    "df_by_post['alignment'] = df_by_post['subreddit'].apply(lambda x: labels[x])"
   ]
  },
  {
   "cell_type": "code",
   "execution_count": 59,
   "metadata": {},
   "outputs": [
    {
     "data": {
      "text/html": [
       "<div>\n",
       "<style scoped>\n",
       "    .dataframe tbody tr th:only-of-type {\n",
       "        vertical-align: middle;\n",
       "    }\n",
       "\n",
       "    .dataframe tbody tr th {\n",
       "        vertical-align: top;\n",
       "    }\n",
       "\n",
       "    .dataframe thead th {\n",
       "        text-align: right;\n",
       "    }\n",
       "</style>\n",
       "<table border=\"1\" class=\"dataframe\">\n",
       "  <thead>\n",
       "    <tr style=\"text-align: right;\">\n",
       "      <th></th>\n",
       "      <th>Unnamed: 0</th>\n",
       "      <th>created_utc</th>\n",
       "      <th>subreddit</th>\n",
       "      <th>subreddit_subscribers</th>\n",
       "      <th>upvote_ratio</th>\n",
       "      <th>num_comments</th>\n",
       "      <th>url</th>\n",
       "      <th>image?</th>\n",
       "      <th>image_text</th>\n",
       "      <th>total_text</th>\n",
       "      <th>tokenned_stopped_text</th>\n",
       "      <th>finalized_text</th>\n",
       "      <th>alignment</th>\n",
       "    </tr>\n",
       "  </thead>\n",
       "  <tbody>\n",
       "    <tr>\n",
       "      <th>0</th>\n",
       "      <td>0</td>\n",
       "      <td>1.502177e+09</td>\n",
       "      <td>TheRedPill</td>\n",
       "      <td>0.0</td>\n",
       "      <td>0.65</td>\n",
       "      <td>840.0</td>\n",
       "      <td>https://www.reddit.com/r/TheRedPill/comments/6...</td>\n",
       "      <td>False</td>\n",
       "      <td>NaN</td>\n",
       "      <td>Google Fires Ph.D Biologist/Engineer For Claim...</td>\n",
       "      <td>['google', 'fire', 'ph', 'biologist', 'enginee...</td>\n",
       "      <td>google fire ph biologist engineer claiming ave...</td>\n",
       "      <td>-1</td>\n",
       "    </tr>\n",
       "    <tr>\n",
       "      <th>1</th>\n",
       "      <td>1</td>\n",
       "      <td>1.480424e+09</td>\n",
       "      <td>TheRedPill</td>\n",
       "      <td>0.0</td>\n",
       "      <td>0.82</td>\n",
       "      <td>760.0</td>\n",
       "      <td>https://www.reddit.com/r/TheRedPill/comments/5...</td>\n",
       "      <td>False</td>\n",
       "      <td>NaN</td>\n",
       "      <td>HOW TO GET LAID LIKE A WARLORD: 37 Rules of Ap...</td>\n",
       "      <td>['laid', 'warlord', 'rule', 'approaching', 'mo...</td>\n",
       "      <td>laid warlord rule approaching model tier girl ...</td>\n",
       "      <td>-1</td>\n",
       "    </tr>\n",
       "    <tr>\n",
       "      <th>2</th>\n",
       "      <td>2</td>\n",
       "      <td>1.502101e+09</td>\n",
       "      <td>TheRedPill</td>\n",
       "      <td>0.0</td>\n",
       "      <td>0.86</td>\n",
       "      <td>179.0</td>\n",
       "      <td>https://www.reddit.com/r/TheRedPill/comments/6...</td>\n",
       "      <td>False</td>\n",
       "      <td>NaN</td>\n",
       "      <td>I have been practicing Stoicism for 3 years no...</td>\n",
       "      <td>['practicing', 'stoicism', 'year', 'quality', ...</td>\n",
       "      <td>practicing stoicism year quality life increase...</td>\n",
       "      <td>-1</td>\n",
       "    </tr>\n",
       "    <tr>\n",
       "      <th>3</th>\n",
       "      <td>3</td>\n",
       "      <td>1.433962e+09</td>\n",
       "      <td>TheRedPill</td>\n",
       "      <td>0.0</td>\n",
       "      <td>0.87</td>\n",
       "      <td>954.0</td>\n",
       "      <td>https://www.reddit.com/r/TheRedPill/comments/3...</td>\n",
       "      <td>False</td>\n",
       "      <td>NaN</td>\n",
       "      <td>[META] Reddit rolls out first ban wave of \"Har...</td>\n",
       "      <td>['meta', 'reddit', 'roll', 'first', 'ban', 'wa...</td>\n",
       "      <td>meta reddit roll first ban wave harassing subr...</td>\n",
       "      <td>-1</td>\n",
       "    </tr>\n",
       "    <tr>\n",
       "      <th>4</th>\n",
       "      <td>4</td>\n",
       "      <td>1.500270e+09</td>\n",
       "      <td>TheRedPill</td>\n",
       "      <td>0.0</td>\n",
       "      <td>0.90</td>\n",
       "      <td>336.0</td>\n",
       "      <td>https://www.reddit.com/r/TheRedPill/comments/6...</td>\n",
       "      <td>False</td>\n",
       "      <td>NaN</td>\n",
       "      <td>Man gets his ex-GF to pay child support, and R...</td>\n",
       "      <td>['man', 'get', 'ex', 'gf', 'pay', 'child', 'su...</td>\n",
       "      <td>man get ex gf pay child support reddit freak k...</td>\n",
       "      <td>-1</td>\n",
       "    </tr>\n",
       "  </tbody>\n",
       "</table>\n",
       "</div>"
      ],
      "text/plain": [
       "   Unnamed: 0   created_utc   subreddit  subreddit_subscribers  upvote_ratio  \\\n",
       "0           0  1.502177e+09  TheRedPill                    0.0          0.65   \n",
       "1           1  1.480424e+09  TheRedPill                    0.0          0.82   \n",
       "2           2  1.502101e+09  TheRedPill                    0.0          0.86   \n",
       "3           3  1.433962e+09  TheRedPill                    0.0          0.87   \n",
       "4           4  1.500270e+09  TheRedPill                    0.0          0.90   \n",
       "\n",
       "   num_comments                                                url  image?  \\\n",
       "0         840.0  https://www.reddit.com/r/TheRedPill/comments/6...   False   \n",
       "1         760.0  https://www.reddit.com/r/TheRedPill/comments/5...   False   \n",
       "2         179.0  https://www.reddit.com/r/TheRedPill/comments/6...   False   \n",
       "3         954.0  https://www.reddit.com/r/TheRedPill/comments/3...   False   \n",
       "4         336.0  https://www.reddit.com/r/TheRedPill/comments/6...   False   \n",
       "\n",
       "  image_text                                         total_text  \\\n",
       "0        NaN  Google Fires Ph.D Biologist/Engineer For Claim...   \n",
       "1        NaN  HOW TO GET LAID LIKE A WARLORD: 37 Rules of Ap...   \n",
       "2        NaN  I have been practicing Stoicism for 3 years no...   \n",
       "3        NaN  [META] Reddit rolls out first ban wave of \"Har...   \n",
       "4        NaN  Man gets his ex-GF to pay child support, and R...   \n",
       "\n",
       "                               tokenned_stopped_text  \\\n",
       "0  ['google', 'fire', 'ph', 'biologist', 'enginee...   \n",
       "1  ['laid', 'warlord', 'rule', 'approaching', 'mo...   \n",
       "2  ['practicing', 'stoicism', 'year', 'quality', ...   \n",
       "3  ['meta', 'reddit', 'roll', 'first', 'ban', 'wa...   \n",
       "4  ['man', 'get', 'ex', 'gf', 'pay', 'child', 'su...   \n",
       "\n",
       "                                      finalized_text  alignment  \n",
       "0  google fire ph biologist engineer claiming ave...         -1  \n",
       "1  laid warlord rule approaching model tier girl ...         -1  \n",
       "2  practicing stoicism year quality life increase...         -1  \n",
       "3  meta reddit roll first ban wave harassing subr...         -1  \n",
       "4  man get ex gf pay child support reddit freak k...         -1  "
      ]
     },
     "execution_count": 59,
     "metadata": {},
     "output_type": "execute_result"
    }
   ],
   "source": [
    "df_by_post.head()"
   ]
  },
  {
   "cell_type": "code",
   "execution_count": 60,
   "metadata": {},
   "outputs": [],
   "source": [
    "predicting_df = df_by_post.drop(columns = ['url', 'subreddit_subscribers', 'image_text', 'total_text', 'tokenned_stopped_text', 'created_utc', 'subreddit'])"
   ]
  },
  {
   "cell_type": "code",
   "execution_count": 61,
   "metadata": {},
   "outputs": [],
   "source": [
    "predicting_df['image?'] = predicting_df['image?'].astype('float64')"
   ]
  },
  {
   "cell_type": "code",
   "execution_count": 62,
   "metadata": {},
   "outputs": [
    {
     "data": {
      "text/html": [
       "<div>\n",
       "<style scoped>\n",
       "    .dataframe tbody tr th:only-of-type {\n",
       "        vertical-align: middle;\n",
       "    }\n",
       "\n",
       "    .dataframe tbody tr th {\n",
       "        vertical-align: top;\n",
       "    }\n",
       "\n",
       "    .dataframe thead th {\n",
       "        text-align: right;\n",
       "    }\n",
       "</style>\n",
       "<table border=\"1\" class=\"dataframe\">\n",
       "  <thead>\n",
       "    <tr style=\"text-align: right;\">\n",
       "      <th></th>\n",
       "      <th>Unnamed: 0</th>\n",
       "      <th>upvote_ratio</th>\n",
       "      <th>num_comments</th>\n",
       "      <th>image?</th>\n",
       "      <th>finalized_text</th>\n",
       "      <th>alignment</th>\n",
       "    </tr>\n",
       "  </thead>\n",
       "  <tbody>\n",
       "    <tr>\n",
       "      <th>0</th>\n",
       "      <td>0</td>\n",
       "      <td>0.65</td>\n",
       "      <td>840.0</td>\n",
       "      <td>0.0</td>\n",
       "      <td>google fire ph biologist engineer claiming ave...</td>\n",
       "      <td>-1</td>\n",
       "    </tr>\n",
       "    <tr>\n",
       "      <th>1</th>\n",
       "      <td>1</td>\n",
       "      <td>0.82</td>\n",
       "      <td>760.0</td>\n",
       "      <td>0.0</td>\n",
       "      <td>laid warlord rule approaching model tier girl ...</td>\n",
       "      <td>-1</td>\n",
       "    </tr>\n",
       "    <tr>\n",
       "      <th>2</th>\n",
       "      <td>2</td>\n",
       "      <td>0.86</td>\n",
       "      <td>179.0</td>\n",
       "      <td>0.0</td>\n",
       "      <td>practicing stoicism year quality life increase...</td>\n",
       "      <td>-1</td>\n",
       "    </tr>\n",
       "    <tr>\n",
       "      <th>3</th>\n",
       "      <td>3</td>\n",
       "      <td>0.87</td>\n",
       "      <td>954.0</td>\n",
       "      <td>0.0</td>\n",
       "      <td>meta reddit roll first ban wave harassing subr...</td>\n",
       "      <td>-1</td>\n",
       "    </tr>\n",
       "    <tr>\n",
       "      <th>4</th>\n",
       "      <td>4</td>\n",
       "      <td>0.90</td>\n",
       "      <td>336.0</td>\n",
       "      <td>0.0</td>\n",
       "      <td>man get ex gf pay child support reddit freak k...</td>\n",
       "      <td>-1</td>\n",
       "    </tr>\n",
       "  </tbody>\n",
       "</table>\n",
       "</div>"
      ],
      "text/plain": [
       "   Unnamed: 0  upvote_ratio  num_comments  image?  \\\n",
       "0           0          0.65         840.0     0.0   \n",
       "1           1          0.82         760.0     0.0   \n",
       "2           2          0.86         179.0     0.0   \n",
       "3           3          0.87         954.0     0.0   \n",
       "4           4          0.90         336.0     0.0   \n",
       "\n",
       "                                      finalized_text  alignment  \n",
       "0  google fire ph biologist engineer claiming ave...         -1  \n",
       "1  laid warlord rule approaching model tier girl ...         -1  \n",
       "2  practicing stoicism year quality life increase...         -1  \n",
       "3  meta reddit roll first ban wave harassing subr...         -1  \n",
       "4  man get ex gf pay child support reddit freak k...         -1  "
      ]
     },
     "execution_count": 62,
     "metadata": {},
     "output_type": "execute_result"
    }
   ],
   "source": [
    "predicting_df.head()"
   ]
  },
  {
   "cell_type": "code",
   "execution_count": 63,
   "metadata": {},
   "outputs": [],
   "source": [
    "predicting_df = predicting_df.dropna()"
   ]
  },
  {
   "cell_type": "code",
   "execution_count": 64,
   "metadata": {},
   "outputs": [
    {
     "data": {
      "text/html": [
       "<div>\n",
       "<style scoped>\n",
       "    .dataframe tbody tr th:only-of-type {\n",
       "        vertical-align: middle;\n",
       "    }\n",
       "\n",
       "    .dataframe tbody tr th {\n",
       "        vertical-align: top;\n",
       "    }\n",
       "\n",
       "    .dataframe thead th {\n",
       "        text-align: right;\n",
       "    }\n",
       "</style>\n",
       "<table border=\"1\" class=\"dataframe\">\n",
       "  <thead>\n",
       "    <tr style=\"text-align: right;\">\n",
       "      <th></th>\n",
       "      <th>Unnamed: 0</th>\n",
       "      <th>upvote_ratio</th>\n",
       "      <th>num_comments</th>\n",
       "      <th>image?</th>\n",
       "      <th>finalized_text</th>\n",
       "      <th>alignment</th>\n",
       "    </tr>\n",
       "  </thead>\n",
       "  <tbody>\n",
       "    <tr>\n",
       "      <th>0</th>\n",
       "      <td>0</td>\n",
       "      <td>0.65</td>\n",
       "      <td>840.0</td>\n",
       "      <td>0.0</td>\n",
       "      <td>google fire ph biologist engineer claiming ave...</td>\n",
       "      <td>-1</td>\n",
       "    </tr>\n",
       "    <tr>\n",
       "      <th>1</th>\n",
       "      <td>1</td>\n",
       "      <td>0.82</td>\n",
       "      <td>760.0</td>\n",
       "      <td>0.0</td>\n",
       "      <td>laid warlord rule approaching model tier girl ...</td>\n",
       "      <td>-1</td>\n",
       "    </tr>\n",
       "    <tr>\n",
       "      <th>2</th>\n",
       "      <td>2</td>\n",
       "      <td>0.86</td>\n",
       "      <td>179.0</td>\n",
       "      <td>0.0</td>\n",
       "      <td>practicing stoicism year quality life increase...</td>\n",
       "      <td>-1</td>\n",
       "    </tr>\n",
       "    <tr>\n",
       "      <th>3</th>\n",
       "      <td>3</td>\n",
       "      <td>0.87</td>\n",
       "      <td>954.0</td>\n",
       "      <td>0.0</td>\n",
       "      <td>meta reddit roll first ban wave harassing subr...</td>\n",
       "      <td>-1</td>\n",
       "    </tr>\n",
       "    <tr>\n",
       "      <th>4</th>\n",
       "      <td>4</td>\n",
       "      <td>0.90</td>\n",
       "      <td>336.0</td>\n",
       "      <td>0.0</td>\n",
       "      <td>man get ex gf pay child support reddit freak k...</td>\n",
       "      <td>-1</td>\n",
       "    </tr>\n",
       "    <tr>\n",
       "      <th>...</th>\n",
       "      <td>...</td>\n",
       "      <td>...</td>\n",
       "      <td>...</td>\n",
       "      <td>...</td>\n",
       "      <td>...</td>\n",
       "      <td>...</td>\n",
       "    </tr>\n",
       "    <tr>\n",
       "      <th>35126</th>\n",
       "      <td>35126</td>\n",
       "      <td>0.98</td>\n",
       "      <td>62.0</td>\n",
       "      <td>1.0</td>\n",
       "      <td>equality</td>\n",
       "      <td>-1</td>\n",
       "    </tr>\n",
       "    <tr>\n",
       "      <th>35127</th>\n",
       "      <td>35127</td>\n",
       "      <td>0.98</td>\n",
       "      <td>96.0</td>\n",
       "      <td>0.0</td>\n",
       "      <td>handle neutron style</td>\n",
       "      <td>-1</td>\n",
       "    </tr>\n",
       "    <tr>\n",
       "      <th>35128</th>\n",
       "      <td>35128</td>\n",
       "      <td>0.99</td>\n",
       "      <td>57.0</td>\n",
       "      <td>1.0</td>\n",
       "      <td>h bethesda bethesda bethesda uk iio tatesxe fo...</td>\n",
       "      <td>-1</td>\n",
       "    </tr>\n",
       "    <tr>\n",
       "      <th>35129</th>\n",
       "      <td>35129</td>\n",
       "      <td>0.99</td>\n",
       "      <td>40.0</td>\n",
       "      <td>1.0</td>\n",
       "      <td>feminist hear people drafted world war feminis...</td>\n",
       "      <td>-1</td>\n",
       "    </tr>\n",
       "    <tr>\n",
       "      <th>35130</th>\n",
       "      <td>35130</td>\n",
       "      <td>0.99</td>\n",
       "      <td>126.0</td>\n",
       "      <td>1.0</td>\n",
       "      <td>triggered everyone politically correct day say...</td>\n",
       "      <td>-1</td>\n",
       "    </tr>\n",
       "  </tbody>\n",
       "</table>\n",
       "<p>34996 rows × 6 columns</p>\n",
       "</div>"
      ],
      "text/plain": [
       "       Unnamed: 0  upvote_ratio  num_comments  image?  \\\n",
       "0               0          0.65         840.0     0.0   \n",
       "1               1          0.82         760.0     0.0   \n",
       "2               2          0.86         179.0     0.0   \n",
       "3               3          0.87         954.0     0.0   \n",
       "4               4          0.90         336.0     0.0   \n",
       "...           ...           ...           ...     ...   \n",
       "35126       35126          0.98          62.0     1.0   \n",
       "35127       35127          0.98          96.0     0.0   \n",
       "35128       35128          0.99          57.0     1.0   \n",
       "35129       35129          0.99          40.0     1.0   \n",
       "35130       35130          0.99         126.0     1.0   \n",
       "\n",
       "                                          finalized_text  alignment  \n",
       "0      google fire ph biologist engineer claiming ave...         -1  \n",
       "1      laid warlord rule approaching model tier girl ...         -1  \n",
       "2      practicing stoicism year quality life increase...         -1  \n",
       "3      meta reddit roll first ban wave harassing subr...         -1  \n",
       "4      man get ex gf pay child support reddit freak k...         -1  \n",
       "...                                                  ...        ...  \n",
       "35126                                           equality         -1  \n",
       "35127                               handle neutron style         -1  \n",
       "35128  h bethesda bethesda bethesda uk iio tatesxe fo...         -1  \n",
       "35129  feminist hear people drafted world war feminis...         -1  \n",
       "35130  triggered everyone politically correct day say...         -1  \n",
       "\n",
       "[34996 rows x 6 columns]"
      ]
     },
     "execution_count": 64,
     "metadata": {},
     "output_type": "execute_result"
    }
   ],
   "source": [
    "predicting_df"
   ]
  },
  {
   "cell_type": "markdown",
   "metadata": {},
   "source": [
    "# Modeling"
   ]
  },
  {
   "cell_type": "code",
   "execution_count": 77,
   "metadata": {},
   "outputs": [],
   "source": [
    "X = predicting_df.drop(columns = ['alignment', 'Unnamed: 0'])\n",
    "y = predicting_df['alignment']\n",
    "\n",
    "X_train, X_test, y_train, y_test = train_test_split(X, y, test_size = .2, stratify = y, random_state = 305)"
   ]
  },
  {
   "cell_type": "code",
   "execution_count": 78,
   "metadata": {},
   "outputs": [],
   "source": [
    "count_vectorizer = CountVectorizer()\n",
    "scaler = StandardScaler()\n",
    "\n",
    "count_transformer = ColumnTransformer(transformers = [('count_vect', count_vectorizer, 'finalized_text')])\n",
    "scaler_transformer = ColumnTransformer(transformers = [('scaler', scaler, ['upvote_ratio', 'num_comments', 'image?'])])\n",
    "\n",
    "unifier = FeatureUnion(transformer_list = [('count_transformer', count_transformer), ('scaler_transformer', scaler_transformer)])"
   ]
  },
  {
   "cell_type": "code",
   "execution_count": 79,
   "metadata": {},
   "outputs": [],
   "source": [
    "dtree = DecisionTreeClassifier()\n",
    "\n",
    "dpipe = Pipeline(steps = [\n",
    "    ('feature_union', unifier),\n",
    "    ('model', dtree)\n",
    " ])\n"
   ]
  },
  {
   "cell_type": "code",
   "execution_count": 80,
   "metadata": {},
   "outputs": [
    {
     "data": {
      "text/plain": [
       "Pipeline(steps=[('feature_union',\n",
       "                 FeatureUnion(transformer_list=[('count_transformer',\n",
       "                                                 ColumnTransformer(transformers=[('count_vect',\n",
       "                                                                                  CountVectorizer(),\n",
       "                                                                                  'finalized_text')])),\n",
       "                                                ('scaler_transformer',\n",
       "                                                 ColumnTransformer(transformers=[('scaler',\n",
       "                                                                                  StandardScaler(),\n",
       "                                                                                  ['upvote_ratio',\n",
       "                                                                                   'num_comments',\n",
       "                                                                                   'image?'])]))])),\n",
       "                ('model', DecisionTreeClassifier())])"
      ]
     },
     "execution_count": 80,
     "metadata": {},
     "output_type": "execute_result"
    }
   ],
   "source": [
    "dpipe.fit(X_train, y_train)"
   ]
  },
  {
   "cell_type": "code",
   "execution_count": 81,
   "metadata": {},
   "outputs": [
    {
     "name": "stdout",
     "output_type": "stream",
     "text": [
      "              precision    recall  f1-score   support\n",
      "\n",
      "          -1       0.63      0.63      0.63      1769\n",
      "           0       0.76      0.75      0.76      2851\n",
      "           1       0.67      0.68      0.67      2380\n",
      "\n",
      "    accuracy                           0.70      7000\n",
      "   macro avg       0.69      0.69      0.69      7000\n",
      "weighted avg       0.70      0.70      0.70      7000\n",
      "\n"
     ]
    },
    {
     "data": {
      "image/png": "[encoded data removed]",
      "text/plain": [
       "<Figure size 432x288 with 2 Axes>"
      ]
     },
     "metadata": {
      "needs_background": "light"
     },
     "output_type": "display_data"
    }
   ],
   "source": [
    "plot_confusion_matrix(dpipe, X_test, y_test)\n",
    "\n",
    "print(classification_report(dpipe.predict(X_test), y_test))"
   ]
  },
  {
   "cell_type": "code",
   "execution_count": 100,
   "metadata": {},
   "outputs": [],
   "source": [
    "\n",
    "dpipe_params = {\n",
    "    'model__criterion' : ['gini', 'entropy'],\n",
    "    'model__max_depth': [2, 5, 10],\n",
    "    'model__min_samples_split': [2, 5, 10, 20],\n",
    "    'feature_union__count_transformer__count_vect__ngram_range': [(1,1), (1,2), (2,2), (2,3), (3,3), (1,3)]\n",
    "}\n",
    "\n",
    "dpipe_grid = GridSearchCV(dpipe, dpipe_params, cv=5)"
   ]
  },
  {
   "cell_type": "code",
   "execution_count": 101,
   "metadata": {},
   "outputs": [
    {
     "data": {
      "text/plain": [
       "{'feature_union__count_transformer__count_vect__ngram_range': (1, 3),\n",
       " 'model__criterion': 'gini',\n",
       " 'model__max_depth': 10,\n",
       " 'model__min_samples_split': 5}"
      ]
     },
     "execution_count": 101,
     "metadata": {},
     "output_type": "execute_result"
    }
   ],
   "source": [
    "dpipe_grid.fit(X_train, y_train)\n",
    "\n",
    "dpipe_grid.best_params_"
   ]
  },
  {
   "cell_type": "code",
   "execution_count": 102,
   "metadata": {},
   "outputs": [
    {
     "name": "stdout",
     "output_type": "stream",
     "text": [
      "              precision    recall  f1-score   support\n",
      "\n",
      "          -1       0.39      0.64      0.49      1089\n",
      "           0       0.74      0.69      0.71      3016\n",
      "           1       0.68      0.57      0.62      2895\n",
      "\n",
      "    accuracy                           0.63      7000\n",
      "   macro avg       0.60      0.63      0.61      7000\n",
      "weighted avg       0.66      0.63      0.64      7000\n",
      "\n"
     ]
    },
    {
     "data": {
      "image/png": "[encoded data removed]",
      "text/plain": [
       "<Figure size 432x288 with 2 Axes>"
      ]
     },
     "metadata": {
      "needs_background": "light"
     },
     "output_type": "display_data"
    }
   ],
   "source": [
    "plot_confusion_matrix(dpipe_grid.best_estimator_, X_test, y_test)\n",
    "\n",
    "print(classification_report(dpipe_grid.best_estimator_.predict(X_test), y_test))"
   ]
  },
  {
   "cell_type": "code",
   "execution_count": 105,
   "metadata": {},
   "outputs": [
    {
     "data": {
      "text/plain": [
       "Pipeline(steps=[('feature_union',\n",
       "                 FeatureUnion(transformer_list=[('count_transformer',\n",
       "                                                 ColumnTransformer(transformers=[('count_vect',\n",
       "                                                                                  CountVectorizer(),\n",
       "                                                                                  'finalized_text')])),\n",
       "                                                ('scaler_transformer',\n",
       "                                                 ColumnTransformer(transformers=[('scaler',\n",
       "                                                                                  StandardScaler(),\n",
       "                                                                                  ['upvote_ratio',\n",
       "                                                                                   'num_comments',\n",
       "                                                                                   'image?'])]))])),\n",
       "                ('model', RandomForestClassifier())])"
      ]
     },
     "execution_count": 105,
     "metadata": {},
     "output_type": "execute_result"
    }
   ],
   "source": [
    "dforest = RandomForestClassifier()\n",
    "\n",
    "dforest_pipe = Pipeline(steps = [\n",
    "    ('feature_union', unifier),\n",
    "    ('model', dforest)\n",
    " ])\n",
    "\n",
    "dforest_pipe.fit(X_train, y_train)"
   ]
  },
  {
   "cell_type": "code",
   "execution_count": 106,
   "metadata": {},
   "outputs": [
    {
     "name": "stdout",
     "output_type": "stream",
     "text": [
      "              precision    recall  f1-score   support\n",
      "\n",
      "          -1       0.67      0.74      0.70      1594\n",
      "           0       0.85      0.79      0.82      3013\n",
      "           1       0.75      0.76      0.75      2393\n",
      "\n",
      "    accuracy                           0.77      7000\n",
      "   macro avg       0.75      0.76      0.76      7000\n",
      "weighted avg       0.77      0.77      0.77      7000\n",
      "\n"
     ]
    },
    {
     "data": {
      "image/png": "[encoded data removed]",
      "text/plain": [
       "<Figure size 432x288 with 2 Axes>"
      ]
     },
     "metadata": {
      "needs_background": "light"
     },
     "output_type": "display_data"
    }
   ],
   "source": [
    "plot_confusion_matrix(dforest_pipe, X_test, y_test)\n",
    "\n",
    "print(classification_report(dforest_pipe.predict(X_test), y_test))"
   ]
  },
  {
   "cell_type": "code",
   "execution_count": 113,
   "metadata": {},
   "outputs": [],
   "source": [
    "fpipe_params = {\n",
    "    'model__criterion' : ['gini', 'entropy', 'log_loss'],\n",
    "    'model__n_estimators' : [100, 200, 300, 400],\n",
    "    'model__max_depth': [5, 10],\n",
    "    'feature_union__count_transformer__count_vect__ngram_range': [(1,1), (1,2), (1,3)]\n",
    "}\n",
    "\n",
    "fpipe_grid = GridSearchCV(dforest_pipe, fpipe_params, cv=5, n_jobs = -1)"
   ]
  },
  {
   "cell_type": "code",
   "execution_count": 114,
   "metadata": {},
   "outputs": [
    {
     "ename": "KeyboardInterrupt",
     "evalue": "",
     "output_type": "error",
     "traceback": [
      "\u001b[0;31m---------------------------------------------------------------------------\u001b[0m",
      "\u001b[0;31mKeyboardInterrupt\u001b[0m                         Traceback (most recent call last)",
      "\u001b[0;32m<ipython-input-114-7cb8fc3e0115>\u001b[0m in \u001b[0;36m<module>\u001b[0;34m\u001b[0m\n\u001b[0;32m----> 1\u001b[0;31m \u001b[0mfpipe_grid\u001b[0m\u001b[0;34m.\u001b[0m\u001b[0mfit\u001b[0m\u001b[0;34m(\u001b[0m\u001b[0mX_train\u001b[0m\u001b[0;34m,\u001b[0m \u001b[0my_train\u001b[0m\u001b[0;34m)\u001b[0m\u001b[0;34m\u001b[0m\u001b[0;34m\u001b[0m\u001b[0m\n\u001b[0m\u001b[1;32m      2\u001b[0m \u001b[0;34m\u001b[0m\u001b[0m\n\u001b[1;32m      3\u001b[0m \u001b[0mfpipe_grid\u001b[0m\u001b[0;34m.\u001b[0m\u001b[0mbest_params_\u001b[0m\u001b[0;34m\u001b[0m\u001b[0;34m\u001b[0m\u001b[0m\n",
      "\u001b[0;32m/Library/anaconda3/envs/learn-env/lib/python3.8/site-packages/sklearn/utils/validation.py\u001b[0m in \u001b[0;36minner_f\u001b[0;34m(*args, **kwargs)\u001b[0m\n\u001b[1;32m     70\u001b[0m                           FutureWarning)\n\u001b[1;32m     71\u001b[0m         \u001b[0mkwargs\u001b[0m\u001b[0;34m.\u001b[0m\u001b[0mupdate\u001b[0m\u001b[0;34m(\u001b[0m\u001b[0;34m{\u001b[0m\u001b[0mk\u001b[0m\u001b[0;34m:\u001b[0m \u001b[0marg\u001b[0m \u001b[0;32mfor\u001b[0m \u001b[0mk\u001b[0m\u001b[0;34m,\u001b[0m \u001b[0marg\u001b[0m \u001b[0;32min\u001b[0m \u001b[0mzip\u001b[0m\u001b[0;34m(\u001b[0m\u001b[0msig\u001b[0m\u001b[0;34m.\u001b[0m\u001b[0mparameters\u001b[0m\u001b[0;34m,\u001b[0m \u001b[0margs\u001b[0m\u001b[0;34m)\u001b[0m\u001b[0;34m}\u001b[0m\u001b[0;34m)\u001b[0m\u001b[0;34m\u001b[0m\u001b[0;34m\u001b[0m\u001b[0m\n\u001b[0;32m---> 72\u001b[0;31m         \u001b[0;32mreturn\u001b[0m \u001b[0mf\u001b[0m\u001b[0;34m(\u001b[0m\u001b[0;34m**\u001b[0m\u001b[0mkwargs\u001b[0m\u001b[0;34m)\u001b[0m\u001b[0;34m\u001b[0m\u001b[0;34m\u001b[0m\u001b[0m\n\u001b[0m\u001b[1;32m     73\u001b[0m     \u001b[0;32mreturn\u001b[0m \u001b[0minner_f\u001b[0m\u001b[0;34m\u001b[0m\u001b[0;34m\u001b[0m\u001b[0m\n\u001b[1;32m     74\u001b[0m \u001b[0;34m\u001b[0m\u001b[0m\n",
      "\u001b[0;32m/Library/anaconda3/envs/learn-env/lib/python3.8/site-packages/sklearn/model_selection/_search.py\u001b[0m in \u001b[0;36mfit\u001b[0;34m(self, X, y, groups, **fit_params)\u001b[0m\n\u001b[1;32m    734\u001b[0m                 \u001b[0;32mreturn\u001b[0m \u001b[0mresults\u001b[0m\u001b[0;34m\u001b[0m\u001b[0;34m\u001b[0m\u001b[0m\n\u001b[1;32m    735\u001b[0m \u001b[0;34m\u001b[0m\u001b[0m\n\u001b[0;32m--> 736\u001b[0;31m             \u001b[0mself\u001b[0m\u001b[0;34m.\u001b[0m\u001b[0m_run_search\u001b[0m\u001b[0;34m(\u001b[0m\u001b[0mevaluate_candidates\u001b[0m\u001b[0;34m)\u001b[0m\u001b[0;34m\u001b[0m\u001b[0;34m\u001b[0m\u001b[0m\n\u001b[0m\u001b[1;32m    737\u001b[0m \u001b[0;34m\u001b[0m\u001b[0m\n\u001b[1;32m    738\u001b[0m         \u001b[0;31m# For multi-metric evaluation, store the best_index_, best_params_ and\u001b[0m\u001b[0;34m\u001b[0m\u001b[0;34m\u001b[0m\u001b[0;34m\u001b[0m\u001b[0m\n",
      "\u001b[0;32m/Library/anaconda3/envs/learn-env/lib/python3.8/site-packages/sklearn/model_selection/_search.py\u001b[0m in \u001b[0;36m_run_search\u001b[0;34m(self, evaluate_candidates)\u001b[0m\n\u001b[1;32m   1186\u001b[0m     \u001b[0;32mdef\u001b[0m \u001b[0m_run_search\u001b[0m\u001b[0;34m(\u001b[0m\u001b[0mself\u001b[0m\u001b[0;34m,\u001b[0m \u001b[0mevaluate_candidates\u001b[0m\u001b[0;34m)\u001b[0m\u001b[0;34m:\u001b[0m\u001b[0;34m\u001b[0m\u001b[0;34m\u001b[0m\u001b[0m\n\u001b[1;32m   1187\u001b[0m         \u001b[0;34m\"\"\"Search all candidates in param_grid\"\"\"\u001b[0m\u001b[0;34m\u001b[0m\u001b[0;34m\u001b[0m\u001b[0m\n\u001b[0;32m-> 1188\u001b[0;31m         \u001b[0mevaluate_candidates\u001b[0m\u001b[0;34m(\u001b[0m\u001b[0mParameterGrid\u001b[0m\u001b[0;34m(\u001b[0m\u001b[0mself\u001b[0m\u001b[0;34m.\u001b[0m\u001b[0mparam_grid\u001b[0m\u001b[0;34m)\u001b[0m\u001b[0;34m)\u001b[0m\u001b[0;34m\u001b[0m\u001b[0;34m\u001b[0m\u001b[0m\n\u001b[0m\u001b[1;32m   1189\u001b[0m \u001b[0;34m\u001b[0m\u001b[0m\n\u001b[1;32m   1190\u001b[0m \u001b[0;34m\u001b[0m\u001b[0m\n",
      "\u001b[0;32m/Library/anaconda3/envs/learn-env/lib/python3.8/site-packages/sklearn/model_selection/_search.py\u001b[0m in \u001b[0;36mevaluate_candidates\u001b[0;34m(candidate_params)\u001b[0m\n\u001b[1;32m    706\u001b[0m                               n_splits, n_candidates, n_candidates * n_splits))\n\u001b[1;32m    707\u001b[0m \u001b[0;34m\u001b[0m\u001b[0m\n\u001b[0;32m--> 708\u001b[0;31m                 out = parallel(delayed(_fit_and_score)(clone(base_estimator),\n\u001b[0m\u001b[1;32m    709\u001b[0m                                                        \u001b[0mX\u001b[0m\u001b[0;34m,\u001b[0m \u001b[0my\u001b[0m\u001b[0;34m,\u001b[0m\u001b[0;34m\u001b[0m\u001b[0;34m\u001b[0m\u001b[0m\n\u001b[1;32m    710\u001b[0m                                                        \u001b[0mtrain\u001b[0m\u001b[0;34m=\u001b[0m\u001b[0mtrain\u001b[0m\u001b[0;34m,\u001b[0m \u001b[0mtest\u001b[0m\u001b[0;34m=\u001b[0m\u001b[0mtest\u001b[0m\u001b[0;34m,\u001b[0m\u001b[0;34m\u001b[0m\u001b[0;34m\u001b[0m\u001b[0m\n",
      "\u001b[0;32m/Library/anaconda3/envs/learn-env/lib/python3.8/site-packages/joblib/parallel.py\u001b[0m in \u001b[0;36m__call__\u001b[0;34m(self, iterable)\u001b[0m\n\u001b[1;32m   1059\u001b[0m \u001b[0;34m\u001b[0m\u001b[0m\n\u001b[1;32m   1060\u001b[0m             \u001b[0;32mwith\u001b[0m \u001b[0mself\u001b[0m\u001b[0;34m.\u001b[0m\u001b[0m_backend\u001b[0m\u001b[0;34m.\u001b[0m\u001b[0mretrieval_context\u001b[0m\u001b[0;34m(\u001b[0m\u001b[0;34m)\u001b[0m\u001b[0;34m:\u001b[0m\u001b[0;34m\u001b[0m\u001b[0;34m\u001b[0m\u001b[0m\n\u001b[0;32m-> 1061\u001b[0;31m                 \u001b[0mself\u001b[0m\u001b[0;34m.\u001b[0m\u001b[0mretrieve\u001b[0m\u001b[0;34m(\u001b[0m\u001b[0;34m)\u001b[0m\u001b[0;34m\u001b[0m\u001b[0;34m\u001b[0m\u001b[0m\n\u001b[0m\u001b[1;32m   1062\u001b[0m             \u001b[0;31m# Make sure that we get a last message telling us we are done\u001b[0m\u001b[0;34m\u001b[0m\u001b[0;34m\u001b[0m\u001b[0;34m\u001b[0m\u001b[0m\n\u001b[1;32m   1063\u001b[0m             \u001b[0melapsed_time\u001b[0m \u001b[0;34m=\u001b[0m \u001b[0mtime\u001b[0m\u001b[0;34m.\u001b[0m\u001b[0mtime\u001b[0m\u001b[0;34m(\u001b[0m\u001b[0;34m)\u001b[0m \u001b[0;34m-\u001b[0m \u001b[0mself\u001b[0m\u001b[0;34m.\u001b[0m\u001b[0m_start_time\u001b[0m\u001b[0;34m\u001b[0m\u001b[0;34m\u001b[0m\u001b[0m\n",
      "\u001b[0;32m/Library/anaconda3/envs/learn-env/lib/python3.8/site-packages/joblib/parallel.py\u001b[0m in \u001b[0;36mretrieve\u001b[0;34m(self)\u001b[0m\n\u001b[1;32m    938\u001b[0m             \u001b[0;32mtry\u001b[0m\u001b[0;34m:\u001b[0m\u001b[0;34m\u001b[0m\u001b[0;34m\u001b[0m\u001b[0m\n\u001b[1;32m    939\u001b[0m                 \u001b[0;32mif\u001b[0m \u001b[0mgetattr\u001b[0m\u001b[0;34m(\u001b[0m\u001b[0mself\u001b[0m\u001b[0;34m.\u001b[0m\u001b[0m_backend\u001b[0m\u001b[0;34m,\u001b[0m \u001b[0;34m'supports_timeout'\u001b[0m\u001b[0;34m,\u001b[0m \u001b[0;32mFalse\u001b[0m\u001b[0;34m)\u001b[0m\u001b[0;34m:\u001b[0m\u001b[0;34m\u001b[0m\u001b[0;34m\u001b[0m\u001b[0m\n\u001b[0;32m--> 940\u001b[0;31m                     \u001b[0mself\u001b[0m\u001b[0;34m.\u001b[0m\u001b[0m_output\u001b[0m\u001b[0;34m.\u001b[0m\u001b[0mextend\u001b[0m\u001b[0;34m(\u001b[0m\u001b[0mjob\u001b[0m\u001b[0;34m.\u001b[0m\u001b[0mget\u001b[0m\u001b[0;34m(\u001b[0m\u001b[0mtimeout\u001b[0m\u001b[0;34m=\u001b[0m\u001b[0mself\u001b[0m\u001b[0;34m.\u001b[0m\u001b[0mtimeout\u001b[0m\u001b[0;34m)\u001b[0m\u001b[0;34m)\u001b[0m\u001b[0;34m\u001b[0m\u001b[0;34m\u001b[0m\u001b[0m\n\u001b[0m\u001b[1;32m    941\u001b[0m                 \u001b[0;32melse\u001b[0m\u001b[0;34m:\u001b[0m\u001b[0;34m\u001b[0m\u001b[0;34m\u001b[0m\u001b[0m\n\u001b[1;32m    942\u001b[0m                     \u001b[0mself\u001b[0m\u001b[0;34m.\u001b[0m\u001b[0m_output\u001b[0m\u001b[0;34m.\u001b[0m\u001b[0mextend\u001b[0m\u001b[0;34m(\u001b[0m\u001b[0mjob\u001b[0m\u001b[0;34m.\u001b[0m\u001b[0mget\u001b[0m\u001b[0;34m(\u001b[0m\u001b[0;34m)\u001b[0m\u001b[0;34m)\u001b[0m\u001b[0;34m\u001b[0m\u001b[0;34m\u001b[0m\u001b[0m\n",
      "\u001b[0;32m/Library/anaconda3/envs/learn-env/lib/python3.8/site-packages/joblib/_parallel_backends.py\u001b[0m in \u001b[0;36mwrap_future_result\u001b[0;34m(future, timeout)\u001b[0m\n\u001b[1;32m    540\u001b[0m         AsyncResults.get from multiprocessing.\"\"\"\n\u001b[1;32m    541\u001b[0m         \u001b[0;32mtry\u001b[0m\u001b[0;34m:\u001b[0m\u001b[0;34m\u001b[0m\u001b[0;34m\u001b[0m\u001b[0m\n\u001b[0;32m--> 542\u001b[0;31m             \u001b[0;32mreturn\u001b[0m \u001b[0mfuture\u001b[0m\u001b[0;34m.\u001b[0m\u001b[0mresult\u001b[0m\u001b[0;34m(\u001b[0m\u001b[0mtimeout\u001b[0m\u001b[0;34m=\u001b[0m\u001b[0mtimeout\u001b[0m\u001b[0;34m)\u001b[0m\u001b[0;34m\u001b[0m\u001b[0;34m\u001b[0m\u001b[0m\n\u001b[0m\u001b[1;32m    543\u001b[0m         \u001b[0;32mexcept\u001b[0m \u001b[0mCfTimeoutError\u001b[0m \u001b[0;32mas\u001b[0m \u001b[0me\u001b[0m\u001b[0;34m:\u001b[0m\u001b[0;34m\u001b[0m\u001b[0;34m\u001b[0m\u001b[0m\n\u001b[1;32m    544\u001b[0m             \u001b[0;32mraise\u001b[0m \u001b[0mTimeoutError\u001b[0m \u001b[0;32mfrom\u001b[0m \u001b[0me\u001b[0m\u001b[0;34m\u001b[0m\u001b[0;34m\u001b[0m\u001b[0m\n",
      "\u001b[0;32m/Library/anaconda3/envs/learn-env/lib/python3.8/concurrent/futures/_base.py\u001b[0m in \u001b[0;36mresult\u001b[0;34m(self, timeout)\u001b[0m\n\u001b[1;32m    432\u001b[0m                 \u001b[0;32mreturn\u001b[0m \u001b[0mself\u001b[0m\u001b[0;34m.\u001b[0m\u001b[0m__get_result\u001b[0m\u001b[0;34m(\u001b[0m\u001b[0;34m)\u001b[0m\u001b[0;34m\u001b[0m\u001b[0;34m\u001b[0m\u001b[0m\n\u001b[1;32m    433\u001b[0m \u001b[0;34m\u001b[0m\u001b[0m\n\u001b[0;32m--> 434\u001b[0;31m             \u001b[0mself\u001b[0m\u001b[0;34m.\u001b[0m\u001b[0m_condition\u001b[0m\u001b[0;34m.\u001b[0m\u001b[0mwait\u001b[0m\u001b[0;34m(\u001b[0m\u001b[0mtimeout\u001b[0m\u001b[0;34m)\u001b[0m\u001b[0;34m\u001b[0m\u001b[0;34m\u001b[0m\u001b[0m\n\u001b[0m\u001b[1;32m    435\u001b[0m \u001b[0;34m\u001b[0m\u001b[0m\n\u001b[1;32m    436\u001b[0m             \u001b[0;32mif\u001b[0m \u001b[0mself\u001b[0m\u001b[0;34m.\u001b[0m\u001b[0m_state\u001b[0m \u001b[0;32min\u001b[0m \u001b[0;34m[\u001b[0m\u001b[0mCANCELLED\u001b[0m\u001b[0;34m,\u001b[0m \u001b[0mCANCELLED_AND_NOTIFIED\u001b[0m\u001b[0;34m]\u001b[0m\u001b[0;34m:\u001b[0m\u001b[0;34m\u001b[0m\u001b[0;34m\u001b[0m\u001b[0m\n",
      "\u001b[0;32m/Library/anaconda3/envs/learn-env/lib/python3.8/threading.py\u001b[0m in \u001b[0;36mwait\u001b[0;34m(self, timeout)\u001b[0m\n\u001b[1;32m    300\u001b[0m         \u001b[0;32mtry\u001b[0m\u001b[0;34m:\u001b[0m    \u001b[0;31m# restore state no matter what (e.g., KeyboardInterrupt)\u001b[0m\u001b[0;34m\u001b[0m\u001b[0;34m\u001b[0m\u001b[0m\n\u001b[1;32m    301\u001b[0m             \u001b[0;32mif\u001b[0m \u001b[0mtimeout\u001b[0m \u001b[0;32mis\u001b[0m \u001b[0;32mNone\u001b[0m\u001b[0;34m:\u001b[0m\u001b[0;34m\u001b[0m\u001b[0;34m\u001b[0m\u001b[0m\n\u001b[0;32m--> 302\u001b[0;31m                 \u001b[0mwaiter\u001b[0m\u001b[0;34m.\u001b[0m\u001b[0macquire\u001b[0m\u001b[0;34m(\u001b[0m\u001b[0;34m)\u001b[0m\u001b[0;34m\u001b[0m\u001b[0;34m\u001b[0m\u001b[0m\n\u001b[0m\u001b[1;32m    303\u001b[0m                 \u001b[0mgotit\u001b[0m \u001b[0;34m=\u001b[0m \u001b[0;32mTrue\u001b[0m\u001b[0;34m\u001b[0m\u001b[0;34m\u001b[0m\u001b[0m\n\u001b[1;32m    304\u001b[0m             \u001b[0;32melse\u001b[0m\u001b[0;34m:\u001b[0m\u001b[0;34m\u001b[0m\u001b[0;34m\u001b[0m\u001b[0m\n",
      "\u001b[0;31mKeyboardInterrupt\u001b[0m: "
     ]
    }
   ],
   "source": [
    "fpipe_grid.fit(X_train, y_train)\n",
    "\n",
    "fpipe_grid.best_params_"
   ]
  },
  {
   "cell_type": "code",
   "execution_count": 112,
   "metadata": {},
   "outputs": [
    {
     "name": "stdout",
     "output_type": "stream",
     "text": [
      "              precision    recall  f1-score   support\n",
      "\n",
      "          -1       0.01      1.00      0.02        18\n",
      "           0       0.98      0.44      0.61      6217\n",
      "           1       0.22      0.70      0.33       765\n",
      "\n",
      "    accuracy                           0.47      7000\n",
      "   macro avg       0.40      0.71      0.32      7000\n",
      "weighted avg       0.90      0.47      0.58      7000\n",
      "\n"
     ]
    },
    {
     "data": {
      "image/png": "[encoded data removed]",
      "text/plain": [
       "<Figure size 432x288 with 2 Axes>"
      ]
     },
     "metadata": {
      "needs_background": "light"
     },
     "output_type": "display_data"
    }
   ],
   "source": [
    "plot_confusion_matrix(fpipe_grid.best_estimator_, X_test, y_test)\n",
    "\n",
    "print(classification_report(fpipe_grid.best_estimator_.predict(X_test), y_test))"
   ]
  },
  {
   "cell_type": "code",
   "execution_count": null,
   "metadata": {},
   "outputs": [],
   "source": []
  }
 ],
 "metadata": {
  "interpreter": {
   "hash": "dfff5bd0c134f0547de71482d92e26ad9816d2e72735de45c73d9aeb806ef98a"
  },
  "kernelspec": {
   "display_name": "Python 3.8.5 ('learn-env')",
   "language": "python",
   "name": "python3"
  },
  "language_info": {
   "codemirror_mode": {
    "name": "ipython",
    "version": 3
   },
   "file_extension": ".py",
   "mimetype": "text/x-python",
   "name": "python",
   "nbconvert_exporter": "python",
   "pygments_lexer": "ipython3",
   "version": "3.8.5"
  },
  "orig_nbformat": 4
 },
 "nbformat": 4,
 "nbformat_minor": 2
}
