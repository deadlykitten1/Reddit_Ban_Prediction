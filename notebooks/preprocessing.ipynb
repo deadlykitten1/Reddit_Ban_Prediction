{
 "cells": [
  {
   "cell_type": "code",
   "execution_count": 1,
   "metadata": {},
   "outputs": [],
   "source": [
    "import pandas as pd\n",
    "from sklearn.feature_extraction.text import TfidfVectorizer"
   ]
  },
  {
   "cell_type": "code",
   "execution_count": 2,
   "metadata": {},
   "outputs": [],
   "source": [
    "messy_df = pd.read_pickle('../data/messy_df.pkl')"
   ]
  },
  {
   "cell_type": "code",
   "execution_count": 3,
   "metadata": {},
   "outputs": [
    {
     "data": {
      "text/html": [
       "<div>\n",
       "<style scoped>\n",
       "    .dataframe tbody tr th:only-of-type {\n",
       "        vertical-align: middle;\n",
       "    }\n",
       "\n",
       "    .dataframe tbody tr th {\n",
       "        vertical-align: top;\n",
       "    }\n",
       "\n",
       "    .dataframe thead th {\n",
       "        text-align: right;\n",
       "    }\n",
       "</style>\n",
       "<table border=\"1\" class=\"dataframe\">\n",
       "  <thead>\n",
       "    <tr style=\"text-align: right;\">\n",
       "      <th></th>\n",
       "      <th>created_utc</th>\n",
       "      <th>subreddit</th>\n",
       "      <th>subreddit_subscribers</th>\n",
       "      <th>title</th>\n",
       "      <th>text</th>\n",
       "      <th>upvote_ratio</th>\n",
       "      <th>num_comments</th>\n",
       "      <th>url</th>\n",
       "      <th>image?</th>\n",
       "    </tr>\n",
       "  </thead>\n",
       "  <tbody>\n",
       "    <tr>\n",
       "      <th>0</th>\n",
       "      <td>1.502177e+09</td>\n",
       "      <td>TheRedPill</td>\n",
       "      <td>0.0</td>\n",
       "      <td>Google Fires Ph.D Biologist/Engineer For Claim...</td>\n",
       "      <td>As reported in Bloomberg, Google has fired a s...</td>\n",
       "      <td>0.65</td>\n",
       "      <td>840.0</td>\n",
       "      <td>https://www.reddit.com/r/TheRedPill/comments/6...</td>\n",
       "      <td>False</td>\n",
       "    </tr>\n",
       "    <tr>\n",
       "      <th>1</th>\n",
       "      <td>1.480424e+09</td>\n",
       "      <td>TheRedPill</td>\n",
       "      <td>0.0</td>\n",
       "      <td>HOW TO GET LAID LIKE A WARLORD: 37 Rules of Ap...</td>\n",
       "      <td>**A complete guide to picking up 9s and 10s** ...</td>\n",
       "      <td>0.82</td>\n",
       "      <td>759.0</td>\n",
       "      <td>https://www.reddit.com/r/TheRedPill/comments/5...</td>\n",
       "      <td>False</td>\n",
       "    </tr>\n",
       "    <tr>\n",
       "      <th>2</th>\n",
       "      <td>1.502101e+09</td>\n",
       "      <td>TheRedPill</td>\n",
       "      <td>0.0</td>\n",
       "      <td>I have been practicing Stoicism for 3 years no...</td>\n",
       "      <td>**Practical Stoicism Tools**\\n\\nStoicism philo...</td>\n",
       "      <td>0.86</td>\n",
       "      <td>179.0</td>\n",
       "      <td>https://www.reddit.com/r/TheRedPill/comments/6...</td>\n",
       "      <td>False</td>\n",
       "    </tr>\n",
       "    <tr>\n",
       "      <th>3</th>\n",
       "      <td>1.433962e+09</td>\n",
       "      <td>TheRedPill</td>\n",
       "      <td>0.0</td>\n",
       "      <td>[META] Reddit rolls out first ban wave of \"Har...</td>\n",
       "      <td>The most notorious target was FatPeopleHate. Y...</td>\n",
       "      <td>0.87</td>\n",
       "      <td>954.0</td>\n",
       "      <td>https://www.reddit.com/r/TheRedPill/comments/3...</td>\n",
       "      <td>False</td>\n",
       "    </tr>\n",
       "    <tr>\n",
       "      <th>4</th>\n",
       "      <td>1.500270e+09</td>\n",
       "      <td>TheRedPill</td>\n",
       "      <td>0.0</td>\n",
       "      <td>Man gets his ex-GF to pay child support, and R...</td>\n",
       "      <td>Kind of surprised this hasn't made its way her...</td>\n",
       "      <td>0.90</td>\n",
       "      <td>336.0</td>\n",
       "      <td>https://www.reddit.com/r/TheRedPill/comments/6...</td>\n",
       "      <td>False</td>\n",
       "    </tr>\n",
       "  </tbody>\n",
       "</table>\n",
       "</div>"
      ],
      "text/plain": [
       "    created_utc   subreddit  subreddit_subscribers  \\\n",
       "0  1.502177e+09  TheRedPill                    0.0   \n",
       "1  1.480424e+09  TheRedPill                    0.0   \n",
       "2  1.502101e+09  TheRedPill                    0.0   \n",
       "3  1.433962e+09  TheRedPill                    0.0   \n",
       "4  1.500270e+09  TheRedPill                    0.0   \n",
       "\n",
       "                                               title  \\\n",
       "0  Google Fires Ph.D Biologist/Engineer For Claim...   \n",
       "1  HOW TO GET LAID LIKE A WARLORD: 37 Rules of Ap...   \n",
       "2  I have been practicing Stoicism for 3 years no...   \n",
       "3  [META] Reddit rolls out first ban wave of \"Har...   \n",
       "4  Man gets his ex-GF to pay child support, and R...   \n",
       "\n",
       "                                                text  upvote_ratio  \\\n",
       "0  As reported in Bloomberg, Google has fired a s...          0.65   \n",
       "1  **A complete guide to picking up 9s and 10s** ...          0.82   \n",
       "2  **Practical Stoicism Tools**\\n\\nStoicism philo...          0.86   \n",
       "3  The most notorious target was FatPeopleHate. Y...          0.87   \n",
       "4  Kind of surprised this hasn't made its way her...          0.90   \n",
       "\n",
       "   num_comments                                                url  image?  \n",
       "0         840.0  https://www.reddit.com/r/TheRedPill/comments/6...   False  \n",
       "1         759.0  https://www.reddit.com/r/TheRedPill/comments/5...   False  \n",
       "2         179.0  https://www.reddit.com/r/TheRedPill/comments/6...   False  \n",
       "3         954.0  https://www.reddit.com/r/TheRedPill/comments/3...   False  \n",
       "4         336.0  https://www.reddit.com/r/TheRedPill/comments/6...   False  "
      ]
     },
     "execution_count": 3,
     "metadata": {},
     "output_type": "execute_result"
    }
   ],
   "source": [
    "messy_df.head()"
   ]
  },
  {
   "cell_type": "code",
   "execution_count": null,
   "metadata": {},
   "outputs": [],
   "source": [
    "# messy_df['total_text'] = "
   ]
  }
 ],
 "metadata": {
  "interpreter": {
   "hash": "1c7ae5ca7afa47d1c118e1cc9ccaf65a17609b650c517e098aee76b19a0109a3"
  },
  "kernelspec": {
   "display_name": "Python 3.9.7 ('base')",
   "language": "python",
   "name": "python3"
  },
  "language_info": {
   "codemirror_mode": {
    "name": "ipython",
    "version": 3
   },
   "file_extension": ".py",
   "mimetype": "text/x-python",
   "name": "python",
   "nbconvert_exporter": "python",
   "pygments_lexer": "ipython3",
   "version": "3.9.7"
  },
  "orig_nbformat": 4
 },
 "nbformat": 4,
 "nbformat_minor": 2
}
